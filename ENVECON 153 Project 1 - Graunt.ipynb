{
 "cells": [
  {
   "cell_type": "markdown",
   "metadata": {
    "cell_id": "1702564476ac4528ba308c53ad29689f",
    "deepnote_cell_type": "text-cell-h1",
    "formattedRanges": [
     {
      "fromCodePoint": 0,
      "marks": {
       "bold": true
      },
      "toCodePoint": 29,
      "type": "marks"
     }
    ]
   },
   "source": [
    "# EEP 136 Project 1 Deliverable"
   ]
  },
  {
   "cell_type": "markdown",
   "metadata": {
    "cell_id": "3a6186497d604d56b162707977989a09",
    "deepnote_cell_type": "text-cell-p",
    "formattedRanges": [
     {
      "fromCodePoint": 0,
      "marks": {
       "bold": true
      },
      "toCodePoint": 17,
      "type": "marks"
     }
    ]
   },
   "source": [
    "**Group John Graunt**"
   ]
  },
  {
   "cell_type": "markdown",
   "metadata": {
    "cell_id": "647b0bbe1f03413896fedcaf050660f2",
    "deepnote_cell_type": "text-cell-p",
    "formattedRanges": []
   },
   "source": [
    "Introduction: We are Team Graunt, with members:\n",
    "1. Guilherme Hoher - guilherme_hoher@berkeley.edu \n",
    "2. Xiaolong Wang - justinwx@berkeley.edu & https://github.com/Justinwxl\n",
    "3. Shrija Malla - shrija@berkeley.edu & https://github.com/shrija-malla\n",
    "4. Steven Zeng - k1519632@berkeley.edu & https://github.com/zengsteven"
   ]
  },
  {
   "cell_type": "markdown",
   "metadata": {
    "cell_id": "8673596a542e4a6789567d4be0f4106d",
    "deepnote_cell_type": "text-cell-h2",
    "formattedRanges": []
   },
   "source": [
    "## Topics & Goals:"
   ]
  },
  {
   "cell_type": "markdown",
   "metadata": {
    "cell_id": "35a1a834ca024698a29b7396638a95f3",
    "deepnote_cell_type": "text-cell-p",
    "formattedRanges": []
   },
   "source": [
    "Our project focused on analyzing recent population trends in Saudi Arabia. In particular, we focused on migration and work patterns."
   ]
  },
  {
   "cell_type": "markdown",
   "metadata": {
    "cell_id": "7a291404328e451e8d7f399da1740e4a",
    "deepnote_cell_type": "text-cell-p",
    "formattedRanges": []
   },
   "source": [
    "Our project goals included:\n",
    "1. Better understanding possible socioeconomic and cultural reasons for migration in the region.\n",
    "2. Analyzing relationships between other growing interests in the region and migration."
   ]
  },
  {
   "cell_type": "markdown",
   "metadata": {
    "cell_id": "e3f84b764e6f4bad9bab120c7f7824de",
    "deepnote_cell_type": "text-cell-h2",
    "formattedRanges": []
   },
   "source": [
    "## Collaboration:"
   ]
  },
  {
   "cell_type": "markdown",
   "metadata": {
    "cell_id": "455b0f4131164e4b9be748cd1a44e6fa",
    "deepnote_cell_type": "text-cell-p",
    "formattedRanges": []
   },
   "source": [
    "We collaborated using the following tools:"
   ]
  },
  {
   "cell_type": "markdown",
   "metadata": {
    "cell_id": "24ade0ae96d94ea482062b4752038a68",
    "deepnote_cell_type": "text-cell-p",
    "formattedRanges": []
   },
   "source": [
    "1. Google Docs for general asynchronous updates and planning\n",
    "2. Deepnote for collaborative coding\n",
    "3. Datahub for compiling the code to send off to Github"
   ]
  },
  {
   "cell_type": "markdown",
   "metadata": {
    "cell_id": "2cc5bf954ff44305ad4171cdbdc867c7",
    "deepnote_cell_type": "text-cell-h2",
    "formattedRanges": []
   },
   "source": [
    "## Code"
   ]
  },
  {
   "cell_type": "code",
   "execution_count": 72,
   "metadata": {
    "cell_id": "6366ce1a339442ebad03eb7e651f2acb",
    "deepnote_cell_type": "code",
    "execution_context_id": "953aed88-5a4f-4043-939a-2e3d87cfd5c0",
    "execution_millis": 5329,
    "execution_start": 1738900128548,
    "source_hash": "5b937c7e"
   },
   "outputs": [
    {
     "name": "stdout",
     "output_type": "stream",
     "text": [
      "Requirement already satisfied: wbdata in /srv/conda/lib/python3.11/site-packages (1.0.0)\n",
      "Requirement already satisfied: appdirs<2.0,>=1.4 in /srv/conda/lib/python3.11/site-packages (from wbdata) (1.4.4)\n",
      "Requirement already satisfied: backoff<3.0.0,>=2.2.1 in /srv/conda/lib/python3.11/site-packages (from wbdata) (2.2.1)\n",
      "Requirement already satisfied: cachetools<6.0.0,>=5.3.2 in /srv/conda/lib/python3.11/site-packages (from wbdata) (5.5.1)\n",
      "Requirement already satisfied: dateparser<2.0.0,>=1.2.0 in /srv/conda/lib/python3.11/site-packages (from wbdata) (1.2.1)\n",
      "Requirement already satisfied: decorator<6.0.0,>=5.1.1 in /srv/conda/lib/python3.11/site-packages (from wbdata) (5.1.1)\n",
      "Requirement already satisfied: requests<3.0,>=2.0 in /srv/conda/lib/python3.11/site-packages (from wbdata) (2.32.3)\n",
      "Requirement already satisfied: shelved-cache<0.4.0,>=0.3.1 in /srv/conda/lib/python3.11/site-packages (from wbdata) (0.3.1)\n",
      "Requirement already satisfied: tabulate<0.9.0,>=0.8.5 in /srv/conda/lib/python3.11/site-packages (from wbdata) (0.8.10)\n",
      "Requirement already satisfied: python-dateutil>=2.7.0 in /srv/conda/lib/python3.11/site-packages (from dateparser<2.0.0,>=1.2.0->wbdata) (2.9.0.post0)\n",
      "Requirement already satisfied: pytz>=2024.2 in /srv/conda/lib/python3.11/site-packages (from dateparser<2.0.0,>=1.2.0->wbdata) (2025.1)\n",
      "Requirement already satisfied: regex!=2019.02.19,!=2021.8.27,>=2015.06.24 in /srv/conda/lib/python3.11/site-packages (from dateparser<2.0.0,>=1.2.0->wbdata) (2024.11.6)\n",
      "Requirement already satisfied: tzlocal>=0.2 in /srv/conda/lib/python3.11/site-packages (from dateparser<2.0.0,>=1.2.0->wbdata) (5.2)\n",
      "Requirement already satisfied: charset_normalizer<4,>=2 in /srv/conda/lib/python3.11/site-packages (from requests<3.0,>=2.0->wbdata) (3.4.0)\n",
      "Requirement already satisfied: idna<4,>=2.5 in /srv/conda/lib/python3.11/site-packages (from requests<3.0,>=2.0->wbdata) (3.10)\n",
      "Requirement already satisfied: urllib3<3,>=1.21.1 in /srv/conda/lib/python3.11/site-packages (from requests<3.0,>=2.0->wbdata) (2.3.0)\n",
      "Requirement already satisfied: certifi>=2017.4.17 in /srv/conda/lib/python3.11/site-packages (from requests<3.0,>=2.0->wbdata) (2024.12.14)\n",
      "Requirement already satisfied: six>=1.5 in /srv/conda/lib/python3.11/site-packages (from python-dateutil>=2.7.0->dateparser<2.0.0,>=1.2.0->wbdata) (1.17.0)\n",
      "Note: you may need to restart the kernel to use updated packages.\n",
      "Requirement already satisfied: chart-studio in /srv/conda/lib/python3.11/site-packages (1.1.0)\n",
      "Requirement already satisfied: plotly in /srv/conda/lib/python3.11/site-packages (from chart-studio) (5.24.1)\n",
      "Requirement already satisfied: requests in /srv/conda/lib/python3.11/site-packages (from chart-studio) (2.32.3)\n",
      "Requirement already satisfied: retrying>=1.3.3 in /srv/conda/lib/python3.11/site-packages (from chart-studio) (1.3.4)\n",
      "Requirement already satisfied: six in /srv/conda/lib/python3.11/site-packages (from chart-studio) (1.17.0)\n",
      "Requirement already satisfied: tenacity>=6.2.0 in /srv/conda/lib/python3.11/site-packages (from plotly->chart-studio) (9.0.0)\n",
      "Requirement already satisfied: packaging in /srv/conda/lib/python3.11/site-packages (from plotly->chart-studio) (24.2)\n",
      "Requirement already satisfied: charset_normalizer<4,>=2 in /srv/conda/lib/python3.11/site-packages (from requests->chart-studio) (3.4.0)\n",
      "Requirement already satisfied: idna<4,>=2.5 in /srv/conda/lib/python3.11/site-packages (from requests->chart-studio) (3.10)\n",
      "Requirement already satisfied: urllib3<3,>=1.21.1 in /srv/conda/lib/python3.11/site-packages (from requests->chart-studio) (2.3.0)\n",
      "Requirement already satisfied: certifi>=2017.4.17 in /srv/conda/lib/python3.11/site-packages (from requests->chart-studio) (2024.12.14)\n",
      "Note: you may need to restart the kernel to use updated packages.\n",
      "Requirement already satisfied: pip in /srv/conda/lib/python3.11/site-packages (25.0)\n",
      "Note: you may need to restart the kernel to use updated packages.\n"
     ]
    }
   ],
   "source": [
    "##Installing Data and Tools\n",
    "%pip install wbdata\n",
    "%pip install chart-studio\n",
    "%pip install --upgrade pip\n",
    "%matplotlib notebook\n",
    "%matplotlib inline\n",
    "import wbdata\n",
    "import pandas as pd\n",
    "import numpy as np\n",
    "import matplotlib.pyplot as plt\n",
    "import plotly.graph_objects as go\n",
    "import plotly.offline as pyo"
   ]
  },
  {
   "cell_type": "markdown",
   "metadata": {
    "cell_id": "1fa342bb33fa470f90bcc2122b680349",
    "deepnote_cell_type": "text-cell-h1",
    "formattedRanges": []
   },
   "source": [
    "# Deliverable 1: Population Statistics"
   ]
  },
  {
   "cell_type": "markdown",
   "metadata": {
    "cell_id": "ff48ef10bb8c43ceb3aa8c3bcb7f4899",
    "deepnote_cell_type": "text-cell-p",
    "formattedRanges": [
     {
      "fromCodePoint": 71,
      "ranges": [],
      "toCodePoint": 78,
      "type": "link",
      "url": "https://chatgpt.com/share/679b186c-fe74-8000-90e7-3bf390089c2b"
     }
    ]
   },
   "source": [
    "Inspiration from a previous project 1 from John Gaunt and support from ChatGPT."
   ]
  },
  {
   "cell_type": "code",
   "execution_count": 63,
   "metadata": {
    "cell_id": "0fd0076f22a44f49b559d3fa96a578b8",
    "deepnote_cell_type": "code",
    "execution_context_id": "953aed88-5a4f-4043-939a-2e3d87cfd5c0",
    "execution_millis": 314,
    "execution_start": 1738900134036,
    "source_hash": "6b85c8e5"
   },
   "outputs": [
    {
     "name": "stdout",
     "output_type": "stream",
     "text": [
      "In 2002, 102,432,000 people aged 0 to 4 were living in China.\n",
      "In 2020, 23,071,238 females aged 10 to 19 were living in United States.\n",
      "In 2023, 1,289,900,160 people aged 20 to 29 were living in the world.\n",
      "In 2023, 46,888,085 people aged 65 to 85 were living in the United States.\n",
      "In 1975, 368,618 people aged 5 to 7 were living in Rwanda.\n"
     ]
    }
   ],
   "source": [
    "import pandas as pd\n",
    "import requests\n",
    "\n",
    "def get_country_code(country_name):\n",
    "    \"\"\"\n",
    "    Convert country name -> World Bank ISO3 country code.\n",
    "    \"\"\"\n",
    "    url = \"https://api.worldbank.org/v2/country?format=json&per_page=300\"\n",
    "    response = requests.get(url)\n",
    "    response.raise_for_status()\n",
    "    data = response.json()\n",
    "    \n",
    "    for country in data[1]:\n",
    "        if country[\"name\"].strip().lower() == country_name.strip().lower():\n",
    "            return country[\"id\"]\n",
    "    \n",
    "    return None\n",
    "\n",
    "def get_age_distribution(country_code, year):\n",
    "    \"\"\"\n",
    "    Mock function to return age distribution percentages for a given country and year.\n",
    "    This should ideally be replaced with real data from a reliable demographic source.\n",
    "    \"\"\"\n",
    "    age_distributions = {\n",
    "        \"WLD\": {0: 8, 5: 8, 10: 9, 15: 9, 20: 8, 25: 8, 30: 7, 35: 7,\n",
    "                 40: 6, 45: 6, 50: 5, 55: 5, 60: 4, 65: 4, 70: 3, 75: 2,\n",
    "                 80: 2, 85: 1},\n",
    "        \"USA\": {0: 6, 5: 6, 10: 7, 15: 7, 20: 7, 25: 7, 30: 6, 35: 6,\n",
    "                 40: 6, 45: 6, 50: 6, 55: 5, 60: 5, 65: 4, 70: 3, 75: 3,\n",
    "                 80: 2, 85: 2}\n",
    "    }\n",
    "    return age_distributions.get(country_code, age_distributions[\"WLD\"])\n",
    "\n",
    "def estimate_population_in_age_range(total_population, age_range, age_distribution):\n",
    "    \"\"\"\n",
    "    Estimate the population within the specified age range based on the age distribution.\n",
    "    \"\"\"\n",
    "    lower, upper = age_range\n",
    "    total_percentage = sum(v for k, v in age_distribution.items() if lower <= k <= upper)\n",
    "    return int((total_percentage / 100) * total_population)\n",
    "\n",
    "def population(year, sex, age_range, location):\n",
    "    \"\"\"\n",
    "    Get the estimated population of a given country (or the world) based on year, sex, and age range.\n",
    "    Returns a formatted string with the result.\n",
    "    \"\"\"\n",
    "    \n",
    "    sex = sex.lower().strip()\n",
    "    sex_indicators = {\n",
    "        \"people\": \"SP.POP.TOTL\", \"p\": \"SP.POP.TOTL\", \"all\": \"SP.POP.TOTL\", \"everyone\": \"SP.POP.TOTL\",\n",
    "        \"male\": \"SP.POP.TOTL.MA.IN\", \"males\": \"SP.POP.TOTL.MA.IN\", \"m\": \"SP.POP.TOTL.MA.IN\", \"ma\": \"SP.POP.TOTL.MA.IN\",\n",
    "        \"female\": \"SP.POP.TOTL.FE.IN\", \"females\": \"SP.POP.TOTL.FE.IN\", \"f\": \"SP.POP.TOTL.FE.IN\", \"fe\": \"SP.POP.TOTL.FE.IN\"\n",
    "    }\n",
    "    \n",
    "    indicator = sex_indicators.get(sex, None)\n",
    "    if indicator is None:\n",
    "        return None\n",
    "    \n",
    "    if location.strip().lower() in [\"world\", \"wld\"]:\n",
    "        country_code = \"WLD\"\n",
    "        location_name = \"the world\"\n",
    "    elif location.strip().lower() == \"usa\":\n",
    "        country_code = \"USA\"\n",
    "        location_name = \"the United States\"\n",
    "    else:\n",
    "        country_code = get_country_code(location)\n",
    "        location_name = location\n",
    "    \n",
    "    if not country_code:\n",
    "        return None\n",
    "    \n",
    "    url = f\"https://api.worldbank.org/v2/country/{country_code}/indicator/{indicator}?date={year}&format=json\"\n",
    "    response = requests.get(url)\n",
    "    response.raise_for_status()\n",
    "    data = response.json()\n",
    "    \n",
    "    total_population = data[1][0].get(\"value\", None)\n",
    "    if total_population is None:\n",
    "        return None\n",
    "    \n",
    "    age_distribution = get_age_distribution(country_code, year)\n",
    "    estimated_population = estimate_population_in_age_range(total_population, age_range, age_distribution)\n",
    "\n",
    "    sex_label = \"people\" if sex in [\"p\", \"people\", \"everyone\", \"all\"] else \"males\" if sex.startswith(\"m\") else \"females\"\n",
    "    lower, upper = age_range\n",
    "\n",
    "    return f\"In {year}, {estimated_population:,} {sex_label} aged {lower} to {upper} were living in {location_name}.\"\n",
    "\n",
    "# Example queries:\n",
    "print(population(2002, \"p\", [0, 4], \"China\"))\n",
    "print(population(2020, \"females\", [10, 19], \"United States\"))\n",
    "print(population(2023, \"everyone\", [20, 29], \"WLD\"))\n",
    "print(population(2023, \"everyone\", [65, 85], \"USA\"))\n",
    "print(population(1975, \"People\", [5, 7], \"Rwanda\"))"
   ]
  },
  {
   "cell_type": "markdown",
   "metadata": {
    "cell_id": "1fa342bb33fa470f90bcc2122b680349",
    "deepnote_cell_type": "text-cell-h1",
    "formattedRanges": []
   },
   "source": [
    "# Deliverable 2: Unit Testing"
   ]
  },
  {
   "cell_type": "code",
   "execution_count": 64,
   "metadata": {},
   "outputs": [],
   "source": [
    "##UNIT TESTING\n",
    "##Unit Test for each function"
   ]
  },
  {
   "cell_type": "code",
   "execution_count": 65,
   "metadata": {},
   "outputs": [
    {
     "name": "stdout",
     "output_type": "stream",
     "text": [
      "True\n"
     ]
    }
   ],
   "source": [
    "##Test will pass if it returns true \n",
    "result = population(2002, \"p\", [0, 100], \"China\")\n",
    "population_amount = int(result.split()[2].replace(\",\", \"\"))  #get population\n",
    "print(\"True\" if population_amount < 3024320000 else \"Population wrong\") ##there's less than 3billion ppl in china in 2002 "
   ]
  },
  {
   "cell_type": "markdown",
   "metadata": {
    "cell_id": "1fa342bb33fa470f90bcc2122b680349",
    "deepnote_cell_type": "text-cell-h1",
    "formattedRanges": []
   },
   "source": [
    "# Deliverable 3: Population DF"
   ]
  },
  {
   "cell_type": "markdown",
   "metadata": {
    "cell_id": "9a072765d21744bfad1cf2c02b9776cb",
    "deepnote_cell_type": "text-cell-p",
    "formattedRanges": []
   },
   "source": [
    "Population breakdown function returns population data for multiple countries and years, segmented by age buckets (0-4, 5-9, 10-14...) and by sex as Make or Female. Data slicing put in place to segment pandas DF output into single countries, years, or age ranges."
   ]
  },
  {
   "cell_type": "code",
   "execution_count": 66,
   "metadata": {
    "cell_id": "0e6ad177cb744eea9058e16f779a8604",
    "deepnote_cell_type": "code",
    "deepnote_to_be_reexecuted": true,
    "execution_context_id": "92e75c94-3350-41e6-971b-7ade84e195b8",
    "execution_millis": 391,
    "execution_start": 1738871198554,
    "source_hash": "2c444fdb"
   },
   "outputs": [
    {
     "data": {
      "text/html": [
       "<div>\n",
       "<style scoped>\n",
       "    .dataframe tbody tr th:only-of-type {\n",
       "        vertical-align: middle;\n",
       "    }\n",
       "\n",
       "    .dataframe tbody tr th {\n",
       "        vertical-align: top;\n",
       "    }\n",
       "\n",
       "    .dataframe thead th {\n",
       "        text-align: right;\n",
       "    }\n",
       "</style>\n",
       "<table border=\"1\" class=\"dataframe\">\n",
       "  <thead>\n",
       "    <tr style=\"text-align: right;\">\n",
       "      <th></th>\n",
       "      <th></th>\n",
       "      <th>Ages from: 00 to 04, Sex:MA</th>\n",
       "      <th>Ages from: 00 to 04, Sex:FE</th>\n",
       "      <th>Ages from: 05 to 09, Sex:MA</th>\n",
       "      <th>Ages from: 05 to 09, Sex:FE</th>\n",
       "      <th>Ages from: 10 to 14, Sex:MA</th>\n",
       "      <th>Ages from: 10 to 14, Sex:FE</th>\n",
       "      <th>Ages from: 15 to 19, Sex:MA</th>\n",
       "      <th>Ages from: 15 to 19, Sex:FE</th>\n",
       "      <th>Ages from: 20 to 24, Sex:MA</th>\n",
       "      <th>Ages from: 20 to 24, Sex:FE</th>\n",
       "      <th>...</th>\n",
       "      <th>Ages from: 60 to 64, Sex:MA</th>\n",
       "      <th>Ages from: 60 to 64, Sex:FE</th>\n",
       "      <th>Ages from: 65 to 69, Sex:MA</th>\n",
       "      <th>Ages from: 65 to 69, Sex:FE</th>\n",
       "      <th>Ages from: 70 to 74, Sex:MA</th>\n",
       "      <th>Ages from: 70 to 74, Sex:FE</th>\n",
       "      <th>Ages from: 75 to 79, Sex:MA</th>\n",
       "      <th>Ages from: 75 to 79, Sex:FE</th>\n",
       "      <th>Ages from: 80 to UP, Sex:MA</th>\n",
       "      <th>Ages from: 80 to UP, Sex:FE</th>\n",
       "    </tr>\n",
       "    <tr>\n",
       "      <th>country</th>\n",
       "      <th>date</th>\n",
       "      <th></th>\n",
       "      <th></th>\n",
       "      <th></th>\n",
       "      <th></th>\n",
       "      <th></th>\n",
       "      <th></th>\n",
       "      <th></th>\n",
       "      <th></th>\n",
       "      <th></th>\n",
       "      <th></th>\n",
       "      <th></th>\n",
       "      <th></th>\n",
       "      <th></th>\n",
       "      <th></th>\n",
       "      <th></th>\n",
       "      <th></th>\n",
       "      <th></th>\n",
       "      <th></th>\n",
       "      <th></th>\n",
       "      <th></th>\n",
       "      <th></th>\n",
       "    </tr>\n",
       "  </thead>\n",
       "  <tbody>\n",
       "    <tr>\n",
       "      <th rowspan=\"3\" valign=\"top\">Saudi Arabia</th>\n",
       "      <th>2021</th>\n",
       "      <td>1338260.0</td>\n",
       "      <td>1288007.0</td>\n",
       "      <td>1368825.0</td>\n",
       "      <td>1315098.0</td>\n",
       "      <td>1246922.0</td>\n",
       "      <td>1202549.0</td>\n",
       "      <td>1083420.0</td>\n",
       "      <td>1037470.0</td>\n",
       "      <td>1422529.0</td>\n",
       "      <td>1016048.0</td>\n",
       "      <td>...</td>\n",
       "      <td>375467.0</td>\n",
       "      <td>232347.0</td>\n",
       "      <td>183333.0</td>\n",
       "      <td>138080.0</td>\n",
       "      <td>122526.0</td>\n",
       "      <td>97501.0</td>\n",
       "      <td>75528.0</td>\n",
       "      <td>64689.0</td>\n",
       "      <td>59449.0</td>\n",
       "      <td>64999.0</td>\n",
       "    </tr>\n",
       "    <tr>\n",
       "      <th>2022</th>\n",
       "      <td>1332951.0</td>\n",
       "      <td>1282020.0</td>\n",
       "      <td>1403004.0</td>\n",
       "      <td>1350516.0</td>\n",
       "      <td>1305949.0</td>\n",
       "      <td>1254991.0</td>\n",
       "      <td>1155021.0</td>\n",
       "      <td>1104753.0</td>\n",
       "      <td>1486845.0</td>\n",
       "      <td>1064004.0</td>\n",
       "      <td>...</td>\n",
       "      <td>405762.0</td>\n",
       "      <td>252960.0</td>\n",
       "      <td>202753.0</td>\n",
       "      <td>151258.0</td>\n",
       "      <td>129388.0</td>\n",
       "      <td>103764.0</td>\n",
       "      <td>80950.0</td>\n",
       "      <td>69555.0</td>\n",
       "      <td>62447.0</td>\n",
       "      <td>69419.0</td>\n",
       "    </tr>\n",
       "    <tr>\n",
       "      <th>2023</th>\n",
       "      <td>1333324.0</td>\n",
       "      <td>1279886.0</td>\n",
       "      <td>1408136.0</td>\n",
       "      <td>1357176.0</td>\n",
       "      <td>1347854.0</td>\n",
       "      <td>1289467.0</td>\n",
       "      <td>1212291.0</td>\n",
       "      <td>1159295.0</td>\n",
       "      <td>1453171.0</td>\n",
       "      <td>1100386.0</td>\n",
       "      <td>...</td>\n",
       "      <td>448387.0</td>\n",
       "      <td>271267.0</td>\n",
       "      <td>230572.0</td>\n",
       "      <td>166844.0</td>\n",
       "      <td>133361.0</td>\n",
       "      <td>107835.0</td>\n",
       "      <td>86430.0</td>\n",
       "      <td>73768.0</td>\n",
       "      <td>66050.0</td>\n",
       "      <td>73028.0</td>\n",
       "    </tr>\n",
       "    <tr>\n",
       "      <th rowspan=\"3\" valign=\"top\">World</th>\n",
       "      <th>2021</th>\n",
       "      <td>345189042.0</td>\n",
       "      <td>326599774.0</td>\n",
       "      <td>355703002.0</td>\n",
       "      <td>334286684.0</td>\n",
       "      <td>344122479.0</td>\n",
       "      <td>322405880.0</td>\n",
       "      <td>324017775.0</td>\n",
       "      <td>304485535.0</td>\n",
       "      <td>312601224.0</td>\n",
       "      <td>294298208.0</td>\n",
       "      <td>...</td>\n",
       "      <td>154831165.0</td>\n",
       "      <td>165292891.0</td>\n",
       "      <td>129139177.0</td>\n",
       "      <td>144946891.0</td>\n",
       "      <td>91827555.0</td>\n",
       "      <td>108698089.0</td>\n",
       "      <td>56214775.0</td>\n",
       "      <td>71377606.0</td>\n",
       "      <td>57884154.0</td>\n",
       "      <td>94593661.0</td>\n",
       "    </tr>\n",
       "    <tr>\n",
       "      <th>2022</th>\n",
       "      <td>339582664.0</td>\n",
       "      <td>321831779.0</td>\n",
       "      <td>355425122.0</td>\n",
       "      <td>334457151.0</td>\n",
       "      <td>347895623.0</td>\n",
       "      <td>325923635.0</td>\n",
       "      <td>327019295.0</td>\n",
       "      <td>307283141.0</td>\n",
       "      <td>314174911.0</td>\n",
       "      <td>295926471.0</td>\n",
       "      <td>...</td>\n",
       "      <td>156823861.0</td>\n",
       "      <td>167203938.0</td>\n",
       "      <td>132342870.0</td>\n",
       "      <td>148358492.0</td>\n",
       "      <td>95533321.0</td>\n",
       "      <td>113533630.0</td>\n",
       "      <td>58615814.0</td>\n",
       "      <td>74239641.0</td>\n",
       "      <td>59158601.0</td>\n",
       "      <td>96340169.0</td>\n",
       "    </tr>\n",
       "    <tr>\n",
       "      <th>2023</th>\n",
       "      <td>334765288.0</td>\n",
       "      <td>317720103.0</td>\n",
       "      <td>353677898.0</td>\n",
       "      <td>333286965.0</td>\n",
       "      <td>350908323.0</td>\n",
       "      <td>328854130.0</td>\n",
       "      <td>330734289.0</td>\n",
       "      <td>310627065.0</td>\n",
       "      <td>315810689.0</td>\n",
       "      <td>297607203.0</td>\n",
       "      <td>...</td>\n",
       "      <td>162420898.0</td>\n",
       "      <td>172758277.0</td>\n",
       "      <td>135500657.0</td>\n",
       "      <td>151572611.0</td>\n",
       "      <td>99573175.0</td>\n",
       "      <td>118632451.0</td>\n",
       "      <td>61764493.0</td>\n",
       "      <td>78182123.0</td>\n",
       "      <td>60745503.0</td>\n",
       "      <td>98504674.0</td>\n",
       "    </tr>\n",
       "  </tbody>\n",
       "</table>\n",
       "<p>6 rows × 34 columns</p>\n",
       "</div>"
      ],
      "text/plain": [
       "                   Ages from: 00 to 04, Sex:MA  Ages from: 00 to 04, Sex:FE  \\\n",
       "country      date                                                             \n",
       "Saudi Arabia 2021                    1338260.0                    1288007.0   \n",
       "             2022                    1332951.0                    1282020.0   \n",
       "             2023                    1333324.0                    1279886.0   \n",
       "World        2021                  345189042.0                  326599774.0   \n",
       "             2022                  339582664.0                  321831779.0   \n",
       "             2023                  334765288.0                  317720103.0   \n",
       "\n",
       "                   Ages from: 05 to 09, Sex:MA  Ages from: 05 to 09, Sex:FE  \\\n",
       "country      date                                                             \n",
       "Saudi Arabia 2021                    1368825.0                    1315098.0   \n",
       "             2022                    1403004.0                    1350516.0   \n",
       "             2023                    1408136.0                    1357176.0   \n",
       "World        2021                  355703002.0                  334286684.0   \n",
       "             2022                  355425122.0                  334457151.0   \n",
       "             2023                  353677898.0                  333286965.0   \n",
       "\n",
       "                   Ages from: 10 to 14, Sex:MA  Ages from: 10 to 14, Sex:FE  \\\n",
       "country      date                                                             \n",
       "Saudi Arabia 2021                    1246922.0                    1202549.0   \n",
       "             2022                    1305949.0                    1254991.0   \n",
       "             2023                    1347854.0                    1289467.0   \n",
       "World        2021                  344122479.0                  322405880.0   \n",
       "             2022                  347895623.0                  325923635.0   \n",
       "             2023                  350908323.0                  328854130.0   \n",
       "\n",
       "                   Ages from: 15 to 19, Sex:MA  Ages from: 15 to 19, Sex:FE  \\\n",
       "country      date                                                             \n",
       "Saudi Arabia 2021                    1083420.0                    1037470.0   \n",
       "             2022                    1155021.0                    1104753.0   \n",
       "             2023                    1212291.0                    1159295.0   \n",
       "World        2021                  324017775.0                  304485535.0   \n",
       "             2022                  327019295.0                  307283141.0   \n",
       "             2023                  330734289.0                  310627065.0   \n",
       "\n",
       "                   Ages from: 20 to 24, Sex:MA  Ages from: 20 to 24, Sex:FE  \\\n",
       "country      date                                                             \n",
       "Saudi Arabia 2021                    1422529.0                    1016048.0   \n",
       "             2022                    1486845.0                    1064004.0   \n",
       "             2023                    1453171.0                    1100386.0   \n",
       "World        2021                  312601224.0                  294298208.0   \n",
       "             2022                  314174911.0                  295926471.0   \n",
       "             2023                  315810689.0                  297607203.0   \n",
       "\n",
       "                   ...  Ages from: 60 to 64, Sex:MA  \\\n",
       "country      date  ...                                \n",
       "Saudi Arabia 2021  ...                     375467.0   \n",
       "             2022  ...                     405762.0   \n",
       "             2023  ...                     448387.0   \n",
       "World        2021  ...                  154831165.0   \n",
       "             2022  ...                  156823861.0   \n",
       "             2023  ...                  162420898.0   \n",
       "\n",
       "                   Ages from: 60 to 64, Sex:FE  Ages from: 65 to 69, Sex:MA  \\\n",
       "country      date                                                             \n",
       "Saudi Arabia 2021                     232347.0                     183333.0   \n",
       "             2022                     252960.0                     202753.0   \n",
       "             2023                     271267.0                     230572.0   \n",
       "World        2021                  165292891.0                  129139177.0   \n",
       "             2022                  167203938.0                  132342870.0   \n",
       "             2023                  172758277.0                  135500657.0   \n",
       "\n",
       "                   Ages from: 65 to 69, Sex:FE  Ages from: 70 to 74, Sex:MA  \\\n",
       "country      date                                                             \n",
       "Saudi Arabia 2021                     138080.0                     122526.0   \n",
       "             2022                     151258.0                     129388.0   \n",
       "             2023                     166844.0                     133361.0   \n",
       "World        2021                  144946891.0                   91827555.0   \n",
       "             2022                  148358492.0                   95533321.0   \n",
       "             2023                  151572611.0                   99573175.0   \n",
       "\n",
       "                   Ages from: 70 to 74, Sex:FE  Ages from: 75 to 79, Sex:MA  \\\n",
       "country      date                                                             \n",
       "Saudi Arabia 2021                      97501.0                      75528.0   \n",
       "             2022                     103764.0                      80950.0   \n",
       "             2023                     107835.0                      86430.0   \n",
       "World        2021                  108698089.0                   56214775.0   \n",
       "             2022                  113533630.0                   58615814.0   \n",
       "             2023                  118632451.0                   61764493.0   \n",
       "\n",
       "                   Ages from: 75 to 79, Sex:FE  Ages from: 80 to UP, Sex:MA  \\\n",
       "country      date                                                             \n",
       "Saudi Arabia 2021                      64689.0                      59449.0   \n",
       "             2022                      69555.0                      62447.0   \n",
       "             2023                      73768.0                      66050.0   \n",
       "World        2021                   71377606.0                   57884154.0   \n",
       "             2022                   74239641.0                   59158601.0   \n",
       "             2023                   78182123.0                   60745503.0   \n",
       "\n",
       "                   Ages from: 80 to UP, Sex:FE  \n",
       "country      date                               \n",
       "Saudi Arabia 2021                      64999.0  \n",
       "             2022                      69419.0  \n",
       "             2023                      73028.0  \n",
       "World        2021                   94593661.0  \n",
       "             2022                   96340169.0  \n",
       "             2023                   98504674.0  \n",
       "\n",
       "[6 rows x 34 columns]"
      ]
     },
     "execution_count": 66,
     "metadata": {},
     "output_type": "execute_result"
    }
   ],
   "source": [
    "def population_breakdown(country, year):\n",
    "    if isinstance(country, str):\n",
    "        country = [country]\n",
    "    mydict = {}\n",
    "    ages = [\"0004\", \"0509\", \"1014\", \"1519\", \"2024\", \"2529\", \"3034\", \"3539\", \"4044\", \"4549\", \"5054\", \"5559\", \"6064\", \"6569\", \"7074\", \"7579\", \"80UP\"]\n",
    "    mfs = [\"MA\", \"FE\"]\n",
    "    for age in ages:\n",
    "        for mf in mfs:\n",
    "            mydict[\"SP.POP.\" + age + \".\" + mf] = \"Ages from: \" + age[0:2] + \" to \" + age[2:4] + \", Sex:\" + mf\n",
    "    variable_labels = mydict\n",
    "    world = wbdata.get_dataframe(variable_labels, country=country, parse_dates=False)\n",
    "    if isinstance(year, int):\n",
    "        if isinstance(world.index, pd.MultiIndex):\n",
    "            world.index = world.index.set_levels(world.index.levels[1].astype(int), level=1)\n",
    "            world = world.sort_index()\n",
    "            return world.loc[pd.IndexSlice[:, year], :]\n",
    "        else:\n",
    "            return world.loc[str(year)].to_frame().T\n",
    "    elif isinstance(year, (list, tuple)) and len(year) == 2:\n",
    "        start, end = year\n",
    "        if isinstance(world.index, pd.MultiIndex):\n",
    "            world.index = world.index.set_levels(world.index.levels[1].astype(int), level=1)\n",
    "            world = world.sort_index()\n",
    "            return world.loc[pd.IndexSlice[:, start:end], :]\n",
    "        else:\n",
    "            world.index = world.index.astype(int)\n",
    "            world = world.sort_index()\n",
    "            return world.loc[start:end]\n",
    "\n",
    "df = population_breakdown([\"SAU\",\"WLD\"], [2021, 2023])\n",
    "\n",
    "row = df.loc[(\"Saudi Arabia\", 2022)]\n",
    "\n",
    "country_data = df.xs(\"Saudi Arabia\", level=0)\n",
    "\n",
    "year_data = df.xs(2022, level=1)\n",
    "\n",
    "column = df[\"Ages from: 00 to 04, Sex:MA\"]\n",
    "\n",
    "df"
   ]
  },
  {
   "cell_type": "markdown",
   "metadata": {
    "cell_id": "1fa342bb33fa470f90bcc2122b680349",
    "deepnote_cell_type": "text-cell-h1",
    "formattedRanges": []
   },
   "source": [
    "# Deliverable 4: Population Pyramid"
   ]
  },
  {
   "cell_type": "code",
   "execution_count": 67,
   "metadata": {},
   "outputs": [
    {
     "data": {
      "text/html": [
       "        <script type=\"text/javascript\">\n",
       "        window.PlotlyConfig = {MathJaxConfig: 'local'};\n",
       "        if (window.MathJax && window.MathJax.Hub && window.MathJax.Hub.Config) {window.MathJax.Hub.Config({SVG: {font: \"STIX-Web\"}});}\n",
       "        if (typeof require !== 'undefined') {\n",
       "        require.undef(\"plotly\");\n",
       "        requirejs.config({\n",
       "            paths: {\n",
       "                'plotly': ['https://cdn.plot.ly/plotly-2.35.2.min']\n",
       "            }\n",
       "        });\n",
       "        require(['plotly'], function(Plotly) {\n",
       "            window._Plotly = Plotly;\n",
       "        });\n",
       "        }\n",
       "        </script>\n",
       "        "
      ]
     },
     "metadata": {},
     "output_type": "display_data"
    },
    {
     "data": {
      "application/vnd.plotly.v1+json": {
       "config": {
        "linkText": "Export to plot.ly",
        "plotlyServerURL": "https://plot.ly",
        "showLink": false
       },
       "data": [
        {
         "hoverinfo": "x+y",
         "marker": {
          "color": "#4C72B0"
         },
         "name": "Men",
         "orientation": "h",
         "type": "bar",
         "x": [
          1249301,
          1096352,
          1117157,
          1502603,
          1963476,
          1924160,
          1516732,
          1177406,
          968323,
          749507,
          534577,
          338597,
          199586,
          137143,
          86511,
          51572,
          39142
         ],
         "y": [
          2,
          7,
          12,
          17,
          22,
          27,
          32,
          37,
          42,
          47,
          52,
          57,
          62,
          67,
          72,
          77,
          82
         ]
        },
        {
         "hoverinfo": "x+y",
         "marker": {
          "color": "#DD8452"
         },
         "name": "Women",
         "orientation": "h",
         "type": "bar",
         "x": [
          -1162106,
          -1018409,
          -980633,
          -1066853,
          -1114922,
          -957661,
          -738483,
          -569255,
          -463098,
          -369772,
          -283682,
          -199683,
          -141466,
          -100625,
          -70011,
          -46637,
          -43048
         ],
         "y": [
          2,
          7,
          12,
          17,
          22,
          27,
          32,
          37,
          42,
          47,
          52,
          57,
          62,
          67,
          72,
          77,
          82
         ]
        }
       ],
       "layout": {
        "barmode": "overlay",
        "font": {
         "color": "#333333",
         "family": "Arial, sans-serif",
         "size": 14
        },
        "paper_bgcolor": "#F7F7F7",
        "plot_bgcolor": "#FFFFFF",
        "showlegend": true,
        "template": {
         "data": {
          "bar": [
           {
            "error_x": {
             "color": "#2a3f5f"
            },
            "error_y": {
             "color": "#2a3f5f"
            },
            "marker": {
             "line": {
              "color": "#E5ECF6",
              "width": 0.5
             },
             "pattern": {
              "fillmode": "overlay",
              "size": 10,
              "solidity": 0.2
             }
            },
            "type": "bar"
           }
          ],
          "barpolar": [
           {
            "marker": {
             "line": {
              "color": "#E5ECF6",
              "width": 0.5
             },
             "pattern": {
              "fillmode": "overlay",
              "size": 10,
              "solidity": 0.2
             }
            },
            "type": "barpolar"
           }
          ],
          "carpet": [
           {
            "aaxis": {
             "endlinecolor": "#2a3f5f",
             "gridcolor": "white",
             "linecolor": "white",
             "minorgridcolor": "white",
             "startlinecolor": "#2a3f5f"
            },
            "baxis": {
             "endlinecolor": "#2a3f5f",
             "gridcolor": "white",
             "linecolor": "white",
             "minorgridcolor": "white",
             "startlinecolor": "#2a3f5f"
            },
            "type": "carpet"
           }
          ],
          "choropleth": [
           {
            "colorbar": {
             "outlinewidth": 0,
             "ticks": ""
            },
            "type": "choropleth"
           }
          ],
          "contour": [
           {
            "colorbar": {
             "outlinewidth": 0,
             "ticks": ""
            },
            "colorscale": [
             [
              0,
              "#0d0887"
             ],
             [
              0.1111111111111111,
              "#46039f"
             ],
             [
              0.2222222222222222,
              "#7201a8"
             ],
             [
              0.3333333333333333,
              "#9c179e"
             ],
             [
              0.4444444444444444,
              "#bd3786"
             ],
             [
              0.5555555555555556,
              "#d8576b"
             ],
             [
              0.6666666666666666,
              "#ed7953"
             ],
             [
              0.7777777777777778,
              "#fb9f3a"
             ],
             [
              0.8888888888888888,
              "#fdca26"
             ],
             [
              1,
              "#f0f921"
             ]
            ],
            "type": "contour"
           }
          ],
          "contourcarpet": [
           {
            "colorbar": {
             "outlinewidth": 0,
             "ticks": ""
            },
            "type": "contourcarpet"
           }
          ],
          "heatmap": [
           {
            "colorbar": {
             "outlinewidth": 0,
             "ticks": ""
            },
            "colorscale": [
             [
              0,
              "#0d0887"
             ],
             [
              0.1111111111111111,
              "#46039f"
             ],
             [
              0.2222222222222222,
              "#7201a8"
             ],
             [
              0.3333333333333333,
              "#9c179e"
             ],
             [
              0.4444444444444444,
              "#bd3786"
             ],
             [
              0.5555555555555556,
              "#d8576b"
             ],
             [
              0.6666666666666666,
              "#ed7953"
             ],
             [
              0.7777777777777778,
              "#fb9f3a"
             ],
             [
              0.8888888888888888,
              "#fdca26"
             ],
             [
              1,
              "#f0f921"
             ]
            ],
            "type": "heatmap"
           }
          ],
          "heatmapgl": [
           {
            "colorbar": {
             "outlinewidth": 0,
             "ticks": ""
            },
            "colorscale": [
             [
              0,
              "#0d0887"
             ],
             [
              0.1111111111111111,
              "#46039f"
             ],
             [
              0.2222222222222222,
              "#7201a8"
             ],
             [
              0.3333333333333333,
              "#9c179e"
             ],
             [
              0.4444444444444444,
              "#bd3786"
             ],
             [
              0.5555555555555556,
              "#d8576b"
             ],
             [
              0.6666666666666666,
              "#ed7953"
             ],
             [
              0.7777777777777778,
              "#fb9f3a"
             ],
             [
              0.8888888888888888,
              "#fdca26"
             ],
             [
              1,
              "#f0f921"
             ]
            ],
            "type": "heatmapgl"
           }
          ],
          "histogram": [
           {
            "marker": {
             "pattern": {
              "fillmode": "overlay",
              "size": 10,
              "solidity": 0.2
             }
            },
            "type": "histogram"
           }
          ],
          "histogram2d": [
           {
            "colorbar": {
             "outlinewidth": 0,
             "ticks": ""
            },
            "colorscale": [
             [
              0,
              "#0d0887"
             ],
             [
              0.1111111111111111,
              "#46039f"
             ],
             [
              0.2222222222222222,
              "#7201a8"
             ],
             [
              0.3333333333333333,
              "#9c179e"
             ],
             [
              0.4444444444444444,
              "#bd3786"
             ],
             [
              0.5555555555555556,
              "#d8576b"
             ],
             [
              0.6666666666666666,
              "#ed7953"
             ],
             [
              0.7777777777777778,
              "#fb9f3a"
             ],
             [
              0.8888888888888888,
              "#fdca26"
             ],
             [
              1,
              "#f0f921"
             ]
            ],
            "type": "histogram2d"
           }
          ],
          "histogram2dcontour": [
           {
            "colorbar": {
             "outlinewidth": 0,
             "ticks": ""
            },
            "colorscale": [
             [
              0,
              "#0d0887"
             ],
             [
              0.1111111111111111,
              "#46039f"
             ],
             [
              0.2222222222222222,
              "#7201a8"
             ],
             [
              0.3333333333333333,
              "#9c179e"
             ],
             [
              0.4444444444444444,
              "#bd3786"
             ],
             [
              0.5555555555555556,
              "#d8576b"
             ],
             [
              0.6666666666666666,
              "#ed7953"
             ],
             [
              0.7777777777777778,
              "#fb9f3a"
             ],
             [
              0.8888888888888888,
              "#fdca26"
             ],
             [
              1,
              "#f0f921"
             ]
            ],
            "type": "histogram2dcontour"
           }
          ],
          "mesh3d": [
           {
            "colorbar": {
             "outlinewidth": 0,
             "ticks": ""
            },
            "type": "mesh3d"
           }
          ],
          "parcoords": [
           {
            "line": {
             "colorbar": {
              "outlinewidth": 0,
              "ticks": ""
             }
            },
            "type": "parcoords"
           }
          ],
          "pie": [
           {
            "automargin": true,
            "type": "pie"
           }
          ],
          "scatter": [
           {
            "fillpattern": {
             "fillmode": "overlay",
             "size": 10,
             "solidity": 0.2
            },
            "type": "scatter"
           }
          ],
          "scatter3d": [
           {
            "line": {
             "colorbar": {
              "outlinewidth": 0,
              "ticks": ""
             }
            },
            "marker": {
             "colorbar": {
              "outlinewidth": 0,
              "ticks": ""
             }
            },
            "type": "scatter3d"
           }
          ],
          "scattercarpet": [
           {
            "marker": {
             "colorbar": {
              "outlinewidth": 0,
              "ticks": ""
             }
            },
            "type": "scattercarpet"
           }
          ],
          "scattergeo": [
           {
            "marker": {
             "colorbar": {
              "outlinewidth": 0,
              "ticks": ""
             }
            },
            "type": "scattergeo"
           }
          ],
          "scattergl": [
           {
            "marker": {
             "colorbar": {
              "outlinewidth": 0,
              "ticks": ""
             }
            },
            "type": "scattergl"
           }
          ],
          "scattermapbox": [
           {
            "marker": {
             "colorbar": {
              "outlinewidth": 0,
              "ticks": ""
             }
            },
            "type": "scattermapbox"
           }
          ],
          "scatterpolar": [
           {
            "marker": {
             "colorbar": {
              "outlinewidth": 0,
              "ticks": ""
             }
            },
            "type": "scatterpolar"
           }
          ],
          "scatterpolargl": [
           {
            "marker": {
             "colorbar": {
              "outlinewidth": 0,
              "ticks": ""
             }
            },
            "type": "scatterpolargl"
           }
          ],
          "scatterternary": [
           {
            "marker": {
             "colorbar": {
              "outlinewidth": 0,
              "ticks": ""
             }
            },
            "type": "scatterternary"
           }
          ],
          "surface": [
           {
            "colorbar": {
             "outlinewidth": 0,
             "ticks": ""
            },
            "colorscale": [
             [
              0,
              "#0d0887"
             ],
             [
              0.1111111111111111,
              "#46039f"
             ],
             [
              0.2222222222222222,
              "#7201a8"
             ],
             [
              0.3333333333333333,
              "#9c179e"
             ],
             [
              0.4444444444444444,
              "#bd3786"
             ],
             [
              0.5555555555555556,
              "#d8576b"
             ],
             [
              0.6666666666666666,
              "#ed7953"
             ],
             [
              0.7777777777777778,
              "#fb9f3a"
             ],
             [
              0.8888888888888888,
              "#fdca26"
             ],
             [
              1,
              "#f0f921"
             ]
            ],
            "type": "surface"
           }
          ],
          "table": [
           {
            "cells": {
             "fill": {
              "color": "#EBF0F8"
             },
             "line": {
              "color": "white"
             }
            },
            "header": {
             "fill": {
              "color": "#C8D4E3"
             },
             "line": {
              "color": "white"
             }
            },
            "type": "table"
           }
          ]
         },
         "layout": {
          "annotationdefaults": {
           "arrowcolor": "#2a3f5f",
           "arrowhead": 0,
           "arrowwidth": 1
          },
          "autotypenumbers": "strict",
          "coloraxis": {
           "colorbar": {
            "outlinewidth": 0,
            "ticks": ""
           }
          },
          "colorscale": {
           "diverging": [
            [
             0,
             "#8e0152"
            ],
            [
             0.1,
             "#c51b7d"
            ],
            [
             0.2,
             "#de77ae"
            ],
            [
             0.3,
             "#f1b6da"
            ],
            [
             0.4,
             "#fde0ef"
            ],
            [
             0.5,
             "#f7f7f7"
            ],
            [
             0.6,
             "#e6f5d0"
            ],
            [
             0.7,
             "#b8e186"
            ],
            [
             0.8,
             "#7fbc41"
            ],
            [
             0.9,
             "#4d9221"
            ],
            [
             1,
             "#276419"
            ]
           ],
           "sequential": [
            [
             0,
             "#0d0887"
            ],
            [
             0.1111111111111111,
             "#46039f"
            ],
            [
             0.2222222222222222,
             "#7201a8"
            ],
            [
             0.3333333333333333,
             "#9c179e"
            ],
            [
             0.4444444444444444,
             "#bd3786"
            ],
            [
             0.5555555555555556,
             "#d8576b"
            ],
            [
             0.6666666666666666,
             "#ed7953"
            ],
            [
             0.7777777777777778,
             "#fb9f3a"
            ],
            [
             0.8888888888888888,
             "#fdca26"
            ],
            [
             1,
             "#f0f921"
            ]
           ],
           "sequentialminus": [
            [
             0,
             "#0d0887"
            ],
            [
             0.1111111111111111,
             "#46039f"
            ],
            [
             0.2222222222222222,
             "#7201a8"
            ],
            [
             0.3333333333333333,
             "#9c179e"
            ],
            [
             0.4444444444444444,
             "#bd3786"
            ],
            [
             0.5555555555555556,
             "#d8576b"
            ],
            [
             0.6666666666666666,
             "#ed7953"
            ],
            [
             0.7777777777777778,
             "#fb9f3a"
            ],
            [
             0.8888888888888888,
             "#fdca26"
            ],
            [
             1,
             "#f0f921"
            ]
           ]
          },
          "colorway": [
           "#636efa",
           "#EF553B",
           "#00cc96",
           "#ab63fa",
           "#FFA15A",
           "#19d3f3",
           "#FF6692",
           "#B6E880",
           "#FF97FF",
           "#FECB52"
          ],
          "font": {
           "color": "#2a3f5f"
          },
          "geo": {
           "bgcolor": "white",
           "lakecolor": "white",
           "landcolor": "#E5ECF6",
           "showlakes": true,
           "showland": true,
           "subunitcolor": "white"
          },
          "hoverlabel": {
           "align": "left"
          },
          "hovermode": "closest",
          "mapbox": {
           "style": "light"
          },
          "paper_bgcolor": "white",
          "plot_bgcolor": "#E5ECF6",
          "polar": {
           "angularaxis": {
            "gridcolor": "white",
            "linecolor": "white",
            "ticks": ""
           },
           "bgcolor": "#E5ECF6",
           "radialaxis": {
            "gridcolor": "white",
            "linecolor": "white",
            "ticks": ""
           }
          },
          "scene": {
           "xaxis": {
            "backgroundcolor": "#E5ECF6",
            "gridcolor": "white",
            "gridwidth": 2,
            "linecolor": "white",
            "showbackground": true,
            "ticks": "",
            "zerolinecolor": "white"
           },
           "yaxis": {
            "backgroundcolor": "#E5ECF6",
            "gridcolor": "white",
            "gridwidth": 2,
            "linecolor": "white",
            "showbackground": true,
            "ticks": "",
            "zerolinecolor": "white"
           },
           "zaxis": {
            "backgroundcolor": "#E5ECF6",
            "gridcolor": "white",
            "gridwidth": 2,
            "linecolor": "white",
            "showbackground": true,
            "ticks": "",
            "zerolinecolor": "white"
           }
          },
          "shapedefaults": {
           "line": {
            "color": "#2a3f5f"
           }
          },
          "ternary": {
           "aaxis": {
            "gridcolor": "white",
            "linecolor": "white",
            "ticks": ""
           },
           "baxis": {
            "gridcolor": "white",
            "linecolor": "white",
            "ticks": ""
           },
           "bgcolor": "#E5ECF6",
           "caxis": {
            "gridcolor": "white",
            "linecolor": "white",
            "ticks": ""
           }
          },
          "title": {
           "x": 0.05
          },
          "xaxis": {
           "automargin": true,
           "gridcolor": "white",
           "linecolor": "white",
           "ticks": "",
           "title": {
            "standoff": 15
           },
           "zerolinecolor": "white",
           "zerolinewidth": 2
          },
          "yaxis": {
           "automargin": true,
           "gridcolor": "white",
           "linecolor": "white",
           "ticks": "",
           "title": {
            "standoff": 15
           },
           "zerolinecolor": "white",
           "zerolinewidth": 2
          }
         }
        },
        "title": {
         "text": "<b>Population Pyramid (2010)</b>"
        },
        "xaxis": {
         "showgrid": true,
         "title": {
          "text": "Population Scale"
         },
         "zeroline": false
        },
        "yaxis": {
         "showgrid": true,
         "ticktext": [
          "0004",
          "0509",
          "1014",
          "1519",
          "2024",
          "2529",
          "3034",
          "3539",
          "4044",
          "4549",
          "5054",
          "5559",
          "6064",
          "6569",
          "7074",
          "7579",
          "80UP"
         ],
         "tickvals": [
          2,
          7,
          12,
          17,
          22,
          27,
          32,
          37,
          42,
          47,
          52,
          57,
          62,
          67,
          72,
          77,
          82
         ],
         "title": {
          "text": "Age in Years"
         }
        }
       }
      },
      "image/png": "[encoded data removed]",
      "text/html": [
       "<div>                            <div id=\"5e70b3de-fcef-4cf0-82a5-ccfb33dff1ef\" class=\"plotly-graph-div\" style=\"height:525px; width:100%;\"></div>            <script type=\"text/javascript\">                require([\"plotly\"], function(Plotly) {                    window.PLOTLYENV=window.PLOTLYENV || {};                                    if (document.getElementById(\"5e70b3de-fcef-4cf0-82a5-ccfb33dff1ef\")) {                    Plotly.newPlot(                        \"5e70b3de-fcef-4cf0-82a5-ccfb33dff1ef\",                        [{\"hoverinfo\":\"x+y\",\"marker\":{\"color\":\"#4C72B0\"},\"name\":\"Men\",\"orientation\":\"h\",\"x\":[1249301.0,1096352.0,1117157.0,1502603.0,1963476.0,1924160.0,1516732.0,1177406.0,968323.0,749507.0,534577.0,338597.0,199586.0,137143.0,86511.0,51572.0,39142.0],\"y\":[2,7,12,17,22,27,32,37,42,47,52,57,62,67,72,77,82],\"type\":\"bar\"},{\"hoverinfo\":\"x+y\",\"marker\":{\"color\":\"#DD8452\"},\"name\":\"Women\",\"orientation\":\"h\",\"x\":[-1162106.0,-1018409.0,-980633.0,-1066853.0,-1114922.0,-957661.0,-738483.0,-569255.0,-463098.0,-369772.0,-283682.0,-199683.0,-141466.0,-100625.0,-70011.0,-46637.0,-43048.0],\"y\":[2,7,12,17,22,27,32,37,42,47,52,57,62,67,72,77,82],\"type\":\"bar\"}],                        {\"barmode\":\"overlay\",\"font\":{\"color\":\"#333333\",\"family\":\"Arial, sans-serif\",\"size\":14},\"paper_bgcolor\":\"#F7F7F7\",\"plot_bgcolor\":\"#FFFFFF\",\"showlegend\":true,\"template\":{\"data\":{\"barpolar\":[{\"marker\":{\"line\":{\"color\":\"#E5ECF6\",\"width\":0.5},\"pattern\":{\"fillmode\":\"overlay\",\"size\":10,\"solidity\":0.2}},\"type\":\"barpolar\"}],\"bar\":[{\"error_x\":{\"color\":\"#2a3f5f\"},\"error_y\":{\"color\":\"#2a3f5f\"},\"marker\":{\"line\":{\"color\":\"#E5ECF6\",\"width\":0.5},\"pattern\":{\"fillmode\":\"overlay\",\"size\":10,\"solidity\":0.2}},\"type\":\"bar\"}],\"carpet\":[{\"aaxis\":{\"endlinecolor\":\"#2a3f5f\",\"gridcolor\":\"white\",\"linecolor\":\"white\",\"minorgridcolor\":\"white\",\"startlinecolor\":\"#2a3f5f\"},\"baxis\":{\"endlinecolor\":\"#2a3f5f\",\"gridcolor\":\"white\",\"linecolor\":\"white\",\"minorgridcolor\":\"white\",\"startlinecolor\":\"#2a3f5f\"},\"type\":\"carpet\"}],\"choropleth\":[{\"colorbar\":{\"outlinewidth\":0,\"ticks\":\"\"},\"type\":\"choropleth\"}],\"contourcarpet\":[{\"colorbar\":{\"outlinewidth\":0,\"ticks\":\"\"},\"type\":\"contourcarpet\"}],\"contour\":[{\"colorbar\":{\"outlinewidth\":0,\"ticks\":\"\"},\"colorscale\":[[0.0,\"#0d0887\"],[0.1111111111111111,\"#46039f\"],[0.2222222222222222,\"#7201a8\"],[0.3333333333333333,\"#9c179e\"],[0.4444444444444444,\"#bd3786\"],[0.5555555555555556,\"#d8576b\"],[0.6666666666666666,\"#ed7953\"],[0.7777777777777778,\"#fb9f3a\"],[0.8888888888888888,\"#fdca26\"],[1.0,\"#f0f921\"]],\"type\":\"contour\"}],\"heatmapgl\":[{\"colorbar\":{\"outlinewidth\":0,\"ticks\":\"\"},\"colorscale\":[[0.0,\"#0d0887\"],[0.1111111111111111,\"#46039f\"],[0.2222222222222222,\"#7201a8\"],[0.3333333333333333,\"#9c179e\"],[0.4444444444444444,\"#bd3786\"],[0.5555555555555556,\"#d8576b\"],[0.6666666666666666,\"#ed7953\"],[0.7777777777777778,\"#fb9f3a\"],[0.8888888888888888,\"#fdca26\"],[1.0,\"#f0f921\"]],\"type\":\"heatmapgl\"}],\"heatmap\":[{\"colorbar\":{\"outlinewidth\":0,\"ticks\":\"\"},\"colorscale\":[[0.0,\"#0d0887\"],[0.1111111111111111,\"#46039f\"],[0.2222222222222222,\"#7201a8\"],[0.3333333333333333,\"#9c179e\"],[0.4444444444444444,\"#bd3786\"],[0.5555555555555556,\"#d8576b\"],[0.6666666666666666,\"#ed7953\"],[0.7777777777777778,\"#fb9f3a\"],[0.8888888888888888,\"#fdca26\"],[1.0,\"#f0f921\"]],\"type\":\"heatmap\"}],\"histogram2dcontour\":[{\"colorbar\":{\"outlinewidth\":0,\"ticks\":\"\"},\"colorscale\":[[0.0,\"#0d0887\"],[0.1111111111111111,\"#46039f\"],[0.2222222222222222,\"#7201a8\"],[0.3333333333333333,\"#9c179e\"],[0.4444444444444444,\"#bd3786\"],[0.5555555555555556,\"#d8576b\"],[0.6666666666666666,\"#ed7953\"],[0.7777777777777778,\"#fb9f3a\"],[0.8888888888888888,\"#fdca26\"],[1.0,\"#f0f921\"]],\"type\":\"histogram2dcontour\"}],\"histogram2d\":[{\"colorbar\":{\"outlinewidth\":0,\"ticks\":\"\"},\"colorscale\":[[0.0,\"#0d0887\"],[0.1111111111111111,\"#46039f\"],[0.2222222222222222,\"#7201a8\"],[0.3333333333333333,\"#9c179e\"],[0.4444444444444444,\"#bd3786\"],[0.5555555555555556,\"#d8576b\"],[0.6666666666666666,\"#ed7953\"],[0.7777777777777778,\"#fb9f3a\"],[0.8888888888888888,\"#fdca26\"],[1.0,\"#f0f921\"]],\"type\":\"histogram2d\"}],\"histogram\":[{\"marker\":{\"pattern\":{\"fillmode\":\"overlay\",\"size\":10,\"solidity\":0.2}},\"type\":\"histogram\"}],\"mesh3d\":[{\"colorbar\":{\"outlinewidth\":0,\"ticks\":\"\"},\"type\":\"mesh3d\"}],\"parcoords\":[{\"line\":{\"colorbar\":{\"outlinewidth\":0,\"ticks\":\"\"}},\"type\":\"parcoords\"}],\"pie\":[{\"automargin\":true,\"type\":\"pie\"}],\"scatter3d\":[{\"line\":{\"colorbar\":{\"outlinewidth\":0,\"ticks\":\"\"}},\"marker\":{\"colorbar\":{\"outlinewidth\":0,\"ticks\":\"\"}},\"type\":\"scatter3d\"}],\"scattercarpet\":[{\"marker\":{\"colorbar\":{\"outlinewidth\":0,\"ticks\":\"\"}},\"type\":\"scattercarpet\"}],\"scattergeo\":[{\"marker\":{\"colorbar\":{\"outlinewidth\":0,\"ticks\":\"\"}},\"type\":\"scattergeo\"}],\"scattergl\":[{\"marker\":{\"colorbar\":{\"outlinewidth\":0,\"ticks\":\"\"}},\"type\":\"scattergl\"}],\"scattermapbox\":[{\"marker\":{\"colorbar\":{\"outlinewidth\":0,\"ticks\":\"\"}},\"type\":\"scattermapbox\"}],\"scatterpolargl\":[{\"marker\":{\"colorbar\":{\"outlinewidth\":0,\"ticks\":\"\"}},\"type\":\"scatterpolargl\"}],\"scatterpolar\":[{\"marker\":{\"colorbar\":{\"outlinewidth\":0,\"ticks\":\"\"}},\"type\":\"scatterpolar\"}],\"scatter\":[{\"fillpattern\":{\"fillmode\":\"overlay\",\"size\":10,\"solidity\":0.2},\"type\":\"scatter\"}],\"scatterternary\":[{\"marker\":{\"colorbar\":{\"outlinewidth\":0,\"ticks\":\"\"}},\"type\":\"scatterternary\"}],\"surface\":[{\"colorbar\":{\"outlinewidth\":0,\"ticks\":\"\"},\"colorscale\":[[0.0,\"#0d0887\"],[0.1111111111111111,\"#46039f\"],[0.2222222222222222,\"#7201a8\"],[0.3333333333333333,\"#9c179e\"],[0.4444444444444444,\"#bd3786\"],[0.5555555555555556,\"#d8576b\"],[0.6666666666666666,\"#ed7953\"],[0.7777777777777778,\"#fb9f3a\"],[0.8888888888888888,\"#fdca26\"],[1.0,\"#f0f921\"]],\"type\":\"surface\"}],\"table\":[{\"cells\":{\"fill\":{\"color\":\"#EBF0F8\"},\"line\":{\"color\":\"white\"}},\"header\":{\"fill\":{\"color\":\"#C8D4E3\"},\"line\":{\"color\":\"white\"}},\"type\":\"table\"}]},\"layout\":{\"annotationdefaults\":{\"arrowcolor\":\"#2a3f5f\",\"arrowhead\":0,\"arrowwidth\":1},\"autotypenumbers\":\"strict\",\"coloraxis\":{\"colorbar\":{\"outlinewidth\":0,\"ticks\":\"\"}},\"colorscale\":{\"diverging\":[[0,\"#8e0152\"],[0.1,\"#c51b7d\"],[0.2,\"#de77ae\"],[0.3,\"#f1b6da\"],[0.4,\"#fde0ef\"],[0.5,\"#f7f7f7\"],[0.6,\"#e6f5d0\"],[0.7,\"#b8e186\"],[0.8,\"#7fbc41\"],[0.9,\"#4d9221\"],[1,\"#276419\"]],\"sequential\":[[0.0,\"#0d0887\"],[0.1111111111111111,\"#46039f\"],[0.2222222222222222,\"#7201a8\"],[0.3333333333333333,\"#9c179e\"],[0.4444444444444444,\"#bd3786\"],[0.5555555555555556,\"#d8576b\"],[0.6666666666666666,\"#ed7953\"],[0.7777777777777778,\"#fb9f3a\"],[0.8888888888888888,\"#fdca26\"],[1.0,\"#f0f921\"]],\"sequentialminus\":[[0.0,\"#0d0887\"],[0.1111111111111111,\"#46039f\"],[0.2222222222222222,\"#7201a8\"],[0.3333333333333333,\"#9c179e\"],[0.4444444444444444,\"#bd3786\"],[0.5555555555555556,\"#d8576b\"],[0.6666666666666666,\"#ed7953\"],[0.7777777777777778,\"#fb9f3a\"],[0.8888888888888888,\"#fdca26\"],[1.0,\"#f0f921\"]]},\"colorway\":[\"#636efa\",\"#EF553B\",\"#00cc96\",\"#ab63fa\",\"#FFA15A\",\"#19d3f3\",\"#FF6692\",\"#B6E880\",\"#FF97FF\",\"#FECB52\"],\"font\":{\"color\":\"#2a3f5f\"},\"geo\":{\"bgcolor\":\"white\",\"lakecolor\":\"white\",\"landcolor\":\"#E5ECF6\",\"showlakes\":true,\"showland\":true,\"subunitcolor\":\"white\"},\"hoverlabel\":{\"align\":\"left\"},\"hovermode\":\"closest\",\"mapbox\":{\"style\":\"light\"},\"paper_bgcolor\":\"white\",\"plot_bgcolor\":\"#E5ECF6\",\"polar\":{\"angularaxis\":{\"gridcolor\":\"white\",\"linecolor\":\"white\",\"ticks\":\"\"},\"bgcolor\":\"#E5ECF6\",\"radialaxis\":{\"gridcolor\":\"white\",\"linecolor\":\"white\",\"ticks\":\"\"}},\"scene\":{\"xaxis\":{\"backgroundcolor\":\"#E5ECF6\",\"gridcolor\":\"white\",\"gridwidth\":2,\"linecolor\":\"white\",\"showbackground\":true,\"ticks\":\"\",\"zerolinecolor\":\"white\"},\"yaxis\":{\"backgroundcolor\":\"#E5ECF6\",\"gridcolor\":\"white\",\"gridwidth\":2,\"linecolor\":\"white\",\"showbackground\":true,\"ticks\":\"\",\"zerolinecolor\":\"white\"},\"zaxis\":{\"backgroundcolor\":\"#E5ECF6\",\"gridcolor\":\"white\",\"gridwidth\":2,\"linecolor\":\"white\",\"showbackground\":true,\"ticks\":\"\",\"zerolinecolor\":\"white\"}},\"shapedefaults\":{\"line\":{\"color\":\"#2a3f5f\"}},\"ternary\":{\"aaxis\":{\"gridcolor\":\"white\",\"linecolor\":\"white\",\"ticks\":\"\"},\"baxis\":{\"gridcolor\":\"white\",\"linecolor\":\"white\",\"ticks\":\"\"},\"bgcolor\":\"#E5ECF6\",\"caxis\":{\"gridcolor\":\"white\",\"linecolor\":\"white\",\"ticks\":\"\"}},\"title\":{\"x\":0.05},\"xaxis\":{\"automargin\":true,\"gridcolor\":\"white\",\"linecolor\":\"white\",\"ticks\":\"\",\"title\":{\"standoff\":15},\"zerolinecolor\":\"white\",\"zerolinewidth\":2},\"yaxis\":{\"automargin\":true,\"gridcolor\":\"white\",\"linecolor\":\"white\",\"ticks\":\"\",\"title\":{\"standoff\":15},\"zerolinecolor\":\"white\",\"zerolinewidth\":2}}},\"title\":{\"text\":\"\\u003cb\\u003ePopulation Pyramid (2010)\\u003c\\u002fb\\u003e\"},\"xaxis\":{\"showgrid\":true,\"title\":{\"text\":\"Population Scale\"},\"zeroline\":false},\"yaxis\":{\"showgrid\":true,\"ticktext\":[\"0004\",\"0509\",\"1014\",\"1519\",\"2024\",\"2529\",\"3034\",\"3539\",\"4044\",\"4549\",\"5054\",\"5559\",\"6064\",\"6569\",\"7074\",\"7579\",\"80UP\"],\"tickvals\":[2,7,12,17,22,27,32,37,42,47,52,57,62,67,72,77,82],\"title\":{\"text\":\"Age in Years\"}}},                        {\"responsive\": true}                    ).then(function(){\n",
       "                            \n",
       "var gd = document.getElementById('5e70b3de-fcef-4cf0-82a5-ccfb33dff1ef');\n",
       "var x = new MutationObserver(function (mutations, observer) {{\n",
       "        var display = window.getComputedStyle(gd).display;\n",
       "        if (!display || display === 'none') {{\n",
       "            console.log([gd, 'removed!']);\n",
       "            Plotly.purge(gd);\n",
       "            observer.disconnect();\n",
       "        }}\n",
       "}});\n",
       "\n",
       "// Listen for the removal of the full notebook cells\n",
       "var notebookContainer = gd.closest('#notebook-container');\n",
       "if (notebookContainer) {{\n",
       "    x.observe(notebookContainer, {childList: true});\n",
       "}}\n",
       "\n",
       "// Listen for the clearing of the current output cell\n",
       "var outputEl = gd.closest('.output');\n",
       "if (outputEl) {{\n",
       "    x.observe(outputEl, {childList: true});\n",
       "}}\n",
       "\n",
       "                        })                };                });            </script>        </div>"
      ]
     },
     "metadata": {},
     "output_type": "display_data"
    }
   ],
   "source": [
    "import plotly.graph_objects as go\n",
    "import plotly.offline as pyo\n",
    "import wbdata\n",
    "import pandas as pd\n",
    "\n",
    "# Initialize Plotly for offline mode\n",
    "pyo.init_notebook_mode(connected=True)\n",
    "\n",
    "# Define age ranges\n",
    "age_ranges = [f\"{i:02d}{i+4:02d}\" for i in range(0, 80, 5)] + [\"80UP\"]\n",
    "\n",
    "# Define World Bank API variables\n",
    "variables = {\n",
    "    **{f\"SP.POP.{age}.MA\": f\"Males {age}\" for age in age_ranges},\n",
    "    **{f\"SP.POP.{age}.FE\": f\"Females {age}\" for age in age_ranges}\n",
    "}\n",
    "\n",
    "def population_pyramid(df, yr):\n",
    "    if str(yr) not in df.index:\n",
    "        return \"Please pick a year that is within your dataframe.\"\n",
    "\n",
    "    # Define gender data\n",
    "    males = df.loc[str(yr)].filter(like=\"Male\").values\n",
    "    females = -df.loc[str(yr)].filter(like=\"Female\").values  # Negative for mirrored effect\n",
    "\n",
    "    # Define y-axis labels (centered age range)\n",
    "    y_vals = [int(s[:2]) + 2 for s in age_ranges]\n",
    "\n",
    "    # Create figure\n",
    "    fig = go.Figure()\n",
    "\n",
    "    # Add Male Bars\n",
    "    fig.add_trace(go.Bar(x=males, y=y_vals, orientation='h', name='Men',\n",
    "                         marker=dict(color='#4C72B0'), hoverinfo='x+y'))\n",
    "\n",
    "    # Add Female Bars\n",
    "    fig.add_trace(go.Bar(x=females, y=y_vals, orientation='h', name='Women',\n",
    "                         marker=dict(color='#DD8452'), hoverinfo='x+y'))\n",
    "\n",
    "    # Update layout for aesthetics\n",
    "    fig.update_layout(\n",
    "        title=f\"<b>Population Pyramid ({yr})</b>\",\n",
    "        xaxis=dict(title=\"Population Scale\", showgrid=True, zeroline=False),\n",
    "        yaxis=dict(title=\"Age in Years\", tickvals=y_vals, ticktext=age_ranges, showgrid=True),\n",
    "        barmode='overlay',\n",
    "        paper_bgcolor=\"#F7F7F7\",  # Light background\n",
    "        plot_bgcolor=\"#FFFFFF\",   # White plot background\n",
    "        font=dict(family=\"Arial, sans-serif\", size=14, color=\"#333333\"),\n",
    "        showlegend=True\n",
    "    )\n",
    "\n",
    "    # Show plot\n",
    "    pyo.iplot(fig)\n",
    "\n",
    "# Fetch data\n",
    "sau_df = wbdata.get_dataframe(variables, country=\"SAU\")\n",
    "\n",
    "# Plot for 2010\n",
    "population_pyramid(sau_df, '2010')"
   ]
  },
  {
   "cell_type": "markdown",
   "metadata": {
    "cell_id": "1fa342bb33fa470f90bcc2122b680349",
    "deepnote_cell_type": "text-cell-h1",
    "formattedRanges": []
   },
   "source": [
    "# Deliverable 5: Animated Population Pyramid for Saudi Arabia"
   ]
  },
  {
   "cell_type": "code",
   "execution_count": 68,
   "metadata": {},
   "outputs": [
    {
     "data": {
      "application/vnd.plotly.v1+json": {
       "config": {
        "linkText": "Export to plot.ly",
        "plotlyServerURL": "https://plot.ly",
        "showLink": false
       },
       "data": [
        {
         "marker": {
          "color": "#4C72B0"
         },
         "name": "Men 2010",
         "opacity": 0.8,
         "orientation": "h",
         "type": "bar",
         "x": [
          1249301,
          1096352,
          1117157,
          1502603,
          1963476,
          1924160,
          1516732,
          1177406,
          968323,
          749507,
          534577,
          338597,
          199586,
          137143,
          86511,
          51572,
          39142
         ],
         "y": [
          1,
          6,
          11,
          16,
          21,
          26,
          31,
          36,
          41,
          46,
          51,
          56,
          61,
          66,
          71,
          76,
          81
         ]
        },
        {
         "marker": {
          "color": "#DD8452"
         },
         "name": "Women 2010",
         "opacity": 0.8,
         "orientation": "h",
         "type": "bar",
         "x": [
          -1162106,
          -1018409,
          -980633,
          -1066853,
          -1114922,
          -957661,
          -738483,
          -569255,
          -463098,
          -369772,
          -283682,
          -199683,
          -141466,
          -100625,
          -70011,
          -46637,
          -43048
         ],
         "y": [
          1,
          6,
          11,
          16,
          21,
          26,
          31,
          36,
          41,
          46,
          51,
          56,
          61,
          66,
          71,
          76,
          81
         ]
        }
       ],
       "frames": [
        {
         "data": [
          {
           "marker": {
            "color": "#4C72B0"
           },
           "name": "Men 2010",
           "opacity": 0.8,
           "orientation": "h",
           "type": "bar",
           "x": [
            1249301,
            1096352,
            1117157,
            1502603,
            1963476,
            1924160,
            1516732,
            1177406,
            968323,
            749507,
            534577,
            338597,
            199586,
            137143,
            86511,
            51572,
            39142
           ],
           "y": [
            1,
            6,
            11,
            16,
            21,
            26,
            31,
            36,
            41,
            46,
            51,
            56,
            61,
            66,
            71,
            76,
            81
           ]
          },
          {
           "marker": {
            "color": "#DD8452"
           },
           "name": "Women 2010",
           "opacity": 0.8,
           "orientation": "h",
           "type": "bar",
           "x": [
            -1162106,
            -1018409,
            -980633,
            -1066853,
            -1114922,
            -957661,
            -738483,
            -569255,
            -463098,
            -369772,
            -283682,
            -199683,
            -141466,
            -100625,
            -70011,
            -46637,
            -43048
           ],
           "y": [
            1,
            6,
            11,
            16,
            21,
            26,
            31,
            36,
            41,
            46,
            51,
            56,
            61,
            66,
            71,
            76,
            81
           ]
          }
         ],
         "name": "2010"
        },
        {
         "data": [
          {
           "marker": {
            "color": "#4C72B0"
           },
           "name": "Men 1990",
           "opacity": 0.8,
           "orientation": "h",
           "type": "bar",
           "x": [
            953120,
            787007,
            595380,
            477973,
            475408,
            508506,
            501346,
            442623,
            338086,
            228265,
            152218,
            104562,
            72123,
            47652,
            28388,
            14680,
            8811
           ],
           "y": [
            1,
            6,
            11,
            16,
            21,
            26,
            31,
            36,
            41,
            46,
            51,
            56,
            61,
            66,
            71,
            76,
            81
           ]
          },
          {
           "marker": {
            "color": "#DD8452"
           },
           "name": "Women 1990",
           "opacity": 0.8,
           "orientation": "h",
           "type": "bar",
           "x": [
            -912259,
            -755250,
            -571068,
            -443644,
            -400352,
            -387688,
            -356860,
            -302404,
            -229708,
            -163658,
            -118091,
            -88158,
            -65806,
            -47184,
            -31285,
            -18243,
            -12887
           ],
           "y": [
            1,
            6,
            11,
            16,
            21,
            26,
            31,
            36,
            41,
            46,
            51,
            56,
            61,
            66,
            71,
            76,
            81
           ]
          }
         ],
         "name": "1990"
        },
        {
         "data": [
          {
           "marker": {
            "color": "#4C72B0"
           },
           "name": "Men 1970",
           "opacity": 0.8,
           "orientation": "h",
           "type": "bar",
           "x": [
            346649,
            266881,
            211813,
            170682,
            142958,
            132385,
            124155,
            112610,
            92632,
            70002,
            51532,
            37487,
            27712,
            20586,
            13719,
            7696,
            4538
           ],
           "y": [
            1,
            6,
            11,
            16,
            21,
            26,
            31,
            36,
            41,
            46,
            51,
            56,
            61,
            66,
            71,
            76,
            81
           ]
          },
          {
           "marker": {
            "color": "#DD8452"
           },
           "name": "Women 1970",
           "opacity": 0.8,
           "orientation": "h",
           "type": "bar",
           "x": [
            -332630,
            -257708,
            -206007,
            -165220,
            -134832,
            -119331,
            -107229,
            -94674,
            -78419,
            -61705,
            -48225,
            -37678,
            -29844,
            -23099,
            -16082,
            -9495,
            -6260
           ],
           "y": [
            1,
            6,
            11,
            16,
            21,
            26,
            31,
            36,
            41,
            46,
            51,
            56,
            61,
            66,
            71,
            76,
            81
           ]
          }
         ],
         "name": "1970"
        }
       ],
       "layout": {
        "font": {
         "color": "#333333",
         "family": "Arial, sans-serif",
         "size": 14
        },
        "paper_bgcolor": "#F7F7F7",
        "plot_bgcolor": "#FFFFFF",
        "template": {
         "data": {
          "bar": [
           {
            "error_x": {
             "color": "#2a3f5f"
            },
            "error_y": {
             "color": "#2a3f5f"
            },
            "marker": {
             "line": {
              "color": "#E5ECF6",
              "width": 0.5
             },
             "pattern": {
              "fillmode": "overlay",
              "size": 10,
              "solidity": 0.2
             }
            },
            "type": "bar"
           }
          ],
          "barpolar": [
           {
            "marker": {
             "line": {
              "color": "#E5ECF6",
              "width": 0.5
             },
             "pattern": {
              "fillmode": "overlay",
              "size": 10,
              "solidity": 0.2
             }
            },
            "type": "barpolar"
           }
          ],
          "carpet": [
           {
            "aaxis": {
             "endlinecolor": "#2a3f5f",
             "gridcolor": "white",
             "linecolor": "white",
             "minorgridcolor": "white",
             "startlinecolor": "#2a3f5f"
            },
            "baxis": {
             "endlinecolor": "#2a3f5f",
             "gridcolor": "white",
             "linecolor": "white",
             "minorgridcolor": "white",
             "startlinecolor": "#2a3f5f"
            },
            "type": "carpet"
           }
          ],
          "choropleth": [
           {
            "colorbar": {
             "outlinewidth": 0,
             "ticks": ""
            },
            "type": "choropleth"
           }
          ],
          "contour": [
           {
            "colorbar": {
             "outlinewidth": 0,
             "ticks": ""
            },
            "colorscale": [
             [
              0,
              "#0d0887"
             ],
             [
              0.1111111111111111,
              "#46039f"
             ],
             [
              0.2222222222222222,
              "#7201a8"
             ],
             [
              0.3333333333333333,
              "#9c179e"
             ],
             [
              0.4444444444444444,
              "#bd3786"
             ],
             [
              0.5555555555555556,
              "#d8576b"
             ],
             [
              0.6666666666666666,
              "#ed7953"
             ],
             [
              0.7777777777777778,
              "#fb9f3a"
             ],
             [
              0.8888888888888888,
              "#fdca26"
             ],
             [
              1,
              "#f0f921"
             ]
            ],
            "type": "contour"
           }
          ],
          "contourcarpet": [
           {
            "colorbar": {
             "outlinewidth": 0,
             "ticks": ""
            },
            "type": "contourcarpet"
           }
          ],
          "heatmap": [
           {
            "colorbar": {
             "outlinewidth": 0,
             "ticks": ""
            },
            "colorscale": [
             [
              0,
              "#0d0887"
             ],
             [
              0.1111111111111111,
              "#46039f"
             ],
             [
              0.2222222222222222,
              "#7201a8"
             ],
             [
              0.3333333333333333,
              "#9c179e"
             ],
             [
              0.4444444444444444,
              "#bd3786"
             ],
             [
              0.5555555555555556,
              "#d8576b"
             ],
             [
              0.6666666666666666,
              "#ed7953"
             ],
             [
              0.7777777777777778,
              "#fb9f3a"
             ],
             [
              0.8888888888888888,
              "#fdca26"
             ],
             [
              1,
              "#f0f921"
             ]
            ],
            "type": "heatmap"
           }
          ],
          "heatmapgl": [
           {
            "colorbar": {
             "outlinewidth": 0,
             "ticks": ""
            },
            "colorscale": [
             [
              0,
              "#0d0887"
             ],
             [
              0.1111111111111111,
              "#46039f"
             ],
             [
              0.2222222222222222,
              "#7201a8"
             ],
             [
              0.3333333333333333,
              "#9c179e"
             ],
             [
              0.4444444444444444,
              "#bd3786"
             ],
             [
              0.5555555555555556,
              "#d8576b"
             ],
             [
              0.6666666666666666,
              "#ed7953"
             ],
             [
              0.7777777777777778,
              "#fb9f3a"
             ],
             [
              0.8888888888888888,
              "#fdca26"
             ],
             [
              1,
              "#f0f921"
             ]
            ],
            "type": "heatmapgl"
           }
          ],
          "histogram": [
           {
            "marker": {
             "pattern": {
              "fillmode": "overlay",
              "size": 10,
              "solidity": 0.2
             }
            },
            "type": "histogram"
           }
          ],
          "histogram2d": [
           {
            "colorbar": {
             "outlinewidth": 0,
             "ticks": ""
            },
            "colorscale": [
             [
              0,
              "#0d0887"
             ],
             [
              0.1111111111111111,
              "#46039f"
             ],
             [
              0.2222222222222222,
              "#7201a8"
             ],
             [
              0.3333333333333333,
              "#9c179e"
             ],
             [
              0.4444444444444444,
              "#bd3786"
             ],
             [
              0.5555555555555556,
              "#d8576b"
             ],
             [
              0.6666666666666666,
              "#ed7953"
             ],
             [
              0.7777777777777778,
              "#fb9f3a"
             ],
             [
              0.8888888888888888,
              "#fdca26"
             ],
             [
              1,
              "#f0f921"
             ]
            ],
            "type": "histogram2d"
           }
          ],
          "histogram2dcontour": [
           {
            "colorbar": {
             "outlinewidth": 0,
             "ticks": ""
            },
            "colorscale": [
             [
              0,
              "#0d0887"
             ],
             [
              0.1111111111111111,
              "#46039f"
             ],
             [
              0.2222222222222222,
              "#7201a8"
             ],
             [
              0.3333333333333333,
              "#9c179e"
             ],
             [
              0.4444444444444444,
              "#bd3786"
             ],
             [
              0.5555555555555556,
              "#d8576b"
             ],
             [
              0.6666666666666666,
              "#ed7953"
             ],
             [
              0.7777777777777778,
              "#fb9f3a"
             ],
             [
              0.8888888888888888,
              "#fdca26"
             ],
             [
              1,
              "#f0f921"
             ]
            ],
            "type": "histogram2dcontour"
           }
          ],
          "mesh3d": [
           {
            "colorbar": {
             "outlinewidth": 0,
             "ticks": ""
            },
            "type": "mesh3d"
           }
          ],
          "parcoords": [
           {
            "line": {
             "colorbar": {
              "outlinewidth": 0,
              "ticks": ""
             }
            },
            "type": "parcoords"
           }
          ],
          "pie": [
           {
            "automargin": true,
            "type": "pie"
           }
          ],
          "scatter": [
           {
            "fillpattern": {
             "fillmode": "overlay",
             "size": 10,
             "solidity": 0.2
            },
            "type": "scatter"
           }
          ],
          "scatter3d": [
           {
            "line": {
             "colorbar": {
              "outlinewidth": 0,
              "ticks": ""
             }
            },
            "marker": {
             "colorbar": {
              "outlinewidth": 0,
              "ticks": ""
             }
            },
            "type": "scatter3d"
           }
          ],
          "scattercarpet": [
           {
            "marker": {
             "colorbar": {
              "outlinewidth": 0,
              "ticks": ""
             }
            },
            "type": "scattercarpet"
           }
          ],
          "scattergeo": [
           {
            "marker": {
             "colorbar": {
              "outlinewidth": 0,
              "ticks": ""
             }
            },
            "type": "scattergeo"
           }
          ],
          "scattergl": [
           {
            "marker": {
             "colorbar": {
              "outlinewidth": 0,
              "ticks": ""
             }
            },
            "type": "scattergl"
           }
          ],
          "scattermapbox": [
           {
            "marker": {
             "colorbar": {
              "outlinewidth": 0,
              "ticks": ""
             }
            },
            "type": "scattermapbox"
           }
          ],
          "scatterpolar": [
           {
            "marker": {
             "colorbar": {
              "outlinewidth": 0,
              "ticks": ""
             }
            },
            "type": "scatterpolar"
           }
          ],
          "scatterpolargl": [
           {
            "marker": {
             "colorbar": {
              "outlinewidth": 0,
              "ticks": ""
             }
            },
            "type": "scatterpolargl"
           }
          ],
          "scatterternary": [
           {
            "marker": {
             "colorbar": {
              "outlinewidth": 0,
              "ticks": ""
             }
            },
            "type": "scatterternary"
           }
          ],
          "surface": [
           {
            "colorbar": {
             "outlinewidth": 0,
             "ticks": ""
            },
            "colorscale": [
             [
              0,
              "#0d0887"
             ],
             [
              0.1111111111111111,
              "#46039f"
             ],
             [
              0.2222222222222222,
              "#7201a8"
             ],
             [
              0.3333333333333333,
              "#9c179e"
             ],
             [
              0.4444444444444444,
              "#bd3786"
             ],
             [
              0.5555555555555556,
              "#d8576b"
             ],
             [
              0.6666666666666666,
              "#ed7953"
             ],
             [
              0.7777777777777778,
              "#fb9f3a"
             ],
             [
              0.8888888888888888,
              "#fdca26"
             ],
             [
              1,
              "#f0f921"
             ]
            ],
            "type": "surface"
           }
          ],
          "table": [
           {
            "cells": {
             "fill": {
              "color": "#EBF0F8"
             },
             "line": {
              "color": "white"
             }
            },
            "header": {
             "fill": {
              "color": "#C8D4E3"
             },
             "line": {
              "color": "white"
             }
            },
            "type": "table"
           }
          ]
         },
         "layout": {
          "annotationdefaults": {
           "arrowcolor": "#2a3f5f",
           "arrowhead": 0,
           "arrowwidth": 1
          },
          "autotypenumbers": "strict",
          "coloraxis": {
           "colorbar": {
            "outlinewidth": 0,
            "ticks": ""
           }
          },
          "colorscale": {
           "diverging": [
            [
             0,
             "#8e0152"
            ],
            [
             0.1,
             "#c51b7d"
            ],
            [
             0.2,
             "#de77ae"
            ],
            [
             0.3,
             "#f1b6da"
            ],
            [
             0.4,
             "#fde0ef"
            ],
            [
             0.5,
             "#f7f7f7"
            ],
            [
             0.6,
             "#e6f5d0"
            ],
            [
             0.7,
             "#b8e186"
            ],
            [
             0.8,
             "#7fbc41"
            ],
            [
             0.9,
             "#4d9221"
            ],
            [
             1,
             "#276419"
            ]
           ],
           "sequential": [
            [
             0,
             "#0d0887"
            ],
            [
             0.1111111111111111,
             "#46039f"
            ],
            [
             0.2222222222222222,
             "#7201a8"
            ],
            [
             0.3333333333333333,
             "#9c179e"
            ],
            [
             0.4444444444444444,
             "#bd3786"
            ],
            [
             0.5555555555555556,
             "#d8576b"
            ],
            [
             0.6666666666666666,
             "#ed7953"
            ],
            [
             0.7777777777777778,
             "#fb9f3a"
            ],
            [
             0.8888888888888888,
             "#fdca26"
            ],
            [
             1,
             "#f0f921"
            ]
           ],
           "sequentialminus": [
            [
             0,
             "#0d0887"
            ],
            [
             0.1111111111111111,
             "#46039f"
            ],
            [
             0.2222222222222222,
             "#7201a8"
            ],
            [
             0.3333333333333333,
             "#9c179e"
            ],
            [
             0.4444444444444444,
             "#bd3786"
            ],
            [
             0.5555555555555556,
             "#d8576b"
            ],
            [
             0.6666666666666666,
             "#ed7953"
            ],
            [
             0.7777777777777778,
             "#fb9f3a"
            ],
            [
             0.8888888888888888,
             "#fdca26"
            ],
            [
             1,
             "#f0f921"
            ]
           ]
          },
          "colorway": [
           "#636efa",
           "#EF553B",
           "#00cc96",
           "#ab63fa",
           "#FFA15A",
           "#19d3f3",
           "#FF6692",
           "#B6E880",
           "#FF97FF",
           "#FECB52"
          ],
          "font": {
           "color": "#2a3f5f"
          },
          "geo": {
           "bgcolor": "white",
           "lakecolor": "white",
           "landcolor": "#E5ECF6",
           "showlakes": true,
           "showland": true,
           "subunitcolor": "white"
          },
          "hoverlabel": {
           "align": "left"
          },
          "hovermode": "closest",
          "mapbox": {
           "style": "light"
          },
          "paper_bgcolor": "white",
          "plot_bgcolor": "#E5ECF6",
          "polar": {
           "angularaxis": {
            "gridcolor": "white",
            "linecolor": "white",
            "ticks": ""
           },
           "bgcolor": "#E5ECF6",
           "radialaxis": {
            "gridcolor": "white",
            "linecolor": "white",
            "ticks": ""
           }
          },
          "scene": {
           "xaxis": {
            "backgroundcolor": "#E5ECF6",
            "gridcolor": "white",
            "gridwidth": 2,
            "linecolor": "white",
            "showbackground": true,
            "ticks": "",
            "zerolinecolor": "white"
           },
           "yaxis": {
            "backgroundcolor": "#E5ECF6",
            "gridcolor": "white",
            "gridwidth": 2,
            "linecolor": "white",
            "showbackground": true,
            "ticks": "",
            "zerolinecolor": "white"
           },
           "zaxis": {
            "backgroundcolor": "#E5ECF6",
            "gridcolor": "white",
            "gridwidth": 2,
            "linecolor": "white",
            "showbackground": true,
            "ticks": "",
            "zerolinecolor": "white"
           }
          },
          "shapedefaults": {
           "line": {
            "color": "#2a3f5f"
           }
          },
          "ternary": {
           "aaxis": {
            "gridcolor": "white",
            "linecolor": "white",
            "ticks": ""
           },
           "baxis": {
            "gridcolor": "white",
            "linecolor": "white",
            "ticks": ""
           },
           "bgcolor": "#E5ECF6",
           "caxis": {
            "gridcolor": "white",
            "linecolor": "white",
            "ticks": ""
           }
          },
          "title": {
           "x": 0.05
          },
          "xaxis": {
           "automargin": true,
           "gridcolor": "white",
           "linecolor": "white",
           "ticks": "",
           "title": {
            "standoff": 15
           },
           "zerolinecolor": "white",
           "zerolinewidth": 2
          },
          "yaxis": {
           "automargin": true,
           "gridcolor": "white",
           "linecolor": "white",
           "ticks": "",
           "title": {
            "standoff": 15
           },
           "zerolinecolor": "white",
           "zerolinewidth": 2
          }
         }
        },
        "title": {
         "text": "<b>Population Pyramid (2010)</b>"
        },
        "updatemenus": [
         {
          "buttons": [
           {
            "args": [
             null,
             {
              "frame": {
               "duration": 1500,
               "redraw": true
              },
              "fromcurrent": true
             }
            ],
            "label": "▶ Play",
            "method": "animate"
           },
           {
            "args": [
             [
              null
             ],
             {
              "frame": {
               "duration": 0,
               "redraw": true
              },
              "mode": "immediate",
              "transition": {
               "duration": 0
              }
             }
            ],
            "label": "⏸ Pause",
            "method": "animate"
           }
          ],
          "direction": "left",
          "pad": {
           "r": 10,
           "t": 60
          },
          "showactive": false,
          "type": "buttons",
          "x": 0.1,
          "xanchor": "right",
          "y": 0,
          "yanchor": "top"
         }
        ],
        "xaxis": {
         "showgrid": true,
         "title": {
          "text": "Population Scale"
         },
         "zeroline": false
        },
        "yaxis": {
         "range": [
          0,
          90
         ],
         "showgrid": true,
         "title": {
          "text": "Age in Years"
         }
        }
       }
      },
      "image/png": "[encoded data removed]",
      "text/html": [
       "<div>                            <div id=\"73dcb15e-f597-4431-9692-0d57161e6aae\" class=\"plotly-graph-div\" style=\"height:525px; width:100%;\"></div>            <script type=\"text/javascript\">                require([\"plotly\"], function(Plotly) {                    window.PLOTLYENV=window.PLOTLYENV || {};                                    if (document.getElementById(\"73dcb15e-f597-4431-9692-0d57161e6aae\")) {                    Plotly.newPlot(                        \"73dcb15e-f597-4431-9692-0d57161e6aae\",                        [{\"marker\":{\"color\":\"#4C72B0\"},\"name\":\"Men 2010\",\"opacity\":0.8,\"orientation\":\"h\",\"x\":[1249301.0,1096352.0,1117157.0,1502603.0,1963476.0,1924160.0,1516732.0,1177406.0,968323.0,749507.0,534577.0,338597.0,199586.0,137143.0,86511.0,51572.0,39142.0],\"y\":[1,6,11,16,21,26,31,36,41,46,51,56,61,66,71,76,81],\"type\":\"bar\"},{\"marker\":{\"color\":\"#DD8452\"},\"name\":\"Women 2010\",\"opacity\":0.8,\"orientation\":\"h\",\"x\":[-1162106.0,-1018409.0,-980633.0,-1066853.0,-1114922.0,-957661.0,-738483.0,-569255.0,-463098.0,-369772.0,-283682.0,-199683.0,-141466.0,-100625.0,-70011.0,-46637.0,-43048.0],\"y\":[1,6,11,16,21,26,31,36,41,46,51,56,61,66,71,76,81],\"type\":\"bar\"}],                        {\"font\":{\"color\":\"#333333\",\"family\":\"Arial, sans-serif\",\"size\":14},\"paper_bgcolor\":\"#F7F7F7\",\"plot_bgcolor\":\"#FFFFFF\",\"template\":{\"data\":{\"barpolar\":[{\"marker\":{\"line\":{\"color\":\"#E5ECF6\",\"width\":0.5},\"pattern\":{\"fillmode\":\"overlay\",\"size\":10,\"solidity\":0.2}},\"type\":\"barpolar\"}],\"bar\":[{\"error_x\":{\"color\":\"#2a3f5f\"},\"error_y\":{\"color\":\"#2a3f5f\"},\"marker\":{\"line\":{\"color\":\"#E5ECF6\",\"width\":0.5},\"pattern\":{\"fillmode\":\"overlay\",\"size\":10,\"solidity\":0.2}},\"type\":\"bar\"}],\"carpet\":[{\"aaxis\":{\"endlinecolor\":\"#2a3f5f\",\"gridcolor\":\"white\",\"linecolor\":\"white\",\"minorgridcolor\":\"white\",\"startlinecolor\":\"#2a3f5f\"},\"baxis\":{\"endlinecolor\":\"#2a3f5f\",\"gridcolor\":\"white\",\"linecolor\":\"white\",\"minorgridcolor\":\"white\",\"startlinecolor\":\"#2a3f5f\"},\"type\":\"carpet\"}],\"choropleth\":[{\"colorbar\":{\"outlinewidth\":0,\"ticks\":\"\"},\"type\":\"choropleth\"}],\"contourcarpet\":[{\"colorbar\":{\"outlinewidth\":0,\"ticks\":\"\"},\"type\":\"contourcarpet\"}],\"contour\":[{\"colorbar\":{\"outlinewidth\":0,\"ticks\":\"\"},\"colorscale\":[[0.0,\"#0d0887\"],[0.1111111111111111,\"#46039f\"],[0.2222222222222222,\"#7201a8\"],[0.3333333333333333,\"#9c179e\"],[0.4444444444444444,\"#bd3786\"],[0.5555555555555556,\"#d8576b\"],[0.6666666666666666,\"#ed7953\"],[0.7777777777777778,\"#fb9f3a\"],[0.8888888888888888,\"#fdca26\"],[1.0,\"#f0f921\"]],\"type\":\"contour\"}],\"heatmapgl\":[{\"colorbar\":{\"outlinewidth\":0,\"ticks\":\"\"},\"colorscale\":[[0.0,\"#0d0887\"],[0.1111111111111111,\"#46039f\"],[0.2222222222222222,\"#7201a8\"],[0.3333333333333333,\"#9c179e\"],[0.4444444444444444,\"#bd3786\"],[0.5555555555555556,\"#d8576b\"],[0.6666666666666666,\"#ed7953\"],[0.7777777777777778,\"#fb9f3a\"],[0.8888888888888888,\"#fdca26\"],[1.0,\"#f0f921\"]],\"type\":\"heatmapgl\"}],\"heatmap\":[{\"colorbar\":{\"outlinewidth\":0,\"ticks\":\"\"},\"colorscale\":[[0.0,\"#0d0887\"],[0.1111111111111111,\"#46039f\"],[0.2222222222222222,\"#7201a8\"],[0.3333333333333333,\"#9c179e\"],[0.4444444444444444,\"#bd3786\"],[0.5555555555555556,\"#d8576b\"],[0.6666666666666666,\"#ed7953\"],[0.7777777777777778,\"#fb9f3a\"],[0.8888888888888888,\"#fdca26\"],[1.0,\"#f0f921\"]],\"type\":\"heatmap\"}],\"histogram2dcontour\":[{\"colorbar\":{\"outlinewidth\":0,\"ticks\":\"\"},\"colorscale\":[[0.0,\"#0d0887\"],[0.1111111111111111,\"#46039f\"],[0.2222222222222222,\"#7201a8\"],[0.3333333333333333,\"#9c179e\"],[0.4444444444444444,\"#bd3786\"],[0.5555555555555556,\"#d8576b\"],[0.6666666666666666,\"#ed7953\"],[0.7777777777777778,\"#fb9f3a\"],[0.8888888888888888,\"#fdca26\"],[1.0,\"#f0f921\"]],\"type\":\"histogram2dcontour\"}],\"histogram2d\":[{\"colorbar\":{\"outlinewidth\":0,\"ticks\":\"\"},\"colorscale\":[[0.0,\"#0d0887\"],[0.1111111111111111,\"#46039f\"],[0.2222222222222222,\"#7201a8\"],[0.3333333333333333,\"#9c179e\"],[0.4444444444444444,\"#bd3786\"],[0.5555555555555556,\"#d8576b\"],[0.6666666666666666,\"#ed7953\"],[0.7777777777777778,\"#fb9f3a\"],[0.8888888888888888,\"#fdca26\"],[1.0,\"#f0f921\"]],\"type\":\"histogram2d\"}],\"histogram\":[{\"marker\":{\"pattern\":{\"fillmode\":\"overlay\",\"size\":10,\"solidity\":0.2}},\"type\":\"histogram\"}],\"mesh3d\":[{\"colorbar\":{\"outlinewidth\":0,\"ticks\":\"\"},\"type\":\"mesh3d\"}],\"parcoords\":[{\"line\":{\"colorbar\":{\"outlinewidth\":0,\"ticks\":\"\"}},\"type\":\"parcoords\"}],\"pie\":[{\"automargin\":true,\"type\":\"pie\"}],\"scatter3d\":[{\"line\":{\"colorbar\":{\"outlinewidth\":0,\"ticks\":\"\"}},\"marker\":{\"colorbar\":{\"outlinewidth\":0,\"ticks\":\"\"}},\"type\":\"scatter3d\"}],\"scattercarpet\":[{\"marker\":{\"colorbar\":{\"outlinewidth\":0,\"ticks\":\"\"}},\"type\":\"scattercarpet\"}],\"scattergeo\":[{\"marker\":{\"colorbar\":{\"outlinewidth\":0,\"ticks\":\"\"}},\"type\":\"scattergeo\"}],\"scattergl\":[{\"marker\":{\"colorbar\":{\"outlinewidth\":0,\"ticks\":\"\"}},\"type\":\"scattergl\"}],\"scattermapbox\":[{\"marker\":{\"colorbar\":{\"outlinewidth\":0,\"ticks\":\"\"}},\"type\":\"scattermapbox\"}],\"scatterpolargl\":[{\"marker\":{\"colorbar\":{\"outlinewidth\":0,\"ticks\":\"\"}},\"type\":\"scatterpolargl\"}],\"scatterpolar\":[{\"marker\":{\"colorbar\":{\"outlinewidth\":0,\"ticks\":\"\"}},\"type\":\"scatterpolar\"}],\"scatter\":[{\"fillpattern\":{\"fillmode\":\"overlay\",\"size\":10,\"solidity\":0.2},\"type\":\"scatter\"}],\"scatterternary\":[{\"marker\":{\"colorbar\":{\"outlinewidth\":0,\"ticks\":\"\"}},\"type\":\"scatterternary\"}],\"surface\":[{\"colorbar\":{\"outlinewidth\":0,\"ticks\":\"\"},\"colorscale\":[[0.0,\"#0d0887\"],[0.1111111111111111,\"#46039f\"],[0.2222222222222222,\"#7201a8\"],[0.3333333333333333,\"#9c179e\"],[0.4444444444444444,\"#bd3786\"],[0.5555555555555556,\"#d8576b\"],[0.6666666666666666,\"#ed7953\"],[0.7777777777777778,\"#fb9f3a\"],[0.8888888888888888,\"#fdca26\"],[1.0,\"#f0f921\"]],\"type\":\"surface\"}],\"table\":[{\"cells\":{\"fill\":{\"color\":\"#EBF0F8\"},\"line\":{\"color\":\"white\"}},\"header\":{\"fill\":{\"color\":\"#C8D4E3\"},\"line\":{\"color\":\"white\"}},\"type\":\"table\"}]},\"layout\":{\"annotationdefaults\":{\"arrowcolor\":\"#2a3f5f\",\"arrowhead\":0,\"arrowwidth\":1},\"autotypenumbers\":\"strict\",\"coloraxis\":{\"colorbar\":{\"outlinewidth\":0,\"ticks\":\"\"}},\"colorscale\":{\"diverging\":[[0,\"#8e0152\"],[0.1,\"#c51b7d\"],[0.2,\"#de77ae\"],[0.3,\"#f1b6da\"],[0.4,\"#fde0ef\"],[0.5,\"#f7f7f7\"],[0.6,\"#e6f5d0\"],[0.7,\"#b8e186\"],[0.8,\"#7fbc41\"],[0.9,\"#4d9221\"],[1,\"#276419\"]],\"sequential\":[[0.0,\"#0d0887\"],[0.1111111111111111,\"#46039f\"],[0.2222222222222222,\"#7201a8\"],[0.3333333333333333,\"#9c179e\"],[0.4444444444444444,\"#bd3786\"],[0.5555555555555556,\"#d8576b\"],[0.6666666666666666,\"#ed7953\"],[0.7777777777777778,\"#fb9f3a\"],[0.8888888888888888,\"#fdca26\"],[1.0,\"#f0f921\"]],\"sequentialminus\":[[0.0,\"#0d0887\"],[0.1111111111111111,\"#46039f\"],[0.2222222222222222,\"#7201a8\"],[0.3333333333333333,\"#9c179e\"],[0.4444444444444444,\"#bd3786\"],[0.5555555555555556,\"#d8576b\"],[0.6666666666666666,\"#ed7953\"],[0.7777777777777778,\"#fb9f3a\"],[0.8888888888888888,\"#fdca26\"],[1.0,\"#f0f921\"]]},\"colorway\":[\"#636efa\",\"#EF553B\",\"#00cc96\",\"#ab63fa\",\"#FFA15A\",\"#19d3f3\",\"#FF6692\",\"#B6E880\",\"#FF97FF\",\"#FECB52\"],\"font\":{\"color\":\"#2a3f5f\"},\"geo\":{\"bgcolor\":\"white\",\"lakecolor\":\"white\",\"landcolor\":\"#E5ECF6\",\"showlakes\":true,\"showland\":true,\"subunitcolor\":\"white\"},\"hoverlabel\":{\"align\":\"left\"},\"hovermode\":\"closest\",\"mapbox\":{\"style\":\"light\"},\"paper_bgcolor\":\"white\",\"plot_bgcolor\":\"#E5ECF6\",\"polar\":{\"angularaxis\":{\"gridcolor\":\"white\",\"linecolor\":\"white\",\"ticks\":\"\"},\"bgcolor\":\"#E5ECF6\",\"radialaxis\":{\"gridcolor\":\"white\",\"linecolor\":\"white\",\"ticks\":\"\"}},\"scene\":{\"xaxis\":{\"backgroundcolor\":\"#E5ECF6\",\"gridcolor\":\"white\",\"gridwidth\":2,\"linecolor\":\"white\",\"showbackground\":true,\"ticks\":\"\",\"zerolinecolor\":\"white\"},\"yaxis\":{\"backgroundcolor\":\"#E5ECF6\",\"gridcolor\":\"white\",\"gridwidth\":2,\"linecolor\":\"white\",\"showbackground\":true,\"ticks\":\"\",\"zerolinecolor\":\"white\"},\"zaxis\":{\"backgroundcolor\":\"#E5ECF6\",\"gridcolor\":\"white\",\"gridwidth\":2,\"linecolor\":\"white\",\"showbackground\":true,\"ticks\":\"\",\"zerolinecolor\":\"white\"}},\"shapedefaults\":{\"line\":{\"color\":\"#2a3f5f\"}},\"ternary\":{\"aaxis\":{\"gridcolor\":\"white\",\"linecolor\":\"white\",\"ticks\":\"\"},\"baxis\":{\"gridcolor\":\"white\",\"linecolor\":\"white\",\"ticks\":\"\"},\"bgcolor\":\"#E5ECF6\",\"caxis\":{\"gridcolor\":\"white\",\"linecolor\":\"white\",\"ticks\":\"\"}},\"title\":{\"x\":0.05},\"xaxis\":{\"automargin\":true,\"gridcolor\":\"white\",\"linecolor\":\"white\",\"ticks\":\"\",\"title\":{\"standoff\":15},\"zerolinecolor\":\"white\",\"zerolinewidth\":2},\"yaxis\":{\"automargin\":true,\"gridcolor\":\"white\",\"linecolor\":\"white\",\"ticks\":\"\",\"title\":{\"standoff\":15},\"zerolinecolor\":\"white\",\"zerolinewidth\":2}}},\"title\":{\"text\":\"\\u003cb\\u003ePopulation Pyramid (2010)\\u003c\\u002fb\\u003e\"},\"updatemenus\":[{\"buttons\":[{\"args\":[null,{\"frame\":{\"duration\":1500,\"redraw\":true},\"fromcurrent\":true}],\"label\":\"\\u25b6 Play\",\"method\":\"animate\"},{\"args\":[[null],{\"frame\":{\"duration\":0,\"redraw\":true},\"mode\":\"immediate\",\"transition\":{\"duration\":0}}],\"label\":\"\\u23f8 Pause\",\"method\":\"animate\"}],\"direction\":\"left\",\"pad\":{\"r\":10,\"t\":60},\"showactive\":false,\"type\":\"buttons\",\"x\":0.1,\"xanchor\":\"right\",\"y\":0,\"yanchor\":\"top\"}],\"xaxis\":{\"showgrid\":true,\"title\":{\"text\":\"Population Scale\"},\"zeroline\":false},\"yaxis\":{\"range\":[0,90],\"showgrid\":true,\"title\":{\"text\":\"Age in Years\"}}},                        {\"responsive\": true}                    ).then(function(){\n",
       "                            Plotly.addFrames('73dcb15e-f597-4431-9692-0d57161e6aae', [{\"data\":[{\"marker\":{\"color\":\"#4C72B0\"},\"name\":\"Men 2010\",\"opacity\":0.8,\"orientation\":\"h\",\"x\":[1249301.0,1096352.0,1117157.0,1502603.0,1963476.0,1924160.0,1516732.0,1177406.0,968323.0,749507.0,534577.0,338597.0,199586.0,137143.0,86511.0,51572.0,39142.0],\"y\":[1,6,11,16,21,26,31,36,41,46,51,56,61,66,71,76,81],\"type\":\"bar\"},{\"marker\":{\"color\":\"#DD8452\"},\"name\":\"Women 2010\",\"opacity\":0.8,\"orientation\":\"h\",\"x\":[-1162106.0,-1018409.0,-980633.0,-1066853.0,-1114922.0,-957661.0,-738483.0,-569255.0,-463098.0,-369772.0,-283682.0,-199683.0,-141466.0,-100625.0,-70011.0,-46637.0,-43048.0],\"y\":[1,6,11,16,21,26,31,36,41,46,51,56,61,66,71,76,81],\"type\":\"bar\"}],\"name\":\"2010\"},{\"data\":[{\"marker\":{\"color\":\"#4C72B0\"},\"name\":\"Men 1990\",\"opacity\":0.8,\"orientation\":\"h\",\"x\":[953120.0,787007.0,595380.0,477973.0,475408.0,508506.0,501346.0,442623.0,338086.0,228265.0,152218.0,104562.0,72123.0,47652.0,28388.0,14680.0,8811.0],\"y\":[1,6,11,16,21,26,31,36,41,46,51,56,61,66,71,76,81],\"type\":\"bar\"},{\"marker\":{\"color\":\"#DD8452\"},\"name\":\"Women 1990\",\"opacity\":0.8,\"orientation\":\"h\",\"x\":[-912259.0,-755250.0,-571068.0,-443644.0,-400352.0,-387688.0,-356860.0,-302404.0,-229708.0,-163658.0,-118091.0,-88158.0,-65806.0,-47184.0,-31285.0,-18243.0,-12887.0],\"y\":[1,6,11,16,21,26,31,36,41,46,51,56,61,66,71,76,81],\"type\":\"bar\"}],\"name\":\"1990\"},{\"data\":[{\"marker\":{\"color\":\"#4C72B0\"},\"name\":\"Men 1970\",\"opacity\":0.8,\"orientation\":\"h\",\"x\":[346649.0,266881.0,211813.0,170682.0,142958.0,132385.0,124155.0,112610.0,92632.0,70002.0,51532.0,37487.0,27712.0,20586.0,13719.0,7696.0,4538.0],\"y\":[1,6,11,16,21,26,31,36,41,46,51,56,61,66,71,76,81],\"type\":\"bar\"},{\"marker\":{\"color\":\"#DD8452\"},\"name\":\"Women 1970\",\"opacity\":0.8,\"orientation\":\"h\",\"x\":[-332630.0,-257708.0,-206007.0,-165220.0,-134832.0,-119331.0,-107229.0,-94674.0,-78419.0,-61705.0,-48225.0,-37678.0,-29844.0,-23099.0,-16082.0,-9495.0,-6260.0],\"y\":[1,6,11,16,21,26,31,36,41,46,51,56,61,66,71,76,81],\"type\":\"bar\"}],\"name\":\"1970\"}]);\n",
       "                        }).then(function(){\n",
       "                            Plotly.animate('73dcb15e-f597-4431-9692-0d57161e6aae', null);\n",
       "                        }).then(function(){\n",
       "                            \n",
       "var gd = document.getElementById('73dcb15e-f597-4431-9692-0d57161e6aae');\n",
       "var x = new MutationObserver(function (mutations, observer) {{\n",
       "        var display = window.getComputedStyle(gd).display;\n",
       "        if (!display || display === 'none') {{\n",
       "            console.log([gd, 'removed!']);\n",
       "            Plotly.purge(gd);\n",
       "            observer.disconnect();\n",
       "        }}\n",
       "}});\n",
       "\n",
       "// Listen for the removal of the full notebook cells\n",
       "var notebookContainer = gd.closest('#notebook-container');\n",
       "if (notebookContainer) {{\n",
       "    x.observe(notebookContainer, {childList: true});\n",
       "}}\n",
       "\n",
       "// Listen for the clearing of the current output cell\n",
       "var outputEl = gd.closest('.output');\n",
       "if (outputEl) {{\n",
       "    x.observe(outputEl, {childList: true});\n",
       "}}\n",
       "\n",
       "                        })                };                });            </script>        </div>"
      ]
     },
     "metadata": {},
     "output_type": "display_data"
    }
   ],
   "source": [
    "def animated_population_pyramid(df, years):\n",
    "    years = [str(year) for year in years if str(year) in df.index]\n",
    "    if not years:\n",
    "        return \"Please ensure all selected years are within your dataframe.\"\n",
    "\n",
    "    def get_bars(year):\n",
    "        \"\"\"Returns bars for a given year (Men & Women).\"\"\"\n",
    "        return [\n",
    "            go.Bar(x=df.loc[year].filter(like=\"Male\").values, \n",
    "                   y=[int(s[:2])+1 for s in age_ranges],\n",
    "                   orientation='h', name=f'Men {year}',\n",
    "                   marker=dict(color='#4C72B0'), opacity=0.8),\n",
    "            \n",
    "            go.Bar(x=-df.loc[year].filter(like=\"Female\").values, \n",
    "                   y=[int(s[:2])+1 for s in age_ranges],\n",
    "                   orientation='h', name=f'Women {year}',\n",
    "                   marker=dict(color='#DD8452'), opacity=0.8)\n",
    "        ]\n",
    "\n",
    "    # Create figure with first year's data\n",
    "    fig = go.Figure(\n",
    "        data=get_bars(years[0]),\n",
    "        layout=go.Layout(\n",
    "            title=f\"<b>Population Pyramid ({years[0]})</b>\",\n",
    "            xaxis=dict(title=\"Population Scale\", showgrid=True, zeroline=False),\n",
    "            yaxis=dict(title=\"Age in Years\", range=[0, 90], showgrid=True),\n",
    "            paper_bgcolor=\"#F7F7F7\",  # Light background\n",
    "            plot_bgcolor=\"#FFFFFF\",   # White plot background\n",
    "            font=dict(family=\"Arial, sans-serif\", size=14, color=\"#333333\"),\n",
    "            updatemenus=[{\n",
    "                \"buttons\": [\n",
    "                    {\"args\": [None, {\"frame\": {\"duration\": 1500, \"redraw\": True}, \"fromcurrent\": True}],\n",
    "                     \"label\": \"▶ Play\", \"method\": \"animate\"},\n",
    "                    {\"args\": [[None], {\"frame\": {\"duration\": 0, \"redraw\": True}, \"mode\": \"immediate\",\n",
    "                                       \"transition\": {\"duration\": 0}}],\n",
    "                     \"label\": \"⏸ Pause\", \"method\": \"animate\"}\n",
    "                ],\n",
    "                \"direction\": \"left\", \"pad\": {\"r\": 10, \"t\": 60},\n",
    "                \"showactive\": False, \"type\": \"buttons\", \"x\": 0.1, \"xanchor\": \"right\", \"y\": 0, \"yanchor\": \"top\"\n",
    "            }]\n",
    "        )\n",
    "    )\n",
    "\n",
    "    # Add animation frames\n",
    "    fig.frames = [go.Frame(data=get_bars(year), name=year) for year in years]\n",
    "\n",
    "    # Display the animated plot\n",
    "    pyo.iplot(fig)\n",
    "\n",
    "# Example function call\n",
    "animated_population_pyramid(sau_df, range(2010, 1960, -20))\n"
   ]
  },
  {
   "cell_type": "markdown",
   "metadata": {
    "cell_id": "1fa342bb33fa470f90bcc2122b680349",
    "deepnote_cell_type": "text-cell-h1",
    "formattedRanges": []
   },
   "source": [
    "# Deliverable 7: Other Visualization Tools"
   ]
  },
  {
   "cell_type": "code",
   "execution_count": 71,
   "metadata": {},
   "outputs": [
    {
     "data": {
      "image/png": "[encoded data removed]",
      "text/plain": [
       "<Figure size 1200x800 with 1 Axes>"
      ]
     },
     "metadata": {},
     "output_type": "display_data"
    }
   ],
   "source": [
    "##Plot Looking at Governance Factors of Saudi Arabia\n",
    "\n",
    "SOURCE = 3 # \"Worldwide Governance Indicators\"\n",
    "governance_variables = {\n",
    "    \"CC.EST\": \"Control of Corruption: Estimate\",\n",
    "    \"GE.EST\": \"Government Effectiveness: Estimate\",\n",
    "    \"PV.EST\": \"Political Stability and Absence of Violence/Terrorism: Estimate\",\n",
    "    \"RL.EST\": \"Rule of Law: Estimate\",\n",
    "    \"RQ.EST\": \"Regulatory Quality: Estimate\",\n",
    "    \"VA.EST\": \"Voice and Accountability: Estimate\"}\n",
    "gov = wbdata.get_dataframe(governance_variables, country=\"SAU\",parse_dates=True)\n",
    "gov.dropna()\n",
    "gov_filtered = gov[gov.index.year >= 2002]\n",
    "\n",
    "#plot\n",
    "ax = gov_filtered.plot(\n",
    "    figsize=(12, 8),\n",
    "    title=\"Gov Factors Over Time (2000 Onwards)\",\n",
    "    xlabel=\"Year\",\n",
    "    ylabel=\"Gov Factors\",\n",
    "    grid=True,)\n",
    "plt.legend(title=\"Indicators\", loc=\"upper left\", bbox_to_anchor=(1.02, 1), fontsize=10)\n",
    "plt.grid(visible=True, linestyle='--', alpha=0.7)\n",
    "plt.tight_layout()\n",
    "plt.show()"
   ]
  },
  {
   "cell_type": "markdown",
   "metadata": {
    "cell_id": "7a291404328e451e8d7f399da1740e4a",
    "deepnote_cell_type": "text-cell-p",
    "formattedRanges": []
   },
   "source": [
    "Things to note from the graph:\n",
    "1. Steady growth in almost every variable since 2020 -- what's happening?\n",
    "2. Major decrease in 'Voice and Accountability + Political Stability in 2004--what happened? "
   ]
  },
  {
   "cell_type": "code",
   "execution_count": 70,
   "metadata": {},
   "outputs": [
    {
     "data": {
      "image/png": "[encoded data removed]",
      "text/plain": [
       "<Figure size 640x480 with 2 Axes>"
      ]
     },
     "metadata": {},
     "output_type": "display_data"
    }
   ],
   "source": [
    "#Heat Map of Governance Factors of Saudi Arabia\n",
    "sns.heatmap(gov.corr(), annot=True, fmt=\".2f\", cmap=\"mako\", cbar=True)\n",
    "plt.title(\"Gov Stats Heatmap \", fontsize=16)\n",
    "plt.show()"
   ]
  },
  {
   "cell_type": "markdown",
   "metadata": {
    "cell_id": "7a291404328e451e8d7f399da1740e4a",
    "deepnote_cell_type": "text-cell-p",
    "formattedRanges": []
   },
   "source": [
    "Couple things to note:\n",
    "1. Strong relation between control of corruption, gov effectiveness, rule of law, and regulatory quality\n",
    "2. Implies something about gov framework?"
   ]
  },
  {
   "cell_type": "markdown",
   "metadata": {
    "cell_id": "1fa342bb33fa470f90bcc2122b680349",
    "deepnote_cell_type": "text-cell-h1",
    "formattedRanges": []
   },
   "source": [
    "# Deliverable 8: Agricultural Supply"
   ]
  },
  {
   "cell_type": "markdown",
   "metadata": {
    "cell_id": "7a291404328e451e8d7f399da1740e4a",
    "deepnote_cell_type": "text-cell-p",
    "formattedRanges": []
   },
   "source": [
    "**Saudi Arabia's Population & Agricultural Production**\n",
    "\n",
    "Saudi Arabia's economic and social development is intertwined with its evolving population dynamics and agricultural production. This presentation explores the historical interplay of these factors, analyzing government policies, technological advancements, and the implications for the nation's future.\n"
   ]
  },
  {
   "cell_type": "markdown",
   "metadata": {
    "cell_id": "7a291404328e451e8d7f399da1740e4a",
    "deepnote_cell_type": "text-cell-p",
    "formattedRanges": []
   },
   "source": [
    "**Saudization Policy**\n",
    "\n",
    "\n",
    "The Saudization policy, also known as the Nitaqat program, aimed to prioritize local employment over foreign workers. This initiative, initiated in 2011, significantly reshaped the Saudi labor force, impacting industries heavily reliant on migrant labor, including agriculture.\n"
   ]
  },
  {
   "cell_type": "markdown",
   "metadata": {
    "cell_id": "7a291404328e451e8d7f399da1740e4a",
    "deepnote_cell_type": "text-cell-p",
    "formattedRanges": []
   },
   "source": [
    "**Vision 2030 & Economic Diversification**\n",
    "\n",
    "Vision 2030, launched in 2016, focuses on economic diversification, shifting away from oil dependence toward sectors like tourism, technology, and non-oil industries. This economic transformation influences migration patterns, population demographics, and the government's agricultural investments.\n"
   ]
  },
  {
   "cell_type": "markdown",
   "metadata": {
    "cell_id": "7a291404328e451e8d7f399da1740e4a",
    "deepnote_cell_type": "text-cell-p",
    "formattedRanges": []
   },
   "source": [
    "**Impact of Expatriate Labor Policies**\n",
    "\n",
    "Saudi Arabia's approach to expatriate labor has undergone significant transformation, particularly affecting the agricultural sector.\n",
    "\n",
    "\n",
    "1. **Traditional Labor Structure**: Heavy reliance on expatriate workforce in low-wage sectors, creating a diverse but dependent agricultural labor market.\n",
    "\n",
    "2. **Policy Evolution**: Implementation of stricter labor laws and expatriate fees, significantly influencing farm labor availability and costs.\n",
    "\n",
    "3. **Current Transformation**: Strategic shift towards skilled worker recruitment and local employment, balancing labor diversity with economic efficiency in agriculture.\n"
   ]
  },
  {
   "cell_type": "markdown",
   "metadata": {
    "cell_id": "7a291404328e451e8d7f399da1740e4a",
    "deepnote_cell_type": "text-cell-p",
    "formattedRanges": []
   },
   "source": [
    "**Historical Shifts in Agricultural Policy**\n",
    "\n",
    "1. **Wheat Subsidy & Water Crisis**: The government heavily subsidized wheat farming from the 1970s to 2008, making Saudi Arabia a top producer. However, this led to severe groundwater depletion.\n",
    "\n",
    "2. **Food Security Strategies**: In response to the water crisis, the government reduced wheat production and increased reliance on imports. Saudi Arabia also invested in farmland abroad to secure its food supply.\n",
    "\n",
    "\n",
    "3. **Smart & Sustainable Agriculture**: Recent investments in hydroponics, desalination-based farming, and vertical farms aim to address climate challenges and\n",
    "promote sustainable agriculture."
   ]
  },
  {
   "cell_type": "markdown",
   "metadata": {
    "cell_id": "7a291404328e451e8d7f399da1740e4a",
    "deepnote_cell_type": "text-cell-p",
    "formattedRanges": []
   },
   "source": [
    "**Impact of Historical Events**\n",
    "\n",
    "1. **Pre-1938: Early Settlements & Traditional Agriculture**\n",
    "\n",
    "Traditional oasis farming and small-scale irrigation systems sustained limited agricultural output. Nomadic Bedouin populations primarily relied on\n",
    "livestock and trade.\n",
    "\n",
    "\n",
    "2. **1938: Oil Discovery & Urbanization**\n",
    "\n",
    "The discovery of oil transformed Saudi Arabia, shifting focus from an agrarian economy to an oil- driven urban economy. Massive urbanization led to rural-to-urban migration and a decline in traditional farming.\n",
    "\n",
    "\n",
    "\n",
    "4. **1960s-1970s: Arab-Israeli Conflicts & Food Security**\n",
    "\n",
    "\n",
    "Middle Eastern conflicts disrupted regional trade, leading to increased food security concerns. Saudi Arabia prioritized self-sufficiency policies during the\n",
    "Cold War era.\n",
    "\n",
    "\n",
    "6. **1990-1991: Gulf War & Migration Changes**\n",
    "\n",
    "\n",
    "The Gulf War led to the expulsion of Yemeni and Jordanian workers, affecting labor supply. A shift in labor policy resulted in a higher reliance on South Asian workers.\n",
    "\n",
    "\n",
    "8. **Present Day: Climate Change & Desertification**\n",
    "\n",
    "Historical overuse of water resources has made food production unsustainable. The government is focusing on sustainable agricultural techniques and food\n",
    "imports.\n"
   ]
  },
  {
   "cell_type": "markdown",
   "metadata": {
    "cell_id": "7a291404328e451e8d7f399da1740e4a",
    "deepnote_cell_type": "text-cell-p",
    "formattedRanges": []
   },
   "source": [
    "**Agricultural Supply & Population Growth**\n",
    "\n",
    "1. **Population Growth:** Saudi Arabia's population has grown rapidly, from around 4 million in 1960 to over 35 million today.\n",
    "\n",
    "\n",
    "\n",
    "2. **Agricultural Production:** Despite government investments in irrigation projects and wheat production subsidies, the country remains heavily dependent on food imports due to its arid climate.\n",
    "\n",
    "\n",
    "\n",
    "3. **Water Scarcity:** Limited water resources restrict sustainable food production, making agricultural expansion challenging.\n",
    "\n",
    "\n",
    "\n",
    "4. **Urbanization & Imports:** Increasing urbanization and reliance on food imports create a system where supply must be maintained through\n",
    "external trade."
   ]
  },
  {
   "cell_type": "markdown",
   "metadata": {
    "cell_id": "7a291404328e451e8d7f399da1740e4a",
    "deepnote_cell_type": "text-cell-p",
    "formattedRanges": []
   },
   "source": [
    "**The Malthusian Perspective**\n",
    "\n",
    "1. **Malthusian Concerns:** Thomas Malthus argued that unchecked population growth would outstrip resource availability, leading to resource scarcity and societal instability.\n",
    "\n",
    "\n",
    "\n",
    "\n",
    "2. **Food Security Risks:** Malthus might argue that Saudi Arabia's rapid population growth could lead to food insecurity if imports were disrupted due to its heavy reliance on imported food.\n",
    "\n",
    "\n",
    "\n",
    "\n",
    "3. **Vulnerability:** The country is susceptible to external shocks such as global supply chain disruptions, climate change, and geopolitical issues, making its food security precarious.\n"
   ]
  }
 ],
 "metadata": {
  "deepnote_notebook_id": "7f019913d5b84ddbae7512f60f2872c0",
  "kernelspec": {
   "display_name": "Python 3 (ipykernel)",
   "language": "python",
   "name": "python3"
  },
  "language_info": {
   "codemirror_mode": {
    "name": "ipython",
    "version": 3
   },
   "file_extension": ".py",
   "mimetype": "text/x-python",
   "name": "python",
   "nbconvert_exporter": "python",
   "pygments_lexer": "ipython3",
   "version": "3.11.11"
  }
 },
 "nbformat": 4,
 "nbformat_minor": 4
}
