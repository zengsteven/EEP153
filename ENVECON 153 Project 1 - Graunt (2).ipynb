{
 "cells": [
  {
   "cell_type": "markdown",
   "metadata": {
    "cell_id": "1702564476ac4528ba308c53ad29689f",
    "deepnote_cell_type": "text-cell-h1",
    "formattedRanges": [
     {
      "fromCodePoint": 0,
      "marks": {
       "bold": true
      },
      "toCodePoint": 29,
      "type": "marks"
     }
    ]
   },
   "source": [
    "# EEP 136 Project 1 Deliverable"
   ]
  },
  {
   "cell_type": "markdown",
   "metadata": {
    "cell_id": "3a6186497d604d56b162707977989a09",
    "deepnote_cell_type": "text-cell-p",
    "formattedRanges": [
     {
      "fromCodePoint": 0,
      "marks": {
       "bold": true
      },
      "toCodePoint": 17,
      "type": "marks"
     }
    ]
   },
   "source": [
    "**Group John Graunt**"
   ]
  },
  {
   "cell_type": "markdown",
   "metadata": {
    "cell_id": "647b0bbe1f03413896fedcaf050660f2",
    "deepnote_cell_type": "text-cell-p",
    "formattedRanges": []
   },
   "source": [
    "Introduction: We are Team Graunt, with members:\n",
    "1. Guilherme Hoher - guilherme_hoher@berkeley.edu \n",
    "2. Xiaolong Wang - justinwx@berkeley.edu & https://github.com/Justinwxl\n",
    "3. Shrija Malla - shrija@berkeley.edu & https://github.com/shrija-malla\n",
    "4. Steven Zeng - k1519632@berkeley.edu & https://github.com/zengsteven"
   ]
  },
  {
   "cell_type": "markdown",
   "metadata": {
    "cell_id": "8673596a542e4a6789567d4be0f4106d",
    "deepnote_cell_type": "text-cell-h2",
    "formattedRanges": []
   },
   "source": [
    "## Topics & Goals:"
   ]
  },
  {
   "cell_type": "markdown",
   "metadata": {
    "cell_id": "35a1a834ca024698a29b7396638a95f3",
    "deepnote_cell_type": "text-cell-p",
    "formattedRanges": []
   },
   "source": [
    "Our project focused on analyzing recent population trends in Saudi Arabia with a focus on migration and work patterns. In addition, we also analyzed some factors regarding the country's governance."
   ]
  },
  {
   "cell_type": "markdown",
   "metadata": {
    "cell_id": "7a291404328e451e8d7f399da1740e4a",
    "deepnote_cell_type": "text-cell-p",
    "formattedRanges": []
   },
   "source": [
    "Our project goals included:\n",
    "1. Better understanding possible socioeconomic and cultural reasons for migration in the region.\n",
    "2. Analyzing relationships between other growing interests in the region and migration."
   ]
  },
  {
   "cell_type": "markdown",
   "metadata": {
    "cell_id": "e3f84b764e6f4bad9bab120c7f7824de",
    "deepnote_cell_type": "text-cell-h2",
    "formattedRanges": []
   },
   "source": [
    "## Collaboration:"
   ]
  },
  {
   "cell_type": "markdown",
   "metadata": {
    "cell_id": "455b0f4131164e4b9be748cd1a44e6fa",
    "deepnote_cell_type": "text-cell-p",
    "formattedRanges": []
   },
   "source": [
    "We collaborated using the following tools:"
   ]
  },
  {
   "cell_type": "markdown",
   "metadata": {
    "cell_id": "24ade0ae96d94ea482062b4752038a68",
    "deepnote_cell_type": "text-cell-p",
    "formattedRanges": []
   },
   "source": [
    "1. Google Docs for general asynchronous updates and planning\n",
    "2. Deepnote for collaborative coding\n",
    "3. Datahub for compiling the code to send off to Github\n",
    "4. Github for hosting the project files"
   ]
  },
  {
   "cell_type": "markdown",
   "metadata": {
    "cell_id": "2cc5bf954ff44305ad4171cdbdc867c7",
    "deepnote_cell_type": "text-cell-h2",
    "formattedRanges": []
   },
   "source": [
    "## Code"
   ]
  },
  {
   "cell_type": "code",
   "execution_count": 37,
   "metadata": {
    "cell_id": "6366ce1a339442ebad03eb7e651f2acb",
    "deepnote_cell_type": "code",
    "execution_context_id": "953aed88-5a4f-4043-939a-2e3d87cfd5c0",
    "execution_millis": 5329,
    "execution_start": 1738900128548,
    "source_hash": "5b937c7e"
   },
   "outputs": [
    {
     "name": "stdout",
     "output_type": "stream",
     "text": [
      "Requirement already satisfied: wbdata in /srv/conda/lib/python3.11/site-packages (1.0.0)\n",
      "Requirement already satisfied: appdirs<2.0,>=1.4 in /srv/conda/lib/python3.11/site-packages (from wbdata) (1.4.4)\n",
      "Requirement already satisfied: backoff<3.0.0,>=2.2.1 in /srv/conda/lib/python3.11/site-packages (from wbdata) (2.2.1)\n",
      "Requirement already satisfied: cachetools<6.0.0,>=5.3.2 in /srv/conda/lib/python3.11/site-packages (from wbdata) (5.5.1)\n",
      "Requirement already satisfied: dateparser<2.0.0,>=1.2.0 in /srv/conda/lib/python3.11/site-packages (from wbdata) (1.2.1)\n",
      "Requirement already satisfied: decorator<6.0.0,>=5.1.1 in /srv/conda/lib/python3.11/site-packages (from wbdata) (5.1.1)\n",
      "Requirement already satisfied: requests<3.0,>=2.0 in /srv/conda/lib/python3.11/site-packages (from wbdata) (2.32.3)\n",
      "Requirement already satisfied: shelved-cache<0.4.0,>=0.3.1 in /srv/conda/lib/python3.11/site-packages (from wbdata) (0.3.1)\n",
      "Requirement already satisfied: tabulate<0.9.0,>=0.8.5 in /srv/conda/lib/python3.11/site-packages (from wbdata) (0.8.10)\n",
      "Requirement already satisfied: python-dateutil>=2.7.0 in /srv/conda/lib/python3.11/site-packages (from dateparser<2.0.0,>=1.2.0->wbdata) (2.9.0.post0)\n",
      "Requirement already satisfied: pytz>=2024.2 in /srv/conda/lib/python3.11/site-packages (from dateparser<2.0.0,>=1.2.0->wbdata) (2025.1)\n",
      "Requirement already satisfied: regex!=2019.02.19,!=2021.8.27,>=2015.06.24 in /srv/conda/lib/python3.11/site-packages (from dateparser<2.0.0,>=1.2.0->wbdata) (2024.11.6)\n",
      "Requirement already satisfied: tzlocal>=0.2 in /srv/conda/lib/python3.11/site-packages (from dateparser<2.0.0,>=1.2.0->wbdata) (5.3)\n",
      "Requirement already satisfied: charset_normalizer<4,>=2 in /srv/conda/lib/python3.11/site-packages (from requests<3.0,>=2.0->wbdata) (3.4.0)\n",
      "Requirement already satisfied: idna<4,>=2.5 in /srv/conda/lib/python3.11/site-packages (from requests<3.0,>=2.0->wbdata) (3.10)\n",
      "Requirement already satisfied: urllib3<3,>=1.21.1 in /srv/conda/lib/python3.11/site-packages (from requests<3.0,>=2.0->wbdata) (2.3.0)\n",
      "Requirement already satisfied: certifi>=2017.4.17 in /srv/conda/lib/python3.11/site-packages (from requests<3.0,>=2.0->wbdata) (2024.12.14)\n",
      "Requirement already satisfied: six>=1.5 in /srv/conda/lib/python3.11/site-packages (from python-dateutil>=2.7.0->dateparser<2.0.0,>=1.2.0->wbdata) (1.17.0)\n",
      "Note: you may need to restart the kernel to use updated packages.\n",
      "Requirement already satisfied: chart-studio in /srv/conda/lib/python3.11/site-packages (1.1.0)\n",
      "Requirement already satisfied: plotly in /srv/conda/lib/python3.11/site-packages (from chart-studio) (6.0.0)\n",
      "Requirement already satisfied: requests in /srv/conda/lib/python3.11/site-packages (from chart-studio) (2.32.3)\n",
      "Requirement already satisfied: retrying>=1.3.3 in /srv/conda/lib/python3.11/site-packages (from chart-studio) (1.3.4)\n",
      "Requirement already satisfied: six in /srv/conda/lib/python3.11/site-packages (from chart-studio) (1.17.0)\n",
      "Requirement already satisfied: narwhals>=1.15.1 in /srv/conda/lib/python3.11/site-packages (from plotly->chart-studio) (1.26.0)\n",
      "Requirement already satisfied: packaging in /srv/conda/lib/python3.11/site-packages (from plotly->chart-studio) (24.2)\n",
      "Requirement already satisfied: charset_normalizer<4,>=2 in /srv/conda/lib/python3.11/site-packages (from requests->chart-studio) (3.4.0)\n",
      "Requirement already satisfied: idna<4,>=2.5 in /srv/conda/lib/python3.11/site-packages (from requests->chart-studio) (3.10)\n",
      "Requirement already satisfied: urllib3<3,>=1.21.1 in /srv/conda/lib/python3.11/site-packages (from requests->chart-studio) (2.3.0)\n",
      "Requirement already satisfied: certifi>=2017.4.17 in /srv/conda/lib/python3.11/site-packages (from requests->chart-studio) (2024.12.14)\n",
      "Note: you may need to restart the kernel to use updated packages.\n",
      "Requirement already satisfied: pip in /srv/conda/lib/python3.11/site-packages (25.0.1)\n",
      "Note: you may need to restart the kernel to use updated packages.\n"
     ]
    }
   ],
   "source": [
    "##Installing Data and Tools\n",
    "%pip install wbdata\n",
    "%pip install chart-studio\n",
    "%pip install --upgrade pip\n",
    "%matplotlib notebook\n",
    "%matplotlib inline\n",
    "import wbdata\n",
    "import pandas as pd\n",
    "import numpy as np\n",
    "import matplotlib.pyplot as plt\n",
    "import plotly.graph_objects as go\n",
    "import plotly.offline as pyo\n",
    "import seaborn as sns"
   ]
  },
  {
   "cell_type": "markdown",
   "metadata": {
    "cell_id": "1fa342bb33fa470f90bcc2122b680349",
    "deepnote_cell_type": "text-cell-h1",
    "formattedRanges": []
   },
   "source": [
    "# Deliverable 1: Population Statistics"
   ]
  },
  {
   "cell_type": "code",
   "execution_count": 38,
   "metadata": {
    "cell_id": "0fd0076f22a44f49b559d3fa96a578b8",
    "deepnote_cell_type": "code",
    "execution_context_id": "953aed88-5a4f-4043-939a-2e3d87cfd5c0",
    "execution_millis": 314,
    "execution_start": 1738900134036,
    "source_hash": "6b85c8e5"
   },
   "outputs": [
    {
     "name": "stdout",
     "output_type": "stream",
     "text": [
      "In 2002, 102,432,000 people aged 0 to 4 were living in China.\n",
      "In 2020, 23,071,238 females aged 10 to 19 were living in United States.\n",
      "In 2023, 1,289,900,160 people aged 20 to 29 were living in the world.\n",
      "In 2023, 46,888,085 people aged 65 to 85 were living in the United States.\n",
      "In 1975, 368,618 people aged 5 to 7 were living in Rwanda.\n"
     ]
    }
   ],
   "source": [
    "import pandas as pd\n",
    "import requests\n",
    "\n",
    "\n",
    "def get_country_code(country_name):\n",
    "    \"\"\"\n",
    "    Convert country name -> World Bank ISO3 country code.\n",
    "    \"\"\"\n",
    "    url = \"https://api.worldbank.org/v2/country?format=json&per_page=300\"\n",
    "    response = requests.get(url)\n",
    "    response.raise_for_status()\n",
    "    data = response.json()\n",
    "\n",
    "    # Validate API response structure\n",
    "    if not (isinstance(data, list) and len(data) >= 2 and isinstance(data[1], list)):\n",
    "        raise ValueError(\"Unexpected data format received from World Bank API.\")\n",
    "\n",
    "    # Iterate over list of countries to find matching name.\n",
    "    for country in data[1]:\n",
    "        if country.get(\"name\", \"\").strip().lower() == country_name.strip().lower():\n",
    "            return country.get(\"id\")\n",
    "    \n",
    "    return None\n",
    "\n",
    "\n",
    "\n",
    "\n",
    "def get_age_distribution(country_code, year):\n",
    "    \"\"\"\n",
    "    Mock function to return age distribution percentages for a given country and year.\n",
    "    This should ideally be replaced with real data from a reliable demographic source.\n",
    "    \"\"\"\n",
    "    age_distributions = {\n",
    "        \"WLD\": {0: 8, 5: 8, 10: 9, 15: 9, 20: 8, 25: 8, 30: 7, 35: 7,\n",
    "                 40: 6, 45: 6, 50: 5, 55: 5, 60: 4, 65: 4, 70: 3, 75: 2,\n",
    "                 80: 2, 85: 1},\n",
    "        \"USA\": {0: 6, 5: 6, 10: 7, 15: 7, 20: 7, 25: 7, 30: 6, 35: 6,\n",
    "                 40: 6, 45: 6, 50: 6, 55: 5, 60: 5, 65: 4, 70: 3, 75: 3,\n",
    "                 80: 2, 85: 2}\n",
    "    }\n",
    "    return age_distributions.get(country_code, age_distributions[\"WLD\"])\n",
    "\n",
    "def estimate_population_in_age_range(total_population, age_range, age_distribution):\n",
    "    \"\"\"\n",
    "    Estimate the population within the specified age range based on the age distribution.\n",
    "    \"\"\"\n",
    "    lower, upper = age_range\n",
    "    total_percentage = sum(v for k, v in age_distribution.items() if lower <= k <= upper)\n",
    "    return int((total_percentage / 100) * total_population)\n",
    "\n",
    "def population(year, sex, age_range, location):\n",
    "    \"\"\"\n",
    "    Get the estimated population of a given country (or the world) based on year, sex, and age range.\n",
    "    Returns a formatted string with the result.\n",
    "    \"\"\"\n",
    "    \n",
    "    sex = sex.lower().strip()\n",
    "    sex_indicators = {\n",
    "        \"people\": \"SP.POP.TOTL\", \"p\": \"SP.POP.TOTL\", \"all\": \"SP.POP.TOTL\", \"everyone\": \"SP.POP.TOTL\",\n",
    "        \"male\": \"SP.POP.TOTL.MA.IN\", \"males\": \"SP.POP.TOTL.MA.IN\", \"m\": \"SP.POP.TOTL.MA.IN\", \"ma\": \"SP.POP.TOTL.MA.IN\",\n",
    "        \"female\": \"SP.POP.TOTL.FE.IN\", \"females\": \"SP.POP.TOTL.FE.IN\", \"f\": \"SP.POP.TOTL.FE.IN\", \"fe\": \"SP.POP.TOTL.FE.IN\"\n",
    "    }\n",
    "    \n",
    "    indicator = sex_indicators.get(sex, None)\n",
    "    if indicator is None:\n",
    "        return None\n",
    "    \n",
    "    if location.strip().lower() in [\"world\", \"wld\"]:\n",
    "        country_code = \"WLD\"\n",
    "        location_name = \"the world\"\n",
    "    elif location.strip().lower() == \"usa\":\n",
    "        country_code = \"USA\"\n",
    "        location_name = \"the United States\"\n",
    "    else:\n",
    "        country_code = get_country_code(location)\n",
    "        location_name = location\n",
    "    \n",
    "    if not country_code:\n",
    "        return None\n",
    "    \n",
    "    url = f\"https://api.worldbank.org/v2/country/{country_code}/indicator/{indicator}?date={year}&format=json\"\n",
    "    response = requests.get(url)\n",
    "    response.raise_for_status()\n",
    "    data = response.json()\n",
    "    \n",
    "    total_population = data[1][0].get(\"value\", None)\n",
    "    if total_population is None:\n",
    "        return None\n",
    "    \n",
    "    age_distribution = get_age_distribution(country_code, year)\n",
    "    estimated_population = estimate_population_in_age_range(total_population, age_range, age_distribution)\n",
    "\n",
    "    sex_label = \"people\" if sex in [\"p\", \"people\", \"everyone\", \"all\"] else \"males\" if sex.startswith(\"m\") else \"females\"\n",
    "    lower, upper = age_range\n",
    "\n",
    "    return f\"In {year}, {estimated_population:,} {sex_label} aged {lower} to {upper} were living in {location_name}.\"\n",
    "\n",
    "# Example queries:\n",
    "print(population(2002, \"p\", [0, 4], \"China\"))\n",
    "print(population(2020, \"females\", [10, 19], \"United States\"))\n",
    "print(population(2023, \"everyone\", [20, 29], \"WLD\"))\n",
    "print(population(2023, \"everyone\", [65, 85], \"USA\"))\n",
    "print(population(1975, \"People\", [5, 7], \"Rwanda\"))"
   ]
  },
  {
   "cell_type": "markdown",
   "metadata": {
    "cell_id": "1fa342bb33fa470f90bcc2122b680349",
    "deepnote_cell_type": "text-cell-h1",
    "formattedRanges": []
   },
   "source": [
    "# Deliverable 3: Population DF"
   ]
  },
  {
   "cell_type": "markdown",
   "metadata": {
    "cell_id": "9a072765d21744bfad1cf2c02b9776cb",
    "deepnote_cell_type": "text-cell-p",
    "formattedRanges": []
   },
   "source": [
    "Population breakdown function returns population data for multiple countries and years, segmented by age buckets (0-4, 5-9, 10-14...) and by sex as Make or Female. Data slicing put in place to segment pandas DF output into single countries, years, or age ranges."
   ]
  },
  {
   "cell_type": "code",
   "execution_count": 39,
   "metadata": {
    "cell_id": "0e6ad177cb744eea9058e16f779a8604",
    "deepnote_cell_type": "code",
    "deepnote_to_be_reexecuted": true,
    "execution_context_id": "92e75c94-3350-41e6-971b-7ade84e195b8",
    "execution_millis": 391,
    "execution_start": 1738871198554,
    "source_hash": "2c444fdb"
   },
   "outputs": [
    {
     "data": {
      "text/html": [
       "<div>\n",
       "<style scoped>\n",
       "    .dataframe tbody tr th:only-of-type {\n",
       "        vertical-align: middle;\n",
       "    }\n",
       "\n",
       "    .dataframe tbody tr th {\n",
       "        vertical-align: top;\n",
       "    }\n",
       "\n",
       "    .dataframe thead tr th {\n",
       "        text-align: left;\n",
       "    }\n",
       "</style>\n",
       "<table border=\"1\" class=\"dataframe\">\n",
       "  <thead>\n",
       "    <tr>\n",
       "      <th>country</th>\n",
       "      <th colspan=\"3\" halign=\"left\">Saudi Arabia</th>\n",
       "      <th colspan=\"3\" halign=\"left\">World</th>\n",
       "    </tr>\n",
       "    <tr>\n",
       "      <th>date</th>\n",
       "      <th>2021</th>\n",
       "      <th>2022</th>\n",
       "      <th>2023</th>\n",
       "      <th>2021</th>\n",
       "      <th>2022</th>\n",
       "      <th>2023</th>\n",
       "    </tr>\n",
       "  </thead>\n",
       "  <tbody>\n",
       "    <tr>\n",
       "      <th>Ages from: 15 to 19, Sex:ALL</th>\n",
       "      <td>2120890.0</td>\n",
       "      <td>2259774.0</td>\n",
       "      <td>2371586.0</td>\n",
       "      <td>628503310.0</td>\n",
       "      <td>634302436.0</td>\n",
       "      <td>641361354.0</td>\n",
       "    </tr>\n",
       "    <tr>\n",
       "      <th>Ages from: 20 to 24, Sex:ALL</th>\n",
       "      <td>2438577.0</td>\n",
       "      <td>2550849.0</td>\n",
       "      <td>2553557.0</td>\n",
       "      <td>606899432.0</td>\n",
       "      <td>610101382.0</td>\n",
       "      <td>613417892.0</td>\n",
       "    </tr>\n",
       "    <tr>\n",
       "      <th>Ages from: 25 to 29, Sex:ALL</th>\n",
       "      <td>3441696.0</td>\n",
       "      <td>3556425.0</td>\n",
       "      <td>3496783.0</td>\n",
       "      <td>598444711.0</td>\n",
       "      <td>597937519.0</td>\n",
       "      <td>597919353.0</td>\n",
       "    </tr>\n",
       "    <tr>\n",
       "      <th>Ages from: 30 to 34, Sex:ALL</th>\n",
       "      <td>3768273.0</td>\n",
       "      <td>3892709.0</td>\n",
       "      <td>3995700.0</td>\n",
       "      <td>608619057.0</td>\n",
       "      <td>608311260.0</td>\n",
       "      <td>606055143.0</td>\n",
       "    </tr>\n",
       "    <tr>\n",
       "      <th>Ages from: 35 to 39, Sex:ALL</th>\n",
       "      <td>3304388.0</td>\n",
       "      <td>3496892.0</td>\n",
       "      <td>3684531.0</td>\n",
       "      <td>559396606.0</td>\n",
       "      <td>569435453.0</td>\n",
       "      <td>579245403.0</td>\n",
       "    </tr>\n",
       "    <tr>\n",
       "      <th>Ages from: 40 to 44, Sex:ALL</th>\n",
       "      <td>2475812.0</td>\n",
       "      <td>2672686.0</td>\n",
       "      <td>2893332.0</td>\n",
       "      <td>498519691.0</td>\n",
       "      <td>509619214.0</td>\n",
       "      <td>521672854.0</td>\n",
       "    </tr>\n",
       "    <tr>\n",
       "      <th>Ages from: 45 to 49, Sex:ALL</th>\n",
       "      <td>1754330.0</td>\n",
       "      <td>1868644.0</td>\n",
       "      <td>2027944.0</td>\n",
       "      <td>472396130.0</td>\n",
       "      <td>471713491.0</td>\n",
       "      <td>472232399.0</td>\n",
       "    </tr>\n",
       "    <tr>\n",
       "      <th>Ages from: 50 to 54, Sex:ALL</th>\n",
       "      <td>1352828.0</td>\n",
       "      <td>1406923.0</td>\n",
       "      <td>1482563.0</td>\n",
       "      <td>446583765.0</td>\n",
       "      <td>453616555.0</td>\n",
       "      <td>458963038.0</td>\n",
       "    </tr>\n",
       "  </tbody>\n",
       "</table>\n",
       "</div>"
      ],
      "text/plain": [
       "country                      Saudi Arabia                              World  \\\n",
       "date                                 2021       2022       2023         2021   \n",
       "Ages from: 15 to 19, Sex:ALL    2120890.0  2259774.0  2371586.0  628503310.0   \n",
       "Ages from: 20 to 24, Sex:ALL    2438577.0  2550849.0  2553557.0  606899432.0   \n",
       "Ages from: 25 to 29, Sex:ALL    3441696.0  3556425.0  3496783.0  598444711.0   \n",
       "Ages from: 30 to 34, Sex:ALL    3768273.0  3892709.0  3995700.0  608619057.0   \n",
       "Ages from: 35 to 39, Sex:ALL    3304388.0  3496892.0  3684531.0  559396606.0   \n",
       "Ages from: 40 to 44, Sex:ALL    2475812.0  2672686.0  2893332.0  498519691.0   \n",
       "Ages from: 45 to 49, Sex:ALL    1754330.0  1868644.0  2027944.0  472396130.0   \n",
       "Ages from: 50 to 54, Sex:ALL    1352828.0  1406923.0  1482563.0  446583765.0   \n",
       "\n",
       "country                                                 \n",
       "date                                 2022         2023  \n",
       "Ages from: 15 to 19, Sex:ALL  634302436.0  641361354.0  \n",
       "Ages from: 20 to 24, Sex:ALL  610101382.0  613417892.0  \n",
       "Ages from: 25 to 29, Sex:ALL  597937519.0  597919353.0  \n",
       "Ages from: 30 to 34, Sex:ALL  608311260.0  606055143.0  \n",
       "Ages from: 35 to 39, Sex:ALL  569435453.0  579245403.0  \n",
       "Ages from: 40 to 44, Sex:ALL  509619214.0  521672854.0  \n",
       "Ages from: 45 to 49, Sex:ALL  471713491.0  472232399.0  \n",
       "Ages from: 50 to 54, Sex:ALL  453616555.0  458963038.0  "
      ]
     },
     "execution_count": 39,
     "metadata": {},
     "output_type": "execute_result"
    }
   ],
   "source": [
    "def population_breakdown(country, year, gender=\"All\", min_age=None, max_age=None):\n",
    "    if isinstance(country, str):\n",
    "        country = [country]\n",
    "    mydict = {}\n",
    "    ages = [\"0004\", \"0509\", \"1014\", \"1519\", \"2024\", \"2529\", \"3034\", \"3539\", \"4044\", \"4549\", \"5054\", \"5559\", \"6064\", \"6569\", \"7074\", \"7579\", \"80UP\"]\n",
    "    # Set default age range if not provided\n",
    "    if min_age is None:\n",
    "        min_age = int(ages[0][:2])\n",
    "    if max_age is None:\n",
    "        max_age = 200\n",
    "    ages_filtered = []\n",
    "    for age in ages:\n",
    "        if age != \"80UP\":\n",
    "            lower = int(age[:2])\n",
    "            upper = int(age[2:4])\n",
    "        else:\n",
    "            lower = 80\n",
    "            upper = float('inf')\n",
    "        if upper >= min_age and lower <= max_age:\n",
    "            ages_filtered.append(age)\n",
    "    if gender.lower() == \"male\":\n",
    "        mfs = [\"MA\"]\n",
    "    elif gender.lower() == \"female\":\n",
    "        mfs = [\"FE\"]\n",
    "    elif gender.lower() == \"all\":\n",
    "        mfs = [\"MA\", \"FE\"]\n",
    "    else:\n",
    "        raise ValueError(\"Gender must be 'Male', 'Female', or 'All'.\")\n",
    "    for age in ages_filtered:\n",
    "        for mf in mfs:\n",
    "            mydict[\"SP.POP.\" + age + \".\" + mf] = \"Ages from: \" + (age[0:2] if age != \"80UP\" else \"80\") + \" to \" + (age[2:4] if age != \"80UP\" else \"UP\") + \", Sex:\" + mf\n",
    "    variable_labels = mydict\n",
    "    world = wbdata.get_dataframe(variable_labels, country=country, parse_dates=False)\n",
    "    if gender.lower() == \"all\":\n",
    "        for age in ages_filtered:\n",
    "            male_label = \"Ages from: \" + (age[0:2] if age != \"80UP\" else \"80\") + \" to \" + (age[2:4] if age != \"80UP\" else \"UP\") + \", Sex:MA\"\n",
    "            female_label = \"Ages from: \" + (age[0:2] if age != \"80UP\" else \"80\") + \" to \" + (age[2:4] if age != \"80UP\" else \"UP\") + \", Sex:FE\"\n",
    "            all_label = \"Ages from: \" + (age[0:2] if age != \"80UP\" else \"80\") + \" to \" + (age[2:4] if age != \"80UP\" else \"UP\") + \", Sex:ALL\"\n",
    "            world[all_label] = world[male_label] + world[female_label]\n",
    "            world.drop([male_label, female_label], axis=1, inplace=True)\n",
    "    if isinstance(year, int):\n",
    "        if isinstance(world.index, pd.MultiIndex):\n",
    "            world.index = world.index.set_levels(world.index.levels[1].astype(int), level=1)\n",
    "            world = world.sort_index()\n",
    "            result = world.loc[pd.IndexSlice[:, year], :]\n",
    "        else:\n",
    "            result = world.loc[str(year)].to_frame().T\n",
    "    elif isinstance(year, (list, tuple)) and len(year) == 2:\n",
    "        start, end = year\n",
    "        if isinstance(world.index, pd.MultiIndex):\n",
    "            world.index = world.index.set_levels(world.index.levels[1].astype(int), level=1)\n",
    "            world = world.sort_index()\n",
    "            result = world.loc[pd.IndexSlice[:, start:end], :]\n",
    "        else:\n",
    "            world.index = world.index.astype(int)\n",
    "            world = world.sort_index()\n",
    "            result = world.loc[start:end]\n",
    "    return result.T\n",
    "\n",
    "df = population_breakdown([\"SAU\",\"WLD\"], [2021, 2023], gender=\"All\", min_age=16, max_age=50)\n",
    "df\n"
   ]
  },
  {
   "cell_type": "markdown",
   "metadata": {
    "cell_id": "1fa342bb33fa470f90bcc2122b680349",
    "deepnote_cell_type": "text-cell-h1",
    "formattedRanges": []
   },
   "source": [
    "# Deliverable 4: Population Pyramid"
   ]
  },
  {
   "cell_type": "code",
   "execution_count": 40,
   "metadata": {},
   "outputs": [
    {
     "data": {
      "text/html": [
       "        <script type=\"text/javascript\">\n",
       "        window.PlotlyConfig = {MathJaxConfig: 'local'};\n",
       "        if (window.MathJax && window.MathJax.Hub && window.MathJax.Hub.Config) {window.MathJax.Hub.Config({SVG: {font: \"STIX-Web\"}});}\n",
       "        </script>\n",
       "        <script type=\"module\">import \"https://cdn.plot.ly/plotly-3.0.0.min\"</script>\n",
       "        "
      ]
     },
     "metadata": {},
     "output_type": "display_data"
    },
    {
     "data": {
      "application/vnd.plotly.v1+json": {
       "config": {
        "plotlyServerURL": "https://plot.ly"
       },
       "data": [
        {
         "hoverinfo": "x+y",
         "marker": {
          "color": "#4C72B0"
         },
         "name": "Men",
         "orientation": "h",
         "type": "bar",
         "x": {
          "bdata": "AAAAABUQM0EAAAAAoLowQQAAAADlCzFBAAAAAIvtNkEAAAAA1PU9QQAAAABAXD1BAAAAALwkN0EAAAAAPvcxQQAAAAAGjS1BAAAAAIbfJkEAAAAAYlAgQQAAAACUqhRBAAAAABBdCEEAAAAAuL0AQQAAAADwHvVAAAAAAIAu6UAAAAAAwBzjQA==",
          "dtype": "f8"
         },
         "y": [
          2,
          7,
          12,
          17,
          22,
          27,
          32,
          37,
          42,
          47,
          52,
          57,
          62,
          67,
          72,
          77,
          82
         ]
        },
        {
         "hoverinfo": "x+y",
         "marker": {
          "color": "#DD8452"
         },
         "name": "Women",
         "orientation": "h",
         "type": "bar",
         "x": {
          "bdata": "AAAAAHq7McEAAAAAUhQvwQAAAAAy7S3BAAAAAGVHMMEAAAAAKgMxwQAAAAC6OS3BAAAAAGaJJsEAAAAATl8hwQAAAADoQxzBAAAAALCRFsEAAAAAiFARwQAAAAAYYAjBAAAAANBEAcEAAAAAEJH4wAAAAACwF/HAAAAAAKDF5sAAAAAAAAXlwA==",
          "dtype": "f8"
         },
         "y": [
          2,
          7,
          12,
          17,
          22,
          27,
          32,
          37,
          42,
          47,
          52,
          57,
          62,
          67,
          72,
          77,
          82
         ]
        }
       ],
       "layout": {
        "barmode": "overlay",
        "font": {
         "color": "#333333",
         "family": "Arial, sans-serif",
         "size": 14
        },
        "paper_bgcolor": "#F7F7F7",
        "plot_bgcolor": "#FFFFFF",
        "showlegend": true,
        "template": {
         "data": {
          "bar": [
           {
            "error_x": {
             "color": "#2a3f5f"
            },
            "error_y": {
             "color": "#2a3f5f"
            },
            "marker": {
             "line": {
              "color": "#E5ECF6",
              "width": 0.5
             },
             "pattern": {
              "fillmode": "overlay",
              "size": 10,
              "solidity": 0.2
             }
            },
            "type": "bar"
           }
          ],
          "barpolar": [
           {
            "marker": {
             "line": {
              "color": "#E5ECF6",
              "width": 0.5
             },
             "pattern": {
              "fillmode": "overlay",
              "size": 10,
              "solidity": 0.2
             }
            },
            "type": "barpolar"
           }
          ],
          "carpet": [
           {
            "aaxis": {
             "endlinecolor": "#2a3f5f",
             "gridcolor": "white",
             "linecolor": "white",
             "minorgridcolor": "white",
             "startlinecolor": "#2a3f5f"
            },
            "baxis": {
             "endlinecolor": "#2a3f5f",
             "gridcolor": "white",
             "linecolor": "white",
             "minorgridcolor": "white",
             "startlinecolor": "#2a3f5f"
            },
            "type": "carpet"
           }
          ],
          "choropleth": [
           {
            "colorbar": {
             "outlinewidth": 0,
             "ticks": ""
            },
            "type": "choropleth"
           }
          ],
          "contour": [
           {
            "colorbar": {
             "outlinewidth": 0,
             "ticks": ""
            },
            "colorscale": [
             [
              0,
              "#0d0887"
             ],
             [
              0.1111111111111111,
              "#46039f"
             ],
             [
              0.2222222222222222,
              "#7201a8"
             ],
             [
              0.3333333333333333,
              "#9c179e"
             ],
             [
              0.4444444444444444,
              "#bd3786"
             ],
             [
              0.5555555555555556,
              "#d8576b"
             ],
             [
              0.6666666666666666,
              "#ed7953"
             ],
             [
              0.7777777777777778,
              "#fb9f3a"
             ],
             [
              0.8888888888888888,
              "#fdca26"
             ],
             [
              1,
              "#f0f921"
             ]
            ],
            "type": "contour"
           }
          ],
          "contourcarpet": [
           {
            "colorbar": {
             "outlinewidth": 0,
             "ticks": ""
            },
            "type": "contourcarpet"
           }
          ],
          "heatmap": [
           {
            "colorbar": {
             "outlinewidth": 0,
             "ticks": ""
            },
            "colorscale": [
             [
              0,
              "#0d0887"
             ],
             [
              0.1111111111111111,
              "#46039f"
             ],
             [
              0.2222222222222222,
              "#7201a8"
             ],
             [
              0.3333333333333333,
              "#9c179e"
             ],
             [
              0.4444444444444444,
              "#bd3786"
             ],
             [
              0.5555555555555556,
              "#d8576b"
             ],
             [
              0.6666666666666666,
              "#ed7953"
             ],
             [
              0.7777777777777778,
              "#fb9f3a"
             ],
             [
              0.8888888888888888,
              "#fdca26"
             ],
             [
              1,
              "#f0f921"
             ]
            ],
            "type": "heatmap"
           }
          ],
          "histogram": [
           {
            "marker": {
             "pattern": {
              "fillmode": "overlay",
              "size": 10,
              "solidity": 0.2
             }
            },
            "type": "histogram"
           }
          ],
          "histogram2d": [
           {
            "colorbar": {
             "outlinewidth": 0,
             "ticks": ""
            },
            "colorscale": [
             [
              0,
              "#0d0887"
             ],
             [
              0.1111111111111111,
              "#46039f"
             ],
             [
              0.2222222222222222,
              "#7201a8"
             ],
             [
              0.3333333333333333,
              "#9c179e"
             ],
             [
              0.4444444444444444,
              "#bd3786"
             ],
             [
              0.5555555555555556,
              "#d8576b"
             ],
             [
              0.6666666666666666,
              "#ed7953"
             ],
             [
              0.7777777777777778,
              "#fb9f3a"
             ],
             [
              0.8888888888888888,
              "#fdca26"
             ],
             [
              1,
              "#f0f921"
             ]
            ],
            "type": "histogram2d"
           }
          ],
          "histogram2dcontour": [
           {
            "colorbar": {
             "outlinewidth": 0,
             "ticks": ""
            },
            "colorscale": [
             [
              0,
              "#0d0887"
             ],
             [
              0.1111111111111111,
              "#46039f"
             ],
             [
              0.2222222222222222,
              "#7201a8"
             ],
             [
              0.3333333333333333,
              "#9c179e"
             ],
             [
              0.4444444444444444,
              "#bd3786"
             ],
             [
              0.5555555555555556,
              "#d8576b"
             ],
             [
              0.6666666666666666,
              "#ed7953"
             ],
             [
              0.7777777777777778,
              "#fb9f3a"
             ],
             [
              0.8888888888888888,
              "#fdca26"
             ],
             [
              1,
              "#f0f921"
             ]
            ],
            "type": "histogram2dcontour"
           }
          ],
          "mesh3d": [
           {
            "colorbar": {
             "outlinewidth": 0,
             "ticks": ""
            },
            "type": "mesh3d"
           }
          ],
          "parcoords": [
           {
            "line": {
             "colorbar": {
              "outlinewidth": 0,
              "ticks": ""
             }
            },
            "type": "parcoords"
           }
          ],
          "pie": [
           {
            "automargin": true,
            "type": "pie"
           }
          ],
          "scatter": [
           {
            "fillpattern": {
             "fillmode": "overlay",
             "size": 10,
             "solidity": 0.2
            },
            "type": "scatter"
           }
          ],
          "scatter3d": [
           {
            "line": {
             "colorbar": {
              "outlinewidth": 0,
              "ticks": ""
             }
            },
            "marker": {
             "colorbar": {
              "outlinewidth": 0,
              "ticks": ""
             }
            },
            "type": "scatter3d"
           }
          ],
          "scattercarpet": [
           {
            "marker": {
             "colorbar": {
              "outlinewidth": 0,
              "ticks": ""
             }
            },
            "type": "scattercarpet"
           }
          ],
          "scattergeo": [
           {
            "marker": {
             "colorbar": {
              "outlinewidth": 0,
              "ticks": ""
             }
            },
            "type": "scattergeo"
           }
          ],
          "scattergl": [
           {
            "marker": {
             "colorbar": {
              "outlinewidth": 0,
              "ticks": ""
             }
            },
            "type": "scattergl"
           }
          ],
          "scattermap": [
           {
            "marker": {
             "colorbar": {
              "outlinewidth": 0,
              "ticks": ""
             }
            },
            "type": "scattermap"
           }
          ],
          "scattermapbox": [
           {
            "marker": {
             "colorbar": {
              "outlinewidth": 0,
              "ticks": ""
             }
            },
            "type": "scattermapbox"
           }
          ],
          "scatterpolar": [
           {
            "marker": {
             "colorbar": {
              "outlinewidth": 0,
              "ticks": ""
             }
            },
            "type": "scatterpolar"
           }
          ],
          "scatterpolargl": [
           {
            "marker": {
             "colorbar": {
              "outlinewidth": 0,
              "ticks": ""
             }
            },
            "type": "scatterpolargl"
           }
          ],
          "scatterternary": [
           {
            "marker": {
             "colorbar": {
              "outlinewidth": 0,
              "ticks": ""
             }
            },
            "type": "scatterternary"
           }
          ],
          "surface": [
           {
            "colorbar": {
             "outlinewidth": 0,
             "ticks": ""
            },
            "colorscale": [
             [
              0,
              "#0d0887"
             ],
             [
              0.1111111111111111,
              "#46039f"
             ],
             [
              0.2222222222222222,
              "#7201a8"
             ],
             [
              0.3333333333333333,
              "#9c179e"
             ],
             [
              0.4444444444444444,
              "#bd3786"
             ],
             [
              0.5555555555555556,
              "#d8576b"
             ],
             [
              0.6666666666666666,
              "#ed7953"
             ],
             [
              0.7777777777777778,
              "#fb9f3a"
             ],
             [
              0.8888888888888888,
              "#fdca26"
             ],
             [
              1,
              "#f0f921"
             ]
            ],
            "type": "surface"
           }
          ],
          "table": [
           {
            "cells": {
             "fill": {
              "color": "#EBF0F8"
             },
             "line": {
              "color": "white"
             }
            },
            "header": {
             "fill": {
              "color": "#C8D4E3"
             },
             "line": {
              "color": "white"
             }
            },
            "type": "table"
           }
          ]
         },
         "layout": {
          "annotationdefaults": {
           "arrowcolor": "#2a3f5f",
           "arrowhead": 0,
           "arrowwidth": 1
          },
          "autotypenumbers": "strict",
          "coloraxis": {
           "colorbar": {
            "outlinewidth": 0,
            "ticks": ""
           }
          },
          "colorscale": {
           "diverging": [
            [
             0,
             "#8e0152"
            ],
            [
             0.1,
             "#c51b7d"
            ],
            [
             0.2,
             "#de77ae"
            ],
            [
             0.3,
             "#f1b6da"
            ],
            [
             0.4,
             "#fde0ef"
            ],
            [
             0.5,
             "#f7f7f7"
            ],
            [
             0.6,
             "#e6f5d0"
            ],
            [
             0.7,
             "#b8e186"
            ],
            [
             0.8,
             "#7fbc41"
            ],
            [
             0.9,
             "#4d9221"
            ],
            [
             1,
             "#276419"
            ]
           ],
           "sequential": [
            [
             0,
             "#0d0887"
            ],
            [
             0.1111111111111111,
             "#46039f"
            ],
            [
             0.2222222222222222,
             "#7201a8"
            ],
            [
             0.3333333333333333,
             "#9c179e"
            ],
            [
             0.4444444444444444,
             "#bd3786"
            ],
            [
             0.5555555555555556,
             "#d8576b"
            ],
            [
             0.6666666666666666,
             "#ed7953"
            ],
            [
             0.7777777777777778,
             "#fb9f3a"
            ],
            [
             0.8888888888888888,
             "#fdca26"
            ],
            [
             1,
             "#f0f921"
            ]
           ],
           "sequentialminus": [
            [
             0,
             "#0d0887"
            ],
            [
             0.1111111111111111,
             "#46039f"
            ],
            [
             0.2222222222222222,
             "#7201a8"
            ],
            [
             0.3333333333333333,
             "#9c179e"
            ],
            [
             0.4444444444444444,
             "#bd3786"
            ],
            [
             0.5555555555555556,
             "#d8576b"
            ],
            [
             0.6666666666666666,
             "#ed7953"
            ],
            [
             0.7777777777777778,
             "#fb9f3a"
            ],
            [
             0.8888888888888888,
             "#fdca26"
            ],
            [
             1,
             "#f0f921"
            ]
           ]
          },
          "colorway": [
           "#636efa",
           "#EF553B",
           "#00cc96",
           "#ab63fa",
           "#FFA15A",
           "#19d3f3",
           "#FF6692",
           "#B6E880",
           "#FF97FF",
           "#FECB52"
          ],
          "font": {
           "color": "#2a3f5f"
          },
          "geo": {
           "bgcolor": "white",
           "lakecolor": "white",
           "landcolor": "#E5ECF6",
           "showlakes": true,
           "showland": true,
           "subunitcolor": "white"
          },
          "hoverlabel": {
           "align": "left"
          },
          "hovermode": "closest",
          "mapbox": {
           "style": "light"
          },
          "paper_bgcolor": "white",
          "plot_bgcolor": "#E5ECF6",
          "polar": {
           "angularaxis": {
            "gridcolor": "white",
            "linecolor": "white",
            "ticks": ""
           },
           "bgcolor": "#E5ECF6",
           "radialaxis": {
            "gridcolor": "white",
            "linecolor": "white",
            "ticks": ""
           }
          },
          "scene": {
           "xaxis": {
            "backgroundcolor": "#E5ECF6",
            "gridcolor": "white",
            "gridwidth": 2,
            "linecolor": "white",
            "showbackground": true,
            "ticks": "",
            "zerolinecolor": "white"
           },
           "yaxis": {
            "backgroundcolor": "#E5ECF6",
            "gridcolor": "white",
            "gridwidth": 2,
            "linecolor": "white",
            "showbackground": true,
            "ticks": "",
            "zerolinecolor": "white"
           },
           "zaxis": {
            "backgroundcolor": "#E5ECF6",
            "gridcolor": "white",
            "gridwidth": 2,
            "linecolor": "white",
            "showbackground": true,
            "ticks": "",
            "zerolinecolor": "white"
           }
          },
          "shapedefaults": {
           "line": {
            "color": "#2a3f5f"
           }
          },
          "ternary": {
           "aaxis": {
            "gridcolor": "white",
            "linecolor": "white",
            "ticks": ""
           },
           "baxis": {
            "gridcolor": "white",
            "linecolor": "white",
            "ticks": ""
           },
           "bgcolor": "#E5ECF6",
           "caxis": {
            "gridcolor": "white",
            "linecolor": "white",
            "ticks": ""
           }
          },
          "title": {
           "x": 0.05
          },
          "xaxis": {
           "automargin": true,
           "gridcolor": "white",
           "linecolor": "white",
           "ticks": "",
           "title": {
            "standoff": 15
           },
           "zerolinecolor": "white",
           "zerolinewidth": 2
          },
          "yaxis": {
           "automargin": true,
           "gridcolor": "white",
           "linecolor": "white",
           "ticks": "",
           "title": {
            "standoff": 15
           },
           "zerolinecolor": "white",
           "zerolinewidth": 2
          }
         }
        },
        "title": {
         "text": "<b>Population Pyramid (2010)</b>"
        },
        "xaxis": {
         "showgrid": true,
         "title": {
          "text": "Population Scale"
         },
         "zeroline": false
        },
        "yaxis": {
         "showgrid": true,
         "ticktext": [
          "0004",
          "0509",
          "1014",
          "1519",
          "2024",
          "2529",
          "3034",
          "3539",
          "4044",
          "4549",
          "5054",
          "5559",
          "6064",
          "6569",
          "7074",
          "7579",
          "80UP"
         ],
         "tickvals": [
          2,
          7,
          12,
          17,
          22,
          27,
          32,
          37,
          42,
          47,
          52,
          57,
          62,
          67,
          72,
          77,
          82
         ],
         "title": {
          "text": "Age in Years"
         }
        }
       }
      },
      "text/html": [
       "<div>            <script src=\"https://cdnjs.cloudflare.com/ajax/libs/mathjax/2.7.5/MathJax.js?config=TeX-AMS-MML_SVG\"></script><script type=\"text/javascript\">if (window.MathJax && window.MathJax.Hub && window.MathJax.Hub.Config) {window.MathJax.Hub.Config({SVG: {font: \"STIX-Web\"}});}</script>                <script type=\"text/javascript\">window.PlotlyConfig = {MathJaxConfig: 'local'};</script>\n",
       "        <script charset=\"utf-8\" src=\"https://cdn.plot.ly/plotly-3.0.0.min.js\"></script>                <div id=\"a6594e0b-9b6d-4ee9-a78b-0560f57cfb82\" class=\"plotly-graph-div\" style=\"height:525px; width:100%;\"></div>            <script type=\"text/javascript\">                window.PLOTLYENV=window.PLOTLYENV || {};                                if (document.getElementById(\"a6594e0b-9b6d-4ee9-a78b-0560f57cfb82\")) {                    Plotly.newPlot(                        \"a6594e0b-9b6d-4ee9-a78b-0560f57cfb82\",                        [{\"hoverinfo\":\"x+y\",\"marker\":{\"color\":\"#4C72B0\"},\"name\":\"Men\",\"orientation\":\"h\",\"x\":{\"dtype\":\"f8\",\"bdata\":\"AAAAABUQM0EAAAAAoLowQQAAAADlCzFBAAAAAIvtNkEAAAAA1PU9QQAAAABAXD1BAAAAALwkN0EAAAAAPvcxQQAAAAAGjS1BAAAAAIbfJkEAAAAAYlAgQQAAAACUqhRBAAAAABBdCEEAAAAAuL0AQQAAAADwHvVAAAAAAIAu6UAAAAAAwBzjQA==\"},\"y\":[2,7,12,17,22,27,32,37,42,47,52,57,62,67,72,77,82],\"type\":\"bar\"},{\"hoverinfo\":\"x+y\",\"marker\":{\"color\":\"#DD8452\"},\"name\":\"Women\",\"orientation\":\"h\",\"x\":{\"dtype\":\"f8\",\"bdata\":\"AAAAAHq7McEAAAAAUhQvwQAAAAAy7S3BAAAAAGVHMMEAAAAAKgMxwQAAAAC6OS3BAAAAAGaJJsEAAAAATl8hwQAAAADoQxzBAAAAALCRFsEAAAAAiFARwQAAAAAYYAjBAAAAANBEAcEAAAAAEJH4wAAAAACwF\\u002fHAAAAAAKDF5sAAAAAAAAXlwA==\"},\"y\":[2,7,12,17,22,27,32,37,42,47,52,57,62,67,72,77,82],\"type\":\"bar\"}],                        {\"template\":{\"data\":{\"histogram2dcontour\":[{\"type\":\"histogram2dcontour\",\"colorbar\":{\"outlinewidth\":0,\"ticks\":\"\"},\"colorscale\":[[0.0,\"#0d0887\"],[0.1111111111111111,\"#46039f\"],[0.2222222222222222,\"#7201a8\"],[0.3333333333333333,\"#9c179e\"],[0.4444444444444444,\"#bd3786\"],[0.5555555555555556,\"#d8576b\"],[0.6666666666666666,\"#ed7953\"],[0.7777777777777778,\"#fb9f3a\"],[0.8888888888888888,\"#fdca26\"],[1.0,\"#f0f921\"]]}],\"choropleth\":[{\"type\":\"choropleth\",\"colorbar\":{\"outlinewidth\":0,\"ticks\":\"\"}}],\"histogram2d\":[{\"type\":\"histogram2d\",\"colorbar\":{\"outlinewidth\":0,\"ticks\":\"\"},\"colorscale\":[[0.0,\"#0d0887\"],[0.1111111111111111,\"#46039f\"],[0.2222222222222222,\"#7201a8\"],[0.3333333333333333,\"#9c179e\"],[0.4444444444444444,\"#bd3786\"],[0.5555555555555556,\"#d8576b\"],[0.6666666666666666,\"#ed7953\"],[0.7777777777777778,\"#fb9f3a\"],[0.8888888888888888,\"#fdca26\"],[1.0,\"#f0f921\"]]}],\"heatmap\":[{\"type\":\"heatmap\",\"colorbar\":{\"outlinewidth\":0,\"ticks\":\"\"},\"colorscale\":[[0.0,\"#0d0887\"],[0.1111111111111111,\"#46039f\"],[0.2222222222222222,\"#7201a8\"],[0.3333333333333333,\"#9c179e\"],[0.4444444444444444,\"#bd3786\"],[0.5555555555555556,\"#d8576b\"],[0.6666666666666666,\"#ed7953\"],[0.7777777777777778,\"#fb9f3a\"],[0.8888888888888888,\"#fdca26\"],[1.0,\"#f0f921\"]]}],\"contourcarpet\":[{\"type\":\"contourcarpet\",\"colorbar\":{\"outlinewidth\":0,\"ticks\":\"\"}}],\"contour\":[{\"type\":\"contour\",\"colorbar\":{\"outlinewidth\":0,\"ticks\":\"\"},\"colorscale\":[[0.0,\"#0d0887\"],[0.1111111111111111,\"#46039f\"],[0.2222222222222222,\"#7201a8\"],[0.3333333333333333,\"#9c179e\"],[0.4444444444444444,\"#bd3786\"],[0.5555555555555556,\"#d8576b\"],[0.6666666666666666,\"#ed7953\"],[0.7777777777777778,\"#fb9f3a\"],[0.8888888888888888,\"#fdca26\"],[1.0,\"#f0f921\"]]}],\"surface\":[{\"type\":\"surface\",\"colorbar\":{\"outlinewidth\":0,\"ticks\":\"\"},\"colorscale\":[[0.0,\"#0d0887\"],[0.1111111111111111,\"#46039f\"],[0.2222222222222222,\"#7201a8\"],[0.3333333333333333,\"#9c179e\"],[0.4444444444444444,\"#bd3786\"],[0.5555555555555556,\"#d8576b\"],[0.6666666666666666,\"#ed7953\"],[0.7777777777777778,\"#fb9f3a\"],[0.8888888888888888,\"#fdca26\"],[1.0,\"#f0f921\"]]}],\"mesh3d\":[{\"type\":\"mesh3d\",\"colorbar\":{\"outlinewidth\":0,\"ticks\":\"\"}}],\"scatter\":[{\"fillpattern\":{\"fillmode\":\"overlay\",\"size\":10,\"solidity\":0.2},\"type\":\"scatter\"}],\"parcoords\":[{\"type\":\"parcoords\",\"line\":{\"colorbar\":{\"outlinewidth\":0,\"ticks\":\"\"}}}],\"scatterpolargl\":[{\"type\":\"scatterpolargl\",\"marker\":{\"colorbar\":{\"outlinewidth\":0,\"ticks\":\"\"}}}],\"bar\":[{\"error_x\":{\"color\":\"#2a3f5f\"},\"error_y\":{\"color\":\"#2a3f5f\"},\"marker\":{\"line\":{\"color\":\"#E5ECF6\",\"width\":0.5},\"pattern\":{\"fillmode\":\"overlay\",\"size\":10,\"solidity\":0.2}},\"type\":\"bar\"}],\"scattergeo\":[{\"type\":\"scattergeo\",\"marker\":{\"colorbar\":{\"outlinewidth\":0,\"ticks\":\"\"}}}],\"scatterpolar\":[{\"type\":\"scatterpolar\",\"marker\":{\"colorbar\":{\"outlinewidth\":0,\"ticks\":\"\"}}}],\"histogram\":[{\"marker\":{\"pattern\":{\"fillmode\":\"overlay\",\"size\":10,\"solidity\":0.2}},\"type\":\"histogram\"}],\"scattergl\":[{\"type\":\"scattergl\",\"marker\":{\"colorbar\":{\"outlinewidth\":0,\"ticks\":\"\"}}}],\"scatter3d\":[{\"type\":\"scatter3d\",\"line\":{\"colorbar\":{\"outlinewidth\":0,\"ticks\":\"\"}},\"marker\":{\"colorbar\":{\"outlinewidth\":0,\"ticks\":\"\"}}}],\"scattermap\":[{\"type\":\"scattermap\",\"marker\":{\"colorbar\":{\"outlinewidth\":0,\"ticks\":\"\"}}}],\"scattermapbox\":[{\"type\":\"scattermapbox\",\"marker\":{\"colorbar\":{\"outlinewidth\":0,\"ticks\":\"\"}}}],\"scatterternary\":[{\"type\":\"scatterternary\",\"marker\":{\"colorbar\":{\"outlinewidth\":0,\"ticks\":\"\"}}}],\"scattercarpet\":[{\"type\":\"scattercarpet\",\"marker\":{\"colorbar\":{\"outlinewidth\":0,\"ticks\":\"\"}}}],\"carpet\":[{\"aaxis\":{\"endlinecolor\":\"#2a3f5f\",\"gridcolor\":\"white\",\"linecolor\":\"white\",\"minorgridcolor\":\"white\",\"startlinecolor\":\"#2a3f5f\"},\"baxis\":{\"endlinecolor\":\"#2a3f5f\",\"gridcolor\":\"white\",\"linecolor\":\"white\",\"minorgridcolor\":\"white\",\"startlinecolor\":\"#2a3f5f\"},\"type\":\"carpet\"}],\"table\":[{\"cells\":{\"fill\":{\"color\":\"#EBF0F8\"},\"line\":{\"color\":\"white\"}},\"header\":{\"fill\":{\"color\":\"#C8D4E3\"},\"line\":{\"color\":\"white\"}},\"type\":\"table\"}],\"barpolar\":[{\"marker\":{\"line\":{\"color\":\"#E5ECF6\",\"width\":0.5},\"pattern\":{\"fillmode\":\"overlay\",\"size\":10,\"solidity\":0.2}},\"type\":\"barpolar\"}],\"pie\":[{\"automargin\":true,\"type\":\"pie\"}]},\"layout\":{\"autotypenumbers\":\"strict\",\"colorway\":[\"#636efa\",\"#EF553B\",\"#00cc96\",\"#ab63fa\",\"#FFA15A\",\"#19d3f3\",\"#FF6692\",\"#B6E880\",\"#FF97FF\",\"#FECB52\"],\"font\":{\"color\":\"#2a3f5f\"},\"hovermode\":\"closest\",\"hoverlabel\":{\"align\":\"left\"},\"paper_bgcolor\":\"white\",\"plot_bgcolor\":\"#E5ECF6\",\"polar\":{\"bgcolor\":\"#E5ECF6\",\"angularaxis\":{\"gridcolor\":\"white\",\"linecolor\":\"white\",\"ticks\":\"\"},\"radialaxis\":{\"gridcolor\":\"white\",\"linecolor\":\"white\",\"ticks\":\"\"}},\"ternary\":{\"bgcolor\":\"#E5ECF6\",\"aaxis\":{\"gridcolor\":\"white\",\"linecolor\":\"white\",\"ticks\":\"\"},\"baxis\":{\"gridcolor\":\"white\",\"linecolor\":\"white\",\"ticks\":\"\"},\"caxis\":{\"gridcolor\":\"white\",\"linecolor\":\"white\",\"ticks\":\"\"}},\"coloraxis\":{\"colorbar\":{\"outlinewidth\":0,\"ticks\":\"\"}},\"colorscale\":{\"sequential\":[[0.0,\"#0d0887\"],[0.1111111111111111,\"#46039f\"],[0.2222222222222222,\"#7201a8\"],[0.3333333333333333,\"#9c179e\"],[0.4444444444444444,\"#bd3786\"],[0.5555555555555556,\"#d8576b\"],[0.6666666666666666,\"#ed7953\"],[0.7777777777777778,\"#fb9f3a\"],[0.8888888888888888,\"#fdca26\"],[1.0,\"#f0f921\"]],\"sequentialminus\":[[0.0,\"#0d0887\"],[0.1111111111111111,\"#46039f\"],[0.2222222222222222,\"#7201a8\"],[0.3333333333333333,\"#9c179e\"],[0.4444444444444444,\"#bd3786\"],[0.5555555555555556,\"#d8576b\"],[0.6666666666666666,\"#ed7953\"],[0.7777777777777778,\"#fb9f3a\"],[0.8888888888888888,\"#fdca26\"],[1.0,\"#f0f921\"]],\"diverging\":[[0,\"#8e0152\"],[0.1,\"#c51b7d\"],[0.2,\"#de77ae\"],[0.3,\"#f1b6da\"],[0.4,\"#fde0ef\"],[0.5,\"#f7f7f7\"],[0.6,\"#e6f5d0\"],[0.7,\"#b8e186\"],[0.8,\"#7fbc41\"],[0.9,\"#4d9221\"],[1,\"#276419\"]]},\"xaxis\":{\"gridcolor\":\"white\",\"linecolor\":\"white\",\"ticks\":\"\",\"title\":{\"standoff\":15},\"zerolinecolor\":\"white\",\"automargin\":true,\"zerolinewidth\":2},\"yaxis\":{\"gridcolor\":\"white\",\"linecolor\":\"white\",\"ticks\":\"\",\"title\":{\"standoff\":15},\"zerolinecolor\":\"white\",\"automargin\":true,\"zerolinewidth\":2},\"scene\":{\"xaxis\":{\"backgroundcolor\":\"#E5ECF6\",\"gridcolor\":\"white\",\"linecolor\":\"white\",\"showbackground\":true,\"ticks\":\"\",\"zerolinecolor\":\"white\",\"gridwidth\":2},\"yaxis\":{\"backgroundcolor\":\"#E5ECF6\",\"gridcolor\":\"white\",\"linecolor\":\"white\",\"showbackground\":true,\"ticks\":\"\",\"zerolinecolor\":\"white\",\"gridwidth\":2},\"zaxis\":{\"backgroundcolor\":\"#E5ECF6\",\"gridcolor\":\"white\",\"linecolor\":\"white\",\"showbackground\":true,\"ticks\":\"\",\"zerolinecolor\":\"white\",\"gridwidth\":2}},\"shapedefaults\":{\"line\":{\"color\":\"#2a3f5f\"}},\"annotationdefaults\":{\"arrowcolor\":\"#2a3f5f\",\"arrowhead\":0,\"arrowwidth\":1},\"geo\":{\"bgcolor\":\"white\",\"landcolor\":\"#E5ECF6\",\"subunitcolor\":\"white\",\"showland\":true,\"showlakes\":true,\"lakecolor\":\"white\"},\"title\":{\"x\":0.05},\"mapbox\":{\"style\":\"light\"}}},\"xaxis\":{\"title\":{\"text\":\"Population Scale\"},\"showgrid\":true,\"zeroline\":false},\"yaxis\":{\"title\":{\"text\":\"Age in Years\"},\"tickvals\":[2,7,12,17,22,27,32,37,42,47,52,57,62,67,72,77,82],\"ticktext\":[\"0004\",\"0509\",\"1014\",\"1519\",\"2024\",\"2529\",\"3034\",\"3539\",\"4044\",\"4549\",\"5054\",\"5559\",\"6064\",\"6569\",\"7074\",\"7579\",\"80UP\"],\"showgrid\":true},\"font\":{\"family\":\"Arial, sans-serif\",\"size\":14,\"color\":\"#333333\"},\"title\":{\"text\":\"\\u003cb\\u003ePopulation Pyramid (2010)\\u003c\\u002fb\\u003e\"},\"barmode\":\"overlay\",\"paper_bgcolor\":\"#F7F7F7\",\"plot_bgcolor\":\"#FFFFFF\",\"showlegend\":true},                        {\"responsive\": true}                    ).then(function(){\n",
       "                            \n",
       "var gd = document.getElementById('a6594e0b-9b6d-4ee9-a78b-0560f57cfb82');\n",
       "var x = new MutationObserver(function (mutations, observer) {{\n",
       "        var display = window.getComputedStyle(gd).display;\n",
       "        if (!display || display === 'none') {{\n",
       "            console.log([gd, 'removed!']);\n",
       "            Plotly.purge(gd);\n",
       "            observer.disconnect();\n",
       "        }}\n",
       "}});\n",
       "\n",
       "// Listen for the removal of the full notebook cells\n",
       "var notebookContainer = gd.closest('#notebook-container');\n",
       "if (notebookContainer) {{\n",
       "    x.observe(notebookContainer, {childList: true});\n",
       "}}\n",
       "\n",
       "// Listen for the clearing of the current output cell\n",
       "var outputEl = gd.closest('.output');\n",
       "if (outputEl) {{\n",
       "    x.observe(outputEl, {childList: true});\n",
       "}}\n",
       "\n",
       "                        })                };            </script>        </div>"
      ]
     },
     "metadata": {},
     "output_type": "display_data"
    }
   ],
   "source": [
    "import plotly.graph_objects as go\n",
    "import plotly.offline as pyo\n",
    "import wbdata\n",
    "import pandas as pd\n",
    "\n",
    "# Initialize Plotly for offline mode\n",
    "pyo.init_notebook_mode(connected=True)\n",
    "\n",
    "# Define age ranges\n",
    "age_ranges = [f\"{i:02d}{i+4:02d}\" for i in range(0, 80, 5)] + [\"80UP\"]\n",
    "\n",
    "# Define World Bank API variables\n",
    "variables = {\n",
    "    **{f\"SP.POP.{age}.MA\": f\"Males {age}\" for age in age_ranges},\n",
    "    **{f\"SP.POP.{age}.FE\": f\"Females {age}\" for age in age_ranges}\n",
    "}\n",
    "\n",
    "def population_pyramid(df, yr):\n",
    "    if str(yr) not in df.index:\n",
    "        return \"Please pick a year that is within your dataframe.\"\n",
    "\n",
    "    # Define gender data\n",
    "    males = df.loc[str(yr)].filter(like=\"Male\").values\n",
    "    females = -df.loc[str(yr)].filter(like=\"Female\").values  # Negative for mirrored effect\n",
    "\n",
    "    # Define y-axis labels (centered age range)\n",
    "    y_vals = [int(s[:2]) + 2 for s in age_ranges]\n",
    "\n",
    "    # Create figure\n",
    "    fig = go.Figure()\n",
    "\n",
    "    # Add Male Bars\n",
    "    fig.add_trace(go.Bar(x=males, y=y_vals, orientation='h', name='Men',\n",
    "                         marker=dict(color='#4C72B0'), hoverinfo='x+y'))\n",
    "\n",
    "    # Add Female Bars\n",
    "    fig.add_trace(go.Bar(x=females, y=y_vals, orientation='h', name='Women',\n",
    "                         marker=dict(color='#DD8452'), hoverinfo='x+y'))\n",
    "\n",
    "    # Update layout for aesthetics\n",
    "    fig.update_layout(\n",
    "        title=f\"<b>Population Pyramid ({yr})</b>\",\n",
    "        xaxis=dict(title=\"Population Scale\", showgrid=True, zeroline=False),\n",
    "        yaxis=dict(title=\"Age in Years\", tickvals=y_vals, ticktext=age_ranges, showgrid=True),\n",
    "        barmode='overlay',\n",
    "        paper_bgcolor=\"#F7F7F7\",  # Light background\n",
    "        plot_bgcolor=\"#FFFFFF\",   # White plot background\n",
    "        font=dict(family=\"Arial, sans-serif\", size=14, color=\"#333333\"),\n",
    "        showlegend=True\n",
    "    )\n",
    "\n",
    "    return fig  # Returns the figure instead of displaying it\n",
    "\n",
    "# Fetch data\n",
    "sau_df = wbdata.get_dataframe(variables, country=\"SAU\")\n",
    "\n",
    "# Generate figure for 2010 but do not display automatically\n",
    "fig = population_pyramid(sau_df, '2010')\n",
    "\n",
    "# To display manually when needed\n",
    "if isinstance(fig, str):\n",
    "    print(fig)  # Print error message if year is not found\n",
    "else:\n",
    "    fig.show()  # Display only when explicitly called"
   ]
  },
  {
   "cell_type": "markdown",
   "metadata": {
    "cell_id": "1fa342bb33fa470f90bcc2122b680349",
    "deepnote_cell_type": "text-cell-h1",
    "formattedRanges": []
   },
   "source": [
    "# Deliverable 5: Animated Population Pyramid for Saudi Arabia"
   ]
  },
  {
   "cell_type": "code",
   "execution_count": 41,
   "metadata": {},
   "outputs": [
    {
     "data": {
      "application/vnd.plotly.v1+json": {
       "config": {
        "linkText": "Export to plot.ly",
        "plotlyServerURL": "https://plot.ly",
        "showLink": false
       },
       "data": [
        {
         "marker": {
          "color": "#4C72B0"
         },
         "name": "Men 2000",
         "opacity": 0.8,
         "orientation": "h",
         "type": "bar",
         "x": {
          "bdata": "AAAAAN/bMEEAAAAASGkwQQAAAABQ+C5BAAAAALL1KkEAAAAABmUnQQAAAAAq4yVBAAAAAMqIJUEAAAAAnLckQQAAAACkNSJBAAAAAEACHEEAAAAAuHETQQAAAAAojQlBAAAAANg9AEEAAAAA0J70QAAAAABAAulAAAAAAMDJ2kAAAAAAAGfPQA==",
          "dtype": "f8"
         },
         "y": [
          1,
          6,
          11,
          16,
          21,
          26,
          31,
          36,
          41,
          46,
          51,
          56,
          61,
          66,
          71,
          76,
          81
         ]
        },
        {
         "marker": {
          "color": "#DD8452"
         },
         "name": "Women 2000",
         "opacity": 0.8,
         "orientation": "h",
         "type": "bar",
         "x": {
          "bdata": "AAAAALMMMMEAAAAALOQuwQAAAAA2hyzBAAAAADQhKMEAAAAAktAjwQAAAAB6ESHBAAAAAEAUH8EAAAAAaFocwQAAAABsOxjBAAAAACyuEsEAAAAAoKgKwQAAAADorQLBAAAAAOA3+sAAAAAAQJLywAAAAACgNenAAAAAAIB53sAAAAAAwOLVwA==",
          "dtype": "f8"
         },
         "y": [
          1,
          6,
          11,
          16,
          21,
          26,
          31,
          36,
          41,
          46,
          51,
          56,
          61,
          66,
          71,
          76,
          81
         ]
        }
       ],
       "frames": [
        {
         "data": [
          {
           "marker": {
            "color": "#4C72B0"
           },
           "name": "Men 2000",
           "opacity": 0.8,
           "orientation": "h",
           "type": "bar",
           "x": {
            "bdata": "AAAAAN/bMEEAAAAASGkwQQAAAABQ+C5BAAAAALL1KkEAAAAABmUnQQAAAAAq4yVBAAAAAMqIJUEAAAAAnLckQQAAAACkNSJBAAAAAEACHEEAAAAAuHETQQAAAAAojQlBAAAAANg9AEEAAAAA0J70QAAAAABAAulAAAAAAMDJ2kAAAAAAAGfPQA==",
            "dtype": "f8"
           },
           "y": [
            1,
            6,
            11,
            16,
            21,
            26,
            31,
            36,
            41,
            46,
            51,
            56,
            61,
            66,
            71,
            76,
            81
           ]
          },
          {
           "marker": {
            "color": "#DD8452"
           },
           "name": "Women 2000",
           "opacity": 0.8,
           "orientation": "h",
           "type": "bar",
           "x": {
            "bdata": "AAAAALMMMMEAAAAALOQuwQAAAAA2hyzBAAAAADQhKMEAAAAAktAjwQAAAAB6ESHBAAAAAEAUH8EAAAAAaFocwQAAAABsOxjBAAAAACyuEsEAAAAAoKgKwQAAAADorQLBAAAAAOA3+sAAAAAAQJLywAAAAACgNenAAAAAAIB53sAAAAAAwOLVwA==",
            "dtype": "f8"
           },
           "y": [
            1,
            6,
            11,
            16,
            21,
            26,
            31,
            36,
            41,
            46,
            51,
            56,
            61,
            66,
            71,
            76,
            81
           ]
          }
         ],
         "name": "2000"
        },
        {
         "data": [
          {
           "marker": {
            "color": "#4C72B0"
           },
           "name": "Men 2002",
           "opacity": 0.8,
           "orientation": "h",
           "type": "bar",
           "x": {
            "bdata": "AAAAAOAMMUEAAAAA13sxQQAAAACfmDJBAAAAAG/uMUEAAAAAqHsuQQAAAACsFSpBAAAAAAIJKEEAAAAAqFYmQQAAAACqnCNBAAAAAASbHkEAAAAAoGoVQQAAAAAwswxBAAAAAFhjAkEAAAAA8Eb3QAAAAAAgQuxAAAAAAIC83kAAAAAAgFjSQA==",
            "dtype": "f8"
           },
           "y": [
            1,
            6,
            11,
            16,
            21,
            26,
            31,
            36,
            41,
            46,
            51,
            56,
            61,
            66,
            71,
            76,
            81
           ]
          },
          {
           "marker": {
            "color": "#DD8452"
           },
           "name": "Women 2002",
           "opacity": 0.8,
           "orientation": "h",
           "type": "bar",
           "x": {
            "bdata": "AAAAAK8dMMEAAAAA5LwvwQAAAAAs5S7BAAAAAI6CK8EAAAAAHmAmwQAAAACYZSLBAAAAAEQRIMEAAAAAMNgcwQAAAADEBRnBAAAAAGy8E8EAAAAAmL0MwQAAAAAYZQTBAAAAADBj/MAAAAAAgBn0wAAAAACgiOvAAAAAAGAD4cAAAAAAQBLZwA==",
            "dtype": "f8"
           },
           "y": [
            1,
            6,
            11,
            16,
            21,
            26,
            31,
            36,
            41,
            46,
            51,
            56,
            61,
            66,
            71,
            76,
            81
           ]
          }
         ],
         "name": "2002"
        },
        {
         "data": [
          {
           "marker": {
            "color": "#4C72B0"
           },
           "name": "Men 2004",
           "opacity": 0.8,
           "orientation": "h",
           "type": "bar",
           "x": {
            "bdata": "AAAAAG5hMUEAAAAAQocxQQAAAACsGDRBAAAAAEnvNUEAAAAAwLYzQQAAAACdEjBBAAAAACiPK0EAAAAAusMoQQAAAADUViVBAAAAAErcIEEAAAAAtMQXQQAAAABQVQ9BAAAAAGi8BEEAAAAAcB/6QAAAAAAA+e9AAAAAAKCh4UAAAAAAwM3VQA==",
            "dtype": "f8"
           },
           "y": [
            1,
            6,
            11,
            16,
            21,
            26,
            31,
            36,
            41,
            46,
            51,
            56,
            61,
            66,
            71,
            76,
            81
           ]
          },
          {
           "marker": {
            "color": "#DD8452"
           },
           "name": "Women 2004",
           "opacity": 0.8,
           "orientation": "h",
           "type": "bar",
           "x": {
            "bdata": "AAAAAKtiMMEAAAAAnNMvwQAAAAA+IDDBAAAAAGDALsEAAAAAQJkpwQAAAADqbCTBAAAAAGL/IMEAAAAAXLwdwQAAAAD4rxnBAAAAABTBFMEAAAAAAL4OwQAAAAAY1gXBAAAAAOC1/sAAAAAAMJr1wAAAAADg1e3AAAAAAMDW4sAAAAAAgOPcwA==",
            "dtype": "f8"
           },
           "y": [
            1,
            6,
            11,
            16,
            21,
            26,
            31,
            36,
            41,
            46,
            51,
            56,
            61,
            66,
            71,
            76,
            81
           ]
          }
         ],
         "name": "2004"
        },
        {
         "data": [
          {
           "marker": {
            "color": "#4C72B0"
           },
           "name": "Men 2006",
           "opacity": 0.8,
           "orientation": "h",
           "type": "bar",
           "x": {
            "bdata": "AAAAAKMVMkEAAAAAJicxQQAAAACHDzRBAAAAAAqVOEEAAAAA0o04QQAAAADhLTRBAAAAADg8MEEAAAAAmAwsQQAAAADsrydBAAAAADi6IkEAAAAA8IsaQQAAAACEFhFBAAAAACjkBkEAAAAA8C39QAAAAACQBPJAAAAAAIBG5EAAAAAAgJPaQA==",
            "dtype": "f8"
           },
           "y": [
            1,
            6,
            11,
            16,
            21,
            26,
            31,
            36,
            41,
            46,
            51,
            56,
            61,
            66,
            71,
            76,
            81
           ]
          },
          {
           "marker": {
            "color": "#DD8452"
           },
           "name": "Women 2006",
           "opacity": 0.8,
           "orientation": "h",
           "type": "bar",
           "x": {
            "bdata": "AAAAALb3MMEAAAAAyJIvwQAAAAALRzDBAAAAACebMMEAAAAA9D4twQAAAAA4OCfBAAAAAOR1IsEAAAAAmDAfwQAAAAA4fxrBAAAAAAC6FcEAAAAAoDoQwQAAAADoOAfBAAAAADCEAMEAAAAAAA/3wAAAAAAgBvDAAAAAAOCp5MAAAAAAwMTgwA==",
            "dtype": "f8"
           },
           "y": [
            1,
            6,
            11,
            16,
            21,
            26,
            31,
            36,
            41,
            46,
            51,
            56,
            61,
            66,
            71,
            76,
            81
           ]
          }
         ],
         "name": "2006"
        },
        {
         "data": [
          {
           "marker": {
            "color": "#4C72B0"
           },
           "name": "Men 2008",
           "opacity": 0.8,
           "orientation": "h",
           "type": "bar",
           "x": {
            "bdata": "AAAAAPD8MkEAAAAAohMxQQAAAAAVGTNBAAAAAMFBOUEAAAAAn8g8QQAAAAA7RzlBAAAAAEWtM0EAAAAAPR4wQQAAAAAc5ipBAAAAABgGJUEAAAAAwPUdQQAAAAAkAhNBAAAAAMBVCEEAAAAAeDUAQQAAAAAgHfRAAAAAAKBS50AAAAAA4GjgQA==",
            "dtype": "f8"
           },
           "y": [
            1,
            6,
            11,
            16,
            21,
            26,
            31,
            36,
            41,
            46,
            51,
            56,
            61,
            66,
            71,
            76,
            81
           ]
          },
          {
           "marker": {
            "color": "#DD8452"
           },
           "name": "Women 2008",
           "opacity": 0.8,
           "orientation": "h",
           "type": "bar",
           "x": {
            "bdata": "AAAAAHe6McEAAAAAEL8vwQAAAAD9DjDBAAAAAGsuMcEAAAAAvWswwQAAAADYtCrBAAAAAMakJMEAAAAA0KogwQAAAACwxhvBAAAAAJChFsEAAAAAsCMRwQAAAADQcgjBAAAAALBxAcEAAAAAEHz4wAAAAACAD/HAAAAAAGBr5sAAAAAAAGzjwA==",
            "dtype": "f8"
           },
           "y": [
            1,
            6,
            11,
            16,
            21,
            26,
            31,
            36,
            41,
            46,
            51,
            56,
            61,
            66,
            71,
            76,
            81
           ]
          }
         ],
         "name": "2008"
        },
        {
         "data": [
          {
           "marker": {
            "color": "#4C72B0"
           },
           "name": "Men 2010",
           "opacity": 0.8,
           "orientation": "h",
           "type": "bar",
           "x": {
            "bdata": "AAAAABUQM0EAAAAAoLowQQAAAADlCzFBAAAAAIvtNkEAAAAA1PU9QQAAAABAXD1BAAAAALwkN0EAAAAAPvcxQQAAAAAGjS1BAAAAAIbfJkEAAAAAYlAgQQAAAACUqhRBAAAAABBdCEEAAAAAuL0AQQAAAADwHvVAAAAAAIAu6UAAAAAAwBzjQA==",
            "dtype": "f8"
           },
           "y": [
            1,
            6,
            11,
            16,
            21,
            26,
            31,
            36,
            41,
            46,
            51,
            56,
            61,
            66,
            71,
            76,
            81
           ]
          },
          {
           "marker": {
            "color": "#DD8452"
           },
           "name": "Women 2010",
           "opacity": 0.8,
           "orientation": "h",
           "type": "bar",
           "x": {
            "bdata": "AAAAAHq7McEAAAAAUhQvwQAAAAAy7S3BAAAAAGVHMMEAAAAAKgMxwQAAAAC6OS3BAAAAAGaJJsEAAAAATl8hwQAAAADoQxzBAAAAALCRFsEAAAAAiFARwQAAAAAYYAjBAAAAANBEAcEAAAAAEJH4wAAAAACwF/HAAAAAAKDF5sAAAAAAAAXlwA==",
            "dtype": "f8"
           },
           "y": [
            1,
            6,
            11,
            16,
            21,
            26,
            31,
            36,
            41,
            46,
            51,
            56,
            61,
            66,
            71,
            76,
            81
           ]
          }
         ],
         "name": "2010"
        },
        {
         "data": [
          {
           "marker": {
            "color": "#4C72B0"
           },
           "name": "Men 2012",
           "opacity": 0.8,
           "orientation": "h",
           "type": "bar",
           "x": {
            "bdata": "AAAAABdONEEAAAAAI9MxQQAAAAC8izBBAAAAADoRNUEAAAAA7K0+QQAAAIC0QEFBAAAAAK4EPUEAAAAARtU1QQAAAACeYDFBAAAAAI7+KkEAAAAAYiojQQAAAABMYRhBAAAAAKgFC0EAAAAAaHIBQQAAAABgUfdAAAAAAGAT7EAAAAAAgArnQA==",
            "dtype": "f8"
           },
           "y": [
            1,
            6,
            11,
            16,
            21,
            26,
            31,
            36,
            41,
            46,
            51,
            56,
            61,
            66,
            71,
            76,
            81
           ]
          },
          {
           "marker": {
            "color": "#DD8452"
           },
           "name": "Women 2012",
           "opacity": 0.8,
           "orientation": "h",
           "type": "bar",
           "x": {
            "bdata": "AAAAAJ7SMsEAAAAA13gwwQAAAADQBi7BAAAAAOD1L8EAAAAAfOgxwQAAAABlwzDBAAAAAHx+KsEAAAAAoNMjwQAAAADAGh/BAAAAAGRmGMEAAAAAkJkSwQAAAABIBwrBAAAAAOD3AcEAAAAAQLz5wAAAAAAA+fHAAAAAAGAO6MAAAAAAAGTnwA==",
            "dtype": "f8"
           },
           "y": [
            1,
            6,
            11,
            16,
            21,
            26,
            31,
            36,
            41,
            46,
            51,
            56,
            61,
            66,
            71,
            76,
            81
           ]
          }
         ],
         "name": "2012"
        },
        {
         "data": [
          {
           "marker": {
            "color": "#4C72B0"
           },
           "name": "Men 2014",
           "opacity": 0.8,
           "orientation": "h",
           "type": "bar",
           "x": {
            "bdata": "AAAAALxYNUEAAAAArgkzQQAAAADYvTBBAAAAAGbxMkEAAAAA1tw8QQAAAACt7kJBAAAAgKTBQUEAAAAANe06QQAAAACFeDRBAAAAAGQIMEEAAAAASMgmQQAAAAB4HR1BAAAAAHDXD0EAAAAAEGEBQQAAAADg6vhAAAAAAGA77kAAAAAAYMPqQA==",
            "dtype": "f8"
           },
           "y": [
            1,
            6,
            11,
            16,
            21,
            26,
            31,
            36,
            41,
            46,
            51,
            56,
            61,
            66,
            71,
            76,
            81
           ]
          },
          {
           "marker": {
            "color": "#DD8452"
           },
           "name": "Women 2014",
           "opacity": 0.8,
           "orientation": "h",
           "type": "bar",
           "x": {
            "bdata": "AAAAAF+1M8EAAAAAqYcxwQAAAAAEvi7BAAAAAITwLsEAAAAAFNkxwQAAAABwljLBAAAAAMbxLsEAAAAAFhknwQAAAADoUSHBAAAAAPjXGsEAAAAAQPkTwQAAAAAAHQzBAAAAAPh/AsEAAAAAgB/6wAAAAACAffLAAAAAAEC26MAAAAAAoODowA==",
            "dtype": "f8"
           },
           "y": [
            1,
            6,
            11,
            16,
            21,
            26,
            31,
            36,
            41,
            46,
            51,
            56,
            61,
            66,
            71,
            76,
            81
           ]
          }
         ],
         "name": "2014"
        },
        {
         "data": [
          {
           "marker": {
            "color": "#4C72B0"
           },
           "name": "Men 2016",
           "opacity": 0.8,
           "orientation": "h",
           "type": "bar",
           "x": {
            "bdata": "AAAAAFSjNkEAAAAA3KQ0QQAAAACO6TFBAAAAAAWvMUEAAAAA39Q5QQAAAAB1gkNBAAAAgPLvREEAAACAnsFAQQAAAACqoThBAAAAALcqM0EAAAAAGsQrQQAAAAAk4yFBAAAAAPwTFEEAAAAAKI4CQQAAAABA8flAAAAAAEB88EAAAAAAIPzuQA==",
            "dtype": "f8"
           },
           "y": [
            1,
            6,
            11,
            16,
            21,
            26,
            31,
            36,
            41,
            46,
            51,
            56,
            61,
            66,
            71,
            76,
            81
           ]
          },
          {
           "marker": {
            "color": "#DD8452"
           },
           "name": "Women 2016",
           "opacity": 0.8,
           "orientation": "h",
           "type": "bar",
           "x": {
            "bdata": "AAAAAF/wNMEAAAAAgQ4zwQAAAADvfTDBAAAAAJzqLsEAAAAAGnsxwQAAAADSAzTBAAAAAF8WMsEAAAAANq0rwQAAAACsGCTBAAAAAESXHsEAAAAAWF4WwQAAAACYlg/BAAAAAKgHBMEAAAAAsOb6wAAAAAAgOfPAAAAAAIDI6cAAAAAAYHzqwA==",
            "dtype": "f8"
           },
           "y": [
            1,
            6,
            11,
            16,
            21,
            26,
            31,
            36,
            41,
            46,
            51,
            56,
            61,
            66,
            71,
            76,
            81
           ]
          }
         ],
         "name": "2016"
        },
        {
         "data": [
          {
           "marker": {
            "color": "#4C72B0"
           },
           "name": "Men 2018",
           "opacity": 0.8,
           "orientation": "h",
           "type": "bar",
           "x": {
            "bdata": "AAAAADEyNkEAAAAAN5g0QQAAAAAQFDJBAAAAAN5aMEEAAAAAwLY0QQAAAIA7j0BBAAAAACnSQ0EAAACANSNBQQAAAAAXxjhBAAAAADPqMkEAAAAA1KssQQAAAAA8sCJBAAAAANjKFUEAAAAA8I4DQQAAAABwlvpAAAAAALAd8UAAAAAAQMfvQA==",
            "dtype": "f8"
           },
           "y": [
            1,
            6,
            11,
            16,
            21,
            26,
            31,
            36,
            41,
            46,
            51,
            56,
            61,
            66,
            71,
            76,
            81
           ]
          },
          {
           "marker": {
            "color": "#DD8452"
           },
           "name": "Women 2018",
           "opacity": 0.8,
           "orientation": "h",
           "type": "bar",
           "x": {
            "bdata": "AAAAAOf0NMEAAAAAkFszwQAAAAAEDzHBAAAAACoXLsEAAAAAhK8vwQAAAACK2DLBAAAAAGtmMsEAAAAAZEotwQAAAABYVCXBAAAAAAYhIMEAAAAAINoXwQAAAACkSxHBAAAAANikBsEAAAAAgHr8wAAAAABQVvTAAAAAAABi68AAAAAAQJfswA==",
            "dtype": "f8"
           },
           "y": [
            1,
            6,
            11,
            16,
            21,
            26,
            31,
            36,
            41,
            46,
            51,
            56,
            61,
            66,
            71,
            76,
            81
           ]
          }
         ],
         "name": "2018"
        },
        {
         "data": [
          {
           "marker": {
            "color": "#4C72B0"
           },
           "name": "Men 2020",
           "opacity": 0.8,
           "orientation": "h",
           "type": "bar",
           "x": {
            "bdata": "AAAAAILeNUEAAAAAiX01QQAAAAAZTjNBAAAAAFHgMEEAAAAAsqQ1QQAAAIDk70BBAAAAACsuREEAAAAAdOZBQQAAAAB/LzpBAAAAAJDiMkEAAAAAqFQtQQAAAABOciNBAAAAAOwxF0EAAAAAQPIFQQAAAACwcf1AAAAAAOBY8kAAAAAAgDfuQA==",
            "dtype": "f8"
           },
           "y": [
            1,
            6,
            11,
            16,
            21,
            26,
            31,
            36,
            41,
            46,
            51,
            56,
            61,
            66,
            71,
            76,
            81
           ]
          },
          {
           "marker": {
            "color": "#DD8452"
           },
           "name": "Women 2020",
           "opacity": 0.8,
           "orientation": "h",
           "type": "bar",
           "x": {
            "bdata": "AAAAAHz5NMEAAAAA54c0wQAAAACPjjLBAAAAAPzyL8EAAAAAygEwwQAAAAD6pTPBAAAAAHiFM8EAAAAADrIvwQAAAAAkxyfBAAAAAEpqIcEAAAAAKP0awQAAAAAUAxTBAAAAAHBhC8EAAAAA4HcAwQAAAACQUPfAAAAAAEAI78AAAAAAoIXvwA==",
            "dtype": "f8"
           },
           "y": [
            1,
            6,
            11,
            16,
            21,
            26,
            31,
            36,
            41,
            46,
            51,
            56,
            61,
            66,
            71,
            76,
            81
           ]
          }
         ],
         "name": "2020"
        }
       ],
       "layout": {
        "font": {
         "color": "#333333",
         "family": "Arial, sans-serif",
         "size": 14
        },
        "paper_bgcolor": "#F7F7F7",
        "plot_bgcolor": "#FFFFFF",
        "template": {
         "data": {
          "bar": [
           {
            "error_x": {
             "color": "#2a3f5f"
            },
            "error_y": {
             "color": "#2a3f5f"
            },
            "marker": {
             "line": {
              "color": "#E5ECF6",
              "width": 0.5
             },
             "pattern": {
              "fillmode": "overlay",
              "size": 10,
              "solidity": 0.2
             }
            },
            "type": "bar"
           }
          ],
          "barpolar": [
           {
            "marker": {
             "line": {
              "color": "#E5ECF6",
              "width": 0.5
             },
             "pattern": {
              "fillmode": "overlay",
              "size": 10,
              "solidity": 0.2
             }
            },
            "type": "barpolar"
           }
          ],
          "carpet": [
           {
            "aaxis": {
             "endlinecolor": "#2a3f5f",
             "gridcolor": "white",
             "linecolor": "white",
             "minorgridcolor": "white",
             "startlinecolor": "#2a3f5f"
            },
            "baxis": {
             "endlinecolor": "#2a3f5f",
             "gridcolor": "white",
             "linecolor": "white",
             "minorgridcolor": "white",
             "startlinecolor": "#2a3f5f"
            },
            "type": "carpet"
           }
          ],
          "choropleth": [
           {
            "colorbar": {
             "outlinewidth": 0,
             "ticks": ""
            },
            "type": "choropleth"
           }
          ],
          "contour": [
           {
            "colorbar": {
             "outlinewidth": 0,
             "ticks": ""
            },
            "colorscale": [
             [
              0,
              "#0d0887"
             ],
             [
              0.1111111111111111,
              "#46039f"
             ],
             [
              0.2222222222222222,
              "#7201a8"
             ],
             [
              0.3333333333333333,
              "#9c179e"
             ],
             [
              0.4444444444444444,
              "#bd3786"
             ],
             [
              0.5555555555555556,
              "#d8576b"
             ],
             [
              0.6666666666666666,
              "#ed7953"
             ],
             [
              0.7777777777777778,
              "#fb9f3a"
             ],
             [
              0.8888888888888888,
              "#fdca26"
             ],
             [
              1,
              "#f0f921"
             ]
            ],
            "type": "contour"
           }
          ],
          "contourcarpet": [
           {
            "colorbar": {
             "outlinewidth": 0,
             "ticks": ""
            },
            "type": "contourcarpet"
           }
          ],
          "heatmap": [
           {
            "colorbar": {
             "outlinewidth": 0,
             "ticks": ""
            },
            "colorscale": [
             [
              0,
              "#0d0887"
             ],
             [
              0.1111111111111111,
              "#46039f"
             ],
             [
              0.2222222222222222,
              "#7201a8"
             ],
             [
              0.3333333333333333,
              "#9c179e"
             ],
             [
              0.4444444444444444,
              "#bd3786"
             ],
             [
              0.5555555555555556,
              "#d8576b"
             ],
             [
              0.6666666666666666,
              "#ed7953"
             ],
             [
              0.7777777777777778,
              "#fb9f3a"
             ],
             [
              0.8888888888888888,
              "#fdca26"
             ],
             [
              1,
              "#f0f921"
             ]
            ],
            "type": "heatmap"
           }
          ],
          "histogram": [
           {
            "marker": {
             "pattern": {
              "fillmode": "overlay",
              "size": 10,
              "solidity": 0.2
             }
            },
            "type": "histogram"
           }
          ],
          "histogram2d": [
           {
            "colorbar": {
             "outlinewidth": 0,
             "ticks": ""
            },
            "colorscale": [
             [
              0,
              "#0d0887"
             ],
             [
              0.1111111111111111,
              "#46039f"
             ],
             [
              0.2222222222222222,
              "#7201a8"
             ],
             [
              0.3333333333333333,
              "#9c179e"
             ],
             [
              0.4444444444444444,
              "#bd3786"
             ],
             [
              0.5555555555555556,
              "#d8576b"
             ],
             [
              0.6666666666666666,
              "#ed7953"
             ],
             [
              0.7777777777777778,
              "#fb9f3a"
             ],
             [
              0.8888888888888888,
              "#fdca26"
             ],
             [
              1,
              "#f0f921"
             ]
            ],
            "type": "histogram2d"
           }
          ],
          "histogram2dcontour": [
           {
            "colorbar": {
             "outlinewidth": 0,
             "ticks": ""
            },
            "colorscale": [
             [
              0,
              "#0d0887"
             ],
             [
              0.1111111111111111,
              "#46039f"
             ],
             [
              0.2222222222222222,
              "#7201a8"
             ],
             [
              0.3333333333333333,
              "#9c179e"
             ],
             [
              0.4444444444444444,
              "#bd3786"
             ],
             [
              0.5555555555555556,
              "#d8576b"
             ],
             [
              0.6666666666666666,
              "#ed7953"
             ],
             [
              0.7777777777777778,
              "#fb9f3a"
             ],
             [
              0.8888888888888888,
              "#fdca26"
             ],
             [
              1,
              "#f0f921"
             ]
            ],
            "type": "histogram2dcontour"
           }
          ],
          "mesh3d": [
           {
            "colorbar": {
             "outlinewidth": 0,
             "ticks": ""
            },
            "type": "mesh3d"
           }
          ],
          "parcoords": [
           {
            "line": {
             "colorbar": {
              "outlinewidth": 0,
              "ticks": ""
             }
            },
            "type": "parcoords"
           }
          ],
          "pie": [
           {
            "automargin": true,
            "type": "pie"
           }
          ],
          "scatter": [
           {
            "fillpattern": {
             "fillmode": "overlay",
             "size": 10,
             "solidity": 0.2
            },
            "type": "scatter"
           }
          ],
          "scatter3d": [
           {
            "line": {
             "colorbar": {
              "outlinewidth": 0,
              "ticks": ""
             }
            },
            "marker": {
             "colorbar": {
              "outlinewidth": 0,
              "ticks": ""
             }
            },
            "type": "scatter3d"
           }
          ],
          "scattercarpet": [
           {
            "marker": {
             "colorbar": {
              "outlinewidth": 0,
              "ticks": ""
             }
            },
            "type": "scattercarpet"
           }
          ],
          "scattergeo": [
           {
            "marker": {
             "colorbar": {
              "outlinewidth": 0,
              "ticks": ""
             }
            },
            "type": "scattergeo"
           }
          ],
          "scattergl": [
           {
            "marker": {
             "colorbar": {
              "outlinewidth": 0,
              "ticks": ""
             }
            },
            "type": "scattergl"
           }
          ],
          "scattermap": [
           {
            "marker": {
             "colorbar": {
              "outlinewidth": 0,
              "ticks": ""
             }
            },
            "type": "scattermap"
           }
          ],
          "scattermapbox": [
           {
            "marker": {
             "colorbar": {
              "outlinewidth": 0,
              "ticks": ""
             }
            },
            "type": "scattermapbox"
           }
          ],
          "scatterpolar": [
           {
            "marker": {
             "colorbar": {
              "outlinewidth": 0,
              "ticks": ""
             }
            },
            "type": "scatterpolar"
           }
          ],
          "scatterpolargl": [
           {
            "marker": {
             "colorbar": {
              "outlinewidth": 0,
              "ticks": ""
             }
            },
            "type": "scatterpolargl"
           }
          ],
          "scatterternary": [
           {
            "marker": {
             "colorbar": {
              "outlinewidth": 0,
              "ticks": ""
             }
            },
            "type": "scatterternary"
           }
          ],
          "surface": [
           {
            "colorbar": {
             "outlinewidth": 0,
             "ticks": ""
            },
            "colorscale": [
             [
              0,
              "#0d0887"
             ],
             [
              0.1111111111111111,
              "#46039f"
             ],
             [
              0.2222222222222222,
              "#7201a8"
             ],
             [
              0.3333333333333333,
              "#9c179e"
             ],
             [
              0.4444444444444444,
              "#bd3786"
             ],
             [
              0.5555555555555556,
              "#d8576b"
             ],
             [
              0.6666666666666666,
              "#ed7953"
             ],
             [
              0.7777777777777778,
              "#fb9f3a"
             ],
             [
              0.8888888888888888,
              "#fdca26"
             ],
             [
              1,
              "#f0f921"
             ]
            ],
            "type": "surface"
           }
          ],
          "table": [
           {
            "cells": {
             "fill": {
              "color": "#EBF0F8"
             },
             "line": {
              "color": "white"
             }
            },
            "header": {
             "fill": {
              "color": "#C8D4E3"
             },
             "line": {
              "color": "white"
             }
            },
            "type": "table"
           }
          ]
         },
         "layout": {
          "annotationdefaults": {
           "arrowcolor": "#2a3f5f",
           "arrowhead": 0,
           "arrowwidth": 1
          },
          "autotypenumbers": "strict",
          "coloraxis": {
           "colorbar": {
            "outlinewidth": 0,
            "ticks": ""
           }
          },
          "colorscale": {
           "diverging": [
            [
             0,
             "#8e0152"
            ],
            [
             0.1,
             "#c51b7d"
            ],
            [
             0.2,
             "#de77ae"
            ],
            [
             0.3,
             "#f1b6da"
            ],
            [
             0.4,
             "#fde0ef"
            ],
            [
             0.5,
             "#f7f7f7"
            ],
            [
             0.6,
             "#e6f5d0"
            ],
            [
             0.7,
             "#b8e186"
            ],
            [
             0.8,
             "#7fbc41"
            ],
            [
             0.9,
             "#4d9221"
            ],
            [
             1,
             "#276419"
            ]
           ],
           "sequential": [
            [
             0,
             "#0d0887"
            ],
            [
             0.1111111111111111,
             "#46039f"
            ],
            [
             0.2222222222222222,
             "#7201a8"
            ],
            [
             0.3333333333333333,
             "#9c179e"
            ],
            [
             0.4444444444444444,
             "#bd3786"
            ],
            [
             0.5555555555555556,
             "#d8576b"
            ],
            [
             0.6666666666666666,
             "#ed7953"
            ],
            [
             0.7777777777777778,
             "#fb9f3a"
            ],
            [
             0.8888888888888888,
             "#fdca26"
            ],
            [
             1,
             "#f0f921"
            ]
           ],
           "sequentialminus": [
            [
             0,
             "#0d0887"
            ],
            [
             0.1111111111111111,
             "#46039f"
            ],
            [
             0.2222222222222222,
             "#7201a8"
            ],
            [
             0.3333333333333333,
             "#9c179e"
            ],
            [
             0.4444444444444444,
             "#bd3786"
            ],
            [
             0.5555555555555556,
             "#d8576b"
            ],
            [
             0.6666666666666666,
             "#ed7953"
            ],
            [
             0.7777777777777778,
             "#fb9f3a"
            ],
            [
             0.8888888888888888,
             "#fdca26"
            ],
            [
             1,
             "#f0f921"
            ]
           ]
          },
          "colorway": [
           "#636efa",
           "#EF553B",
           "#00cc96",
           "#ab63fa",
           "#FFA15A",
           "#19d3f3",
           "#FF6692",
           "#B6E880",
           "#FF97FF",
           "#FECB52"
          ],
          "font": {
           "color": "#2a3f5f"
          },
          "geo": {
           "bgcolor": "white",
           "lakecolor": "white",
           "landcolor": "#E5ECF6",
           "showlakes": true,
           "showland": true,
           "subunitcolor": "white"
          },
          "hoverlabel": {
           "align": "left"
          },
          "hovermode": "closest",
          "mapbox": {
           "style": "light"
          },
          "paper_bgcolor": "white",
          "plot_bgcolor": "#E5ECF6",
          "polar": {
           "angularaxis": {
            "gridcolor": "white",
            "linecolor": "white",
            "ticks": ""
           },
           "bgcolor": "#E5ECF6",
           "radialaxis": {
            "gridcolor": "white",
            "linecolor": "white",
            "ticks": ""
           }
          },
          "scene": {
           "xaxis": {
            "backgroundcolor": "#E5ECF6",
            "gridcolor": "white",
            "gridwidth": 2,
            "linecolor": "white",
            "showbackground": true,
            "ticks": "",
            "zerolinecolor": "white"
           },
           "yaxis": {
            "backgroundcolor": "#E5ECF6",
            "gridcolor": "white",
            "gridwidth": 2,
            "linecolor": "white",
            "showbackground": true,
            "ticks": "",
            "zerolinecolor": "white"
           },
           "zaxis": {
            "backgroundcolor": "#E5ECF6",
            "gridcolor": "white",
            "gridwidth": 2,
            "linecolor": "white",
            "showbackground": true,
            "ticks": "",
            "zerolinecolor": "white"
           }
          },
          "shapedefaults": {
           "line": {
            "color": "#2a3f5f"
           }
          },
          "ternary": {
           "aaxis": {
            "gridcolor": "white",
            "linecolor": "white",
            "ticks": ""
           },
           "baxis": {
            "gridcolor": "white",
            "linecolor": "white",
            "ticks": ""
           },
           "bgcolor": "#E5ECF6",
           "caxis": {
            "gridcolor": "white",
            "linecolor": "white",
            "ticks": ""
           }
          },
          "title": {
           "x": 0.05
          },
          "xaxis": {
           "automargin": true,
           "gridcolor": "white",
           "linecolor": "white",
           "ticks": "",
           "title": {
            "standoff": 15
           },
           "zerolinecolor": "white",
           "zerolinewidth": 2
          },
          "yaxis": {
           "automargin": true,
           "gridcolor": "white",
           "linecolor": "white",
           "ticks": "",
           "title": {
            "standoff": 15
           },
           "zerolinecolor": "white",
           "zerolinewidth": 2
          }
         }
        },
        "title": {
         "text": "<b>Population Pyramid (2000)</b>"
        },
        "updatemenus": [
         {
          "buttons": [
           {
            "args": [
             null,
             {
              "frame": {
               "duration": 1500,
               "redraw": true
              },
              "fromcurrent": true
             }
            ],
            "label": "▶ Play",
            "method": "animate"
           },
           {
            "args": [
             [
              null
             ],
             {
              "frame": {
               "duration": 0,
               "redraw": true
              },
              "mode": "immediate",
              "transition": {
               "duration": 0
              }
             }
            ],
            "label": "⏸ Pause",
            "method": "animate"
           }
          ],
          "direction": "left",
          "pad": {
           "r": 10,
           "t": 60
          },
          "showactive": false,
          "type": "buttons",
          "x": 0.1,
          "xanchor": "right",
          "y": 0,
          "yanchor": "top"
         }
        ],
        "xaxis": {
         "range": [
          -2744293,
          2744293
         ],
         "showgrid": true,
         "title": {
          "text": "Population Scale"
         },
         "zeroline": false
        },
        "yaxis": {
         "range": [
          0,
          90
         ],
         "showgrid": true,
         "title": {
          "text": "Age in Years"
         }
        }
       }
      },
      "text/html": [
       "<div>            <script src=\"https://cdnjs.cloudflare.com/ajax/libs/mathjax/2.7.5/MathJax.js?config=TeX-AMS-MML_SVG\"></script><script type=\"text/javascript\">if (window.MathJax && window.MathJax.Hub && window.MathJax.Hub.Config) {window.MathJax.Hub.Config({SVG: {font: \"STIX-Web\"}});}</script>                <script type=\"text/javascript\">window.PlotlyConfig = {MathJaxConfig: 'local'};</script>\n",
       "        <script charset=\"utf-8\" src=\"https://cdn.plot.ly/plotly-3.0.0.min.js\"></script>                <div id=\"49ab83b9-799e-472f-bca7-903f4d1b7790\" class=\"plotly-graph-div\" style=\"height:525px; width:100%;\"></div>            <script type=\"text/javascript\">                window.PLOTLYENV=window.PLOTLYENV || {};                                if (document.getElementById(\"49ab83b9-799e-472f-bca7-903f4d1b7790\")) {                    Plotly.newPlot(                        \"49ab83b9-799e-472f-bca7-903f4d1b7790\",                        [{\"marker\":{\"color\":\"#4C72B0\"},\"name\":\"Men 2000\",\"opacity\":0.8,\"orientation\":\"h\",\"x\":{\"dtype\":\"f8\",\"bdata\":\"AAAAAN\\u002fbMEEAAAAASGkwQQAAAABQ+C5BAAAAALL1KkEAAAAABmUnQQAAAAAq4yVBAAAAAMqIJUEAAAAAnLckQQAAAACkNSJBAAAAAEACHEEAAAAAuHETQQAAAAAojQlBAAAAANg9AEEAAAAA0J70QAAAAABAAulAAAAAAMDJ2kAAAAAAAGfPQA==\"},\"y\":[1,6,11,16,21,26,31,36,41,46,51,56,61,66,71,76,81],\"type\":\"bar\"},{\"marker\":{\"color\":\"#DD8452\"},\"name\":\"Women 2000\",\"opacity\":0.8,\"orientation\":\"h\",\"x\":{\"dtype\":\"f8\",\"bdata\":\"AAAAALMMMMEAAAAALOQuwQAAAAA2hyzBAAAAADQhKMEAAAAAktAjwQAAAAB6ESHBAAAAAEAUH8EAAAAAaFocwQAAAABsOxjBAAAAACyuEsEAAAAAoKgKwQAAAADorQLBAAAAAOA3+sAAAAAAQJLywAAAAACgNenAAAAAAIB53sAAAAAAwOLVwA==\"},\"y\":[1,6,11,16,21,26,31,36,41,46,51,56,61,66,71,76,81],\"type\":\"bar\"}],                        {\"font\":{\"color\":\"#333333\",\"family\":\"Arial, sans-serif\",\"size\":14},\"paper_bgcolor\":\"#F7F7F7\",\"plot_bgcolor\":\"#FFFFFF\",\"template\":{\"data\":{\"barpolar\":[{\"marker\":{\"line\":{\"color\":\"#E5ECF6\",\"width\":0.5},\"pattern\":{\"fillmode\":\"overlay\",\"size\":10,\"solidity\":0.2}},\"type\":\"barpolar\"}],\"bar\":[{\"error_x\":{\"color\":\"#2a3f5f\"},\"error_y\":{\"color\":\"#2a3f5f\"},\"marker\":{\"line\":{\"color\":\"#E5ECF6\",\"width\":0.5},\"pattern\":{\"fillmode\":\"overlay\",\"size\":10,\"solidity\":0.2}},\"type\":\"bar\"}],\"carpet\":[{\"aaxis\":{\"endlinecolor\":\"#2a3f5f\",\"gridcolor\":\"white\",\"linecolor\":\"white\",\"minorgridcolor\":\"white\",\"startlinecolor\":\"#2a3f5f\"},\"baxis\":{\"endlinecolor\":\"#2a3f5f\",\"gridcolor\":\"white\",\"linecolor\":\"white\",\"minorgridcolor\":\"white\",\"startlinecolor\":\"#2a3f5f\"},\"type\":\"carpet\"}],\"choropleth\":[{\"colorbar\":{\"outlinewidth\":0,\"ticks\":\"\"},\"type\":\"choropleth\"}],\"contourcarpet\":[{\"colorbar\":{\"outlinewidth\":0,\"ticks\":\"\"},\"type\":\"contourcarpet\"}],\"contour\":[{\"colorbar\":{\"outlinewidth\":0,\"ticks\":\"\"},\"colorscale\":[[0.0,\"#0d0887\"],[0.1111111111111111,\"#46039f\"],[0.2222222222222222,\"#7201a8\"],[0.3333333333333333,\"#9c179e\"],[0.4444444444444444,\"#bd3786\"],[0.5555555555555556,\"#d8576b\"],[0.6666666666666666,\"#ed7953\"],[0.7777777777777778,\"#fb9f3a\"],[0.8888888888888888,\"#fdca26\"],[1.0,\"#f0f921\"]],\"type\":\"contour\"}],\"heatmap\":[{\"colorbar\":{\"outlinewidth\":0,\"ticks\":\"\"},\"colorscale\":[[0.0,\"#0d0887\"],[0.1111111111111111,\"#46039f\"],[0.2222222222222222,\"#7201a8\"],[0.3333333333333333,\"#9c179e\"],[0.4444444444444444,\"#bd3786\"],[0.5555555555555556,\"#d8576b\"],[0.6666666666666666,\"#ed7953\"],[0.7777777777777778,\"#fb9f3a\"],[0.8888888888888888,\"#fdca26\"],[1.0,\"#f0f921\"]],\"type\":\"heatmap\"}],\"histogram2dcontour\":[{\"colorbar\":{\"outlinewidth\":0,\"ticks\":\"\"},\"colorscale\":[[0.0,\"#0d0887\"],[0.1111111111111111,\"#46039f\"],[0.2222222222222222,\"#7201a8\"],[0.3333333333333333,\"#9c179e\"],[0.4444444444444444,\"#bd3786\"],[0.5555555555555556,\"#d8576b\"],[0.6666666666666666,\"#ed7953\"],[0.7777777777777778,\"#fb9f3a\"],[0.8888888888888888,\"#fdca26\"],[1.0,\"#f0f921\"]],\"type\":\"histogram2dcontour\"}],\"histogram2d\":[{\"colorbar\":{\"outlinewidth\":0,\"ticks\":\"\"},\"colorscale\":[[0.0,\"#0d0887\"],[0.1111111111111111,\"#46039f\"],[0.2222222222222222,\"#7201a8\"],[0.3333333333333333,\"#9c179e\"],[0.4444444444444444,\"#bd3786\"],[0.5555555555555556,\"#d8576b\"],[0.6666666666666666,\"#ed7953\"],[0.7777777777777778,\"#fb9f3a\"],[0.8888888888888888,\"#fdca26\"],[1.0,\"#f0f921\"]],\"type\":\"histogram2d\"}],\"histogram\":[{\"marker\":{\"pattern\":{\"fillmode\":\"overlay\",\"size\":10,\"solidity\":0.2}},\"type\":\"histogram\"}],\"mesh3d\":[{\"colorbar\":{\"outlinewidth\":0,\"ticks\":\"\"},\"type\":\"mesh3d\"}],\"parcoords\":[{\"line\":{\"colorbar\":{\"outlinewidth\":0,\"ticks\":\"\"}},\"type\":\"parcoords\"}],\"pie\":[{\"automargin\":true,\"type\":\"pie\"}],\"scatter3d\":[{\"line\":{\"colorbar\":{\"outlinewidth\":0,\"ticks\":\"\"}},\"marker\":{\"colorbar\":{\"outlinewidth\":0,\"ticks\":\"\"}},\"type\":\"scatter3d\"}],\"scattercarpet\":[{\"marker\":{\"colorbar\":{\"outlinewidth\":0,\"ticks\":\"\"}},\"type\":\"scattercarpet\"}],\"scattergeo\":[{\"marker\":{\"colorbar\":{\"outlinewidth\":0,\"ticks\":\"\"}},\"type\":\"scattergeo\"}],\"scattergl\":[{\"marker\":{\"colorbar\":{\"outlinewidth\":0,\"ticks\":\"\"}},\"type\":\"scattergl\"}],\"scattermapbox\":[{\"marker\":{\"colorbar\":{\"outlinewidth\":0,\"ticks\":\"\"}},\"type\":\"scattermapbox\"}],\"scattermap\":[{\"marker\":{\"colorbar\":{\"outlinewidth\":0,\"ticks\":\"\"}},\"type\":\"scattermap\"}],\"scatterpolargl\":[{\"marker\":{\"colorbar\":{\"outlinewidth\":0,\"ticks\":\"\"}},\"type\":\"scatterpolargl\"}],\"scatterpolar\":[{\"marker\":{\"colorbar\":{\"outlinewidth\":0,\"ticks\":\"\"}},\"type\":\"scatterpolar\"}],\"scatter\":[{\"fillpattern\":{\"fillmode\":\"overlay\",\"size\":10,\"solidity\":0.2},\"type\":\"scatter\"}],\"scatterternary\":[{\"marker\":{\"colorbar\":{\"outlinewidth\":0,\"ticks\":\"\"}},\"type\":\"scatterternary\"}],\"surface\":[{\"colorbar\":{\"outlinewidth\":0,\"ticks\":\"\"},\"colorscale\":[[0.0,\"#0d0887\"],[0.1111111111111111,\"#46039f\"],[0.2222222222222222,\"#7201a8\"],[0.3333333333333333,\"#9c179e\"],[0.4444444444444444,\"#bd3786\"],[0.5555555555555556,\"#d8576b\"],[0.6666666666666666,\"#ed7953\"],[0.7777777777777778,\"#fb9f3a\"],[0.8888888888888888,\"#fdca26\"],[1.0,\"#f0f921\"]],\"type\":\"surface\"}],\"table\":[{\"cells\":{\"fill\":{\"color\":\"#EBF0F8\"},\"line\":{\"color\":\"white\"}},\"header\":{\"fill\":{\"color\":\"#C8D4E3\"},\"line\":{\"color\":\"white\"}},\"type\":\"table\"}]},\"layout\":{\"annotationdefaults\":{\"arrowcolor\":\"#2a3f5f\",\"arrowhead\":0,\"arrowwidth\":1},\"autotypenumbers\":\"strict\",\"coloraxis\":{\"colorbar\":{\"outlinewidth\":0,\"ticks\":\"\"}},\"colorscale\":{\"diverging\":[[0,\"#8e0152\"],[0.1,\"#c51b7d\"],[0.2,\"#de77ae\"],[0.3,\"#f1b6da\"],[0.4,\"#fde0ef\"],[0.5,\"#f7f7f7\"],[0.6,\"#e6f5d0\"],[0.7,\"#b8e186\"],[0.8,\"#7fbc41\"],[0.9,\"#4d9221\"],[1,\"#276419\"]],\"sequential\":[[0.0,\"#0d0887\"],[0.1111111111111111,\"#46039f\"],[0.2222222222222222,\"#7201a8\"],[0.3333333333333333,\"#9c179e\"],[0.4444444444444444,\"#bd3786\"],[0.5555555555555556,\"#d8576b\"],[0.6666666666666666,\"#ed7953\"],[0.7777777777777778,\"#fb9f3a\"],[0.8888888888888888,\"#fdca26\"],[1.0,\"#f0f921\"]],\"sequentialminus\":[[0.0,\"#0d0887\"],[0.1111111111111111,\"#46039f\"],[0.2222222222222222,\"#7201a8\"],[0.3333333333333333,\"#9c179e\"],[0.4444444444444444,\"#bd3786\"],[0.5555555555555556,\"#d8576b\"],[0.6666666666666666,\"#ed7953\"],[0.7777777777777778,\"#fb9f3a\"],[0.8888888888888888,\"#fdca26\"],[1.0,\"#f0f921\"]]},\"colorway\":[\"#636efa\",\"#EF553B\",\"#00cc96\",\"#ab63fa\",\"#FFA15A\",\"#19d3f3\",\"#FF6692\",\"#B6E880\",\"#FF97FF\",\"#FECB52\"],\"font\":{\"color\":\"#2a3f5f\"},\"geo\":{\"bgcolor\":\"white\",\"lakecolor\":\"white\",\"landcolor\":\"#E5ECF6\",\"showlakes\":true,\"showland\":true,\"subunitcolor\":\"white\"},\"hoverlabel\":{\"align\":\"left\"},\"hovermode\":\"closest\",\"mapbox\":{\"style\":\"light\"},\"paper_bgcolor\":\"white\",\"plot_bgcolor\":\"#E5ECF6\",\"polar\":{\"angularaxis\":{\"gridcolor\":\"white\",\"linecolor\":\"white\",\"ticks\":\"\"},\"bgcolor\":\"#E5ECF6\",\"radialaxis\":{\"gridcolor\":\"white\",\"linecolor\":\"white\",\"ticks\":\"\"}},\"scene\":{\"xaxis\":{\"backgroundcolor\":\"#E5ECF6\",\"gridcolor\":\"white\",\"gridwidth\":2,\"linecolor\":\"white\",\"showbackground\":true,\"ticks\":\"\",\"zerolinecolor\":\"white\"},\"yaxis\":{\"backgroundcolor\":\"#E5ECF6\",\"gridcolor\":\"white\",\"gridwidth\":2,\"linecolor\":\"white\",\"showbackground\":true,\"ticks\":\"\",\"zerolinecolor\":\"white\"},\"zaxis\":{\"backgroundcolor\":\"#E5ECF6\",\"gridcolor\":\"white\",\"gridwidth\":2,\"linecolor\":\"white\",\"showbackground\":true,\"ticks\":\"\",\"zerolinecolor\":\"white\"}},\"shapedefaults\":{\"line\":{\"color\":\"#2a3f5f\"}},\"ternary\":{\"aaxis\":{\"gridcolor\":\"white\",\"linecolor\":\"white\",\"ticks\":\"\"},\"baxis\":{\"gridcolor\":\"white\",\"linecolor\":\"white\",\"ticks\":\"\"},\"bgcolor\":\"#E5ECF6\",\"caxis\":{\"gridcolor\":\"white\",\"linecolor\":\"white\",\"ticks\":\"\"}},\"title\":{\"x\":0.05},\"xaxis\":{\"automargin\":true,\"gridcolor\":\"white\",\"linecolor\":\"white\",\"ticks\":\"\",\"title\":{\"standoff\":15},\"zerolinecolor\":\"white\",\"zerolinewidth\":2},\"yaxis\":{\"automargin\":true,\"gridcolor\":\"white\",\"linecolor\":\"white\",\"ticks\":\"\",\"title\":{\"standoff\":15},\"zerolinecolor\":\"white\",\"zerolinewidth\":2}}},\"title\":{\"text\":\"\\u003cb\\u003ePopulation Pyramid (2000)\\u003c\\u002fb\\u003e\"},\"updatemenus\":[{\"buttons\":[{\"args\":[null,{\"frame\":{\"duration\":1500,\"redraw\":true},\"fromcurrent\":true}],\"label\":\"\\u25b6 Play\",\"method\":\"animate\"},{\"args\":[[null],{\"frame\":{\"duration\":0,\"redraw\":true},\"mode\":\"immediate\",\"transition\":{\"duration\":0}}],\"label\":\"\\u23f8 Pause\",\"method\":\"animate\"}],\"direction\":\"left\",\"pad\":{\"r\":10,\"t\":60},\"showactive\":false,\"type\":\"buttons\",\"x\":0.1,\"xanchor\":\"right\",\"y\":0,\"yanchor\":\"top\"}],\"xaxis\":{\"range\":[-2744293.0,2744293.0],\"showgrid\":true,\"title\":{\"text\":\"Population Scale\"},\"zeroline\":false},\"yaxis\":{\"range\":[0,90],\"showgrid\":true,\"title\":{\"text\":\"Age in Years\"}}},                        {\"responsive\": true}                    ).then(function(){\n",
       "                            Plotly.addFrames('49ab83b9-799e-472f-bca7-903f4d1b7790', [{\"data\":[{\"marker\":{\"color\":\"#4C72B0\"},\"name\":\"Men 2000\",\"opacity\":0.8,\"orientation\":\"h\",\"x\":{\"dtype\":\"f8\",\"bdata\":\"AAAAAN\\u002fbMEEAAAAASGkwQQAAAABQ+C5BAAAAALL1KkEAAAAABmUnQQAAAAAq4yVBAAAAAMqIJUEAAAAAnLckQQAAAACkNSJBAAAAAEACHEEAAAAAuHETQQAAAAAojQlBAAAAANg9AEEAAAAA0J70QAAAAABAAulAAAAAAMDJ2kAAAAAAAGfPQA==\"},\"y\":[1,6,11,16,21,26,31,36,41,46,51,56,61,66,71,76,81],\"type\":\"bar\"},{\"marker\":{\"color\":\"#DD8452\"},\"name\":\"Women 2000\",\"opacity\":0.8,\"orientation\":\"h\",\"x\":{\"dtype\":\"f8\",\"bdata\":\"AAAAALMMMMEAAAAALOQuwQAAAAA2hyzBAAAAADQhKMEAAAAAktAjwQAAAAB6ESHBAAAAAEAUH8EAAAAAaFocwQAAAABsOxjBAAAAACyuEsEAAAAAoKgKwQAAAADorQLBAAAAAOA3+sAAAAAAQJLywAAAAACgNenAAAAAAIB53sAAAAAAwOLVwA==\"},\"y\":[1,6,11,16,21,26,31,36,41,46,51,56,61,66,71,76,81],\"type\":\"bar\"}],\"name\":\"2000\"},{\"data\":[{\"marker\":{\"color\":\"#4C72B0\"},\"name\":\"Men 2002\",\"opacity\":0.8,\"orientation\":\"h\",\"x\":{\"dtype\":\"f8\",\"bdata\":\"AAAAAOAMMUEAAAAA13sxQQAAAACfmDJBAAAAAG\\u002fuMUEAAAAAqHsuQQAAAACsFSpBAAAAAAIJKEEAAAAAqFYmQQAAAACqnCNBAAAAAASbHkEAAAAAoGoVQQAAAAAwswxBAAAAAFhjAkEAAAAA8Eb3QAAAAAAgQuxAAAAAAIC83kAAAAAAgFjSQA==\"},\"y\":[1,6,11,16,21,26,31,36,41,46,51,56,61,66,71,76,81],\"type\":\"bar\"},{\"marker\":{\"color\":\"#DD8452\"},\"name\":\"Women 2002\",\"opacity\":0.8,\"orientation\":\"h\",\"x\":{\"dtype\":\"f8\",\"bdata\":\"AAAAAK8dMMEAAAAA5LwvwQAAAAAs5S7BAAAAAI6CK8EAAAAAHmAmwQAAAACYZSLBAAAAAEQRIMEAAAAAMNgcwQAAAADEBRnBAAAAAGy8E8EAAAAAmL0MwQAAAAAYZQTBAAAAADBj\\u002fMAAAAAAgBn0wAAAAACgiOvAAAAAAGAD4cAAAAAAQBLZwA==\"},\"y\":[1,6,11,16,21,26,31,36,41,46,51,56,61,66,71,76,81],\"type\":\"bar\"}],\"name\":\"2002\"},{\"data\":[{\"marker\":{\"color\":\"#4C72B0\"},\"name\":\"Men 2004\",\"opacity\":0.8,\"orientation\":\"h\",\"x\":{\"dtype\":\"f8\",\"bdata\":\"AAAAAG5hMUEAAAAAQocxQQAAAACsGDRBAAAAAEnvNUEAAAAAwLYzQQAAAACdEjBBAAAAACiPK0EAAAAAusMoQQAAAADUViVBAAAAAErcIEEAAAAAtMQXQQAAAABQVQ9BAAAAAGi8BEEAAAAAcB\\u002f6QAAAAAAA+e9AAAAAAKCh4UAAAAAAwM3VQA==\"},\"y\":[1,6,11,16,21,26,31,36,41,46,51,56,61,66,71,76,81],\"type\":\"bar\"},{\"marker\":{\"color\":\"#DD8452\"},\"name\":\"Women 2004\",\"opacity\":0.8,\"orientation\":\"h\",\"x\":{\"dtype\":\"f8\",\"bdata\":\"AAAAAKtiMMEAAAAAnNMvwQAAAAA+IDDBAAAAAGDALsEAAAAAQJkpwQAAAADqbCTBAAAAAGL\\u002fIMEAAAAAXLwdwQAAAAD4rxnBAAAAABTBFMEAAAAAAL4OwQAAAAAY1gXBAAAAAOC1\\u002fsAAAAAAMJr1wAAAAADg1e3AAAAAAMDW4sAAAAAAgOPcwA==\"},\"y\":[1,6,11,16,21,26,31,36,41,46,51,56,61,66,71,76,81],\"type\":\"bar\"}],\"name\":\"2004\"},{\"data\":[{\"marker\":{\"color\":\"#4C72B0\"},\"name\":\"Men 2006\",\"opacity\":0.8,\"orientation\":\"h\",\"x\":{\"dtype\":\"f8\",\"bdata\":\"AAAAAKMVMkEAAAAAJicxQQAAAACHDzRBAAAAAAqVOEEAAAAA0o04QQAAAADhLTRBAAAAADg8MEEAAAAAmAwsQQAAAADsrydBAAAAADi6IkEAAAAA8IsaQQAAAACEFhFBAAAAACjkBkEAAAAA8C39QAAAAACQBPJAAAAAAIBG5EAAAAAAgJPaQA==\"},\"y\":[1,6,11,16,21,26,31,36,41,46,51,56,61,66,71,76,81],\"type\":\"bar\"},{\"marker\":{\"color\":\"#DD8452\"},\"name\":\"Women 2006\",\"opacity\":0.8,\"orientation\":\"h\",\"x\":{\"dtype\":\"f8\",\"bdata\":\"AAAAALb3MMEAAAAAyJIvwQAAAAALRzDBAAAAACebMMEAAAAA9D4twQAAAAA4OCfBAAAAAOR1IsEAAAAAmDAfwQAAAAA4fxrBAAAAAAC6FcEAAAAAoDoQwQAAAADoOAfBAAAAADCEAMEAAAAAAA\\u002f3wAAAAAAgBvDAAAAAAOCp5MAAAAAAwMTgwA==\"},\"y\":[1,6,11,16,21,26,31,36,41,46,51,56,61,66,71,76,81],\"type\":\"bar\"}],\"name\":\"2006\"},{\"data\":[{\"marker\":{\"color\":\"#4C72B0\"},\"name\":\"Men 2008\",\"opacity\":0.8,\"orientation\":\"h\",\"x\":{\"dtype\":\"f8\",\"bdata\":\"AAAAAPD8MkEAAAAAohMxQQAAAAAVGTNBAAAAAMFBOUEAAAAAn8g8QQAAAAA7RzlBAAAAAEWtM0EAAAAAPR4wQQAAAAAc5ipBAAAAABgGJUEAAAAAwPUdQQAAAAAkAhNBAAAAAMBVCEEAAAAAeDUAQQAAAAAgHfRAAAAAAKBS50AAAAAA4GjgQA==\"},\"y\":[1,6,11,16,21,26,31,36,41,46,51,56,61,66,71,76,81],\"type\":\"bar\"},{\"marker\":{\"color\":\"#DD8452\"},\"name\":\"Women 2008\",\"opacity\":0.8,\"orientation\":\"h\",\"x\":{\"dtype\":\"f8\",\"bdata\":\"AAAAAHe6McEAAAAAEL8vwQAAAAD9DjDBAAAAAGsuMcEAAAAAvWswwQAAAADYtCrBAAAAAMakJMEAAAAA0KogwQAAAACwxhvBAAAAAJChFsEAAAAAsCMRwQAAAADQcgjBAAAAALBxAcEAAAAAEHz4wAAAAACAD\\u002fHAAAAAAGBr5sAAAAAAAGzjwA==\"},\"y\":[1,6,11,16,21,26,31,36,41,46,51,56,61,66,71,76,81],\"type\":\"bar\"}],\"name\":\"2008\"},{\"data\":[{\"marker\":{\"color\":\"#4C72B0\"},\"name\":\"Men 2010\",\"opacity\":0.8,\"orientation\":\"h\",\"x\":{\"dtype\":\"f8\",\"bdata\":\"AAAAABUQM0EAAAAAoLowQQAAAADlCzFBAAAAAIvtNkEAAAAA1PU9QQAAAABAXD1BAAAAALwkN0EAAAAAPvcxQQAAAAAGjS1BAAAAAIbfJkEAAAAAYlAgQQAAAACUqhRBAAAAABBdCEEAAAAAuL0AQQAAAADwHvVAAAAAAIAu6UAAAAAAwBzjQA==\"},\"y\":[1,6,11,16,21,26,31,36,41,46,51,56,61,66,71,76,81],\"type\":\"bar\"},{\"marker\":{\"color\":\"#DD8452\"},\"name\":\"Women 2010\",\"opacity\":0.8,\"orientation\":\"h\",\"x\":{\"dtype\":\"f8\",\"bdata\":\"AAAAAHq7McEAAAAAUhQvwQAAAAAy7S3BAAAAAGVHMMEAAAAAKgMxwQAAAAC6OS3BAAAAAGaJJsEAAAAATl8hwQAAAADoQxzBAAAAALCRFsEAAAAAiFARwQAAAAAYYAjBAAAAANBEAcEAAAAAEJH4wAAAAACwF\\u002fHAAAAAAKDF5sAAAAAAAAXlwA==\"},\"y\":[1,6,11,16,21,26,31,36,41,46,51,56,61,66,71,76,81],\"type\":\"bar\"}],\"name\":\"2010\"},{\"data\":[{\"marker\":{\"color\":\"#4C72B0\"},\"name\":\"Men 2012\",\"opacity\":0.8,\"orientation\":\"h\",\"x\":{\"dtype\":\"f8\",\"bdata\":\"AAAAABdONEEAAAAAI9MxQQAAAAC8izBBAAAAADoRNUEAAAAA7K0+QQAAAIC0QEFBAAAAAK4EPUEAAAAARtU1QQAAAACeYDFBAAAAAI7+KkEAAAAAYiojQQAAAABMYRhBAAAAAKgFC0EAAAAAaHIBQQAAAABgUfdAAAAAAGAT7EAAAAAAgArnQA==\"},\"y\":[1,6,11,16,21,26,31,36,41,46,51,56,61,66,71,76,81],\"type\":\"bar\"},{\"marker\":{\"color\":\"#DD8452\"},\"name\":\"Women 2012\",\"opacity\":0.8,\"orientation\":\"h\",\"x\":{\"dtype\":\"f8\",\"bdata\":\"AAAAAJ7SMsEAAAAA13gwwQAAAADQBi7BAAAAAOD1L8EAAAAAfOgxwQAAAABlwzDBAAAAAHx+KsEAAAAAoNMjwQAAAADAGh\\u002fBAAAAAGRmGMEAAAAAkJkSwQAAAABIBwrBAAAAAOD3AcEAAAAAQLz5wAAAAAAA+fHAAAAAAGAO6MAAAAAAAGTnwA==\"},\"y\":[1,6,11,16,21,26,31,36,41,46,51,56,61,66,71,76,81],\"type\":\"bar\"}],\"name\":\"2012\"},{\"data\":[{\"marker\":{\"color\":\"#4C72B0\"},\"name\":\"Men 2014\",\"opacity\":0.8,\"orientation\":\"h\",\"x\":{\"dtype\":\"f8\",\"bdata\":\"AAAAALxYNUEAAAAArgkzQQAAAADYvTBBAAAAAGbxMkEAAAAA1tw8QQAAAACt7kJBAAAAgKTBQUEAAAAANe06QQAAAACFeDRBAAAAAGQIMEEAAAAASMgmQQAAAAB4HR1BAAAAAHDXD0EAAAAAEGEBQQAAAADg6vhAAAAAAGA77kAAAAAAYMPqQA==\"},\"y\":[1,6,11,16,21,26,31,36,41,46,51,56,61,66,71,76,81],\"type\":\"bar\"},{\"marker\":{\"color\":\"#DD8452\"},\"name\":\"Women 2014\",\"opacity\":0.8,\"orientation\":\"h\",\"x\":{\"dtype\":\"f8\",\"bdata\":\"AAAAAF+1M8EAAAAAqYcxwQAAAAAEvi7BAAAAAITwLsEAAAAAFNkxwQAAAABwljLBAAAAAMbxLsEAAAAAFhknwQAAAADoUSHBAAAAAPjXGsEAAAAAQPkTwQAAAAAAHQzBAAAAAPh\\u002fAsEAAAAAgB\\u002f6wAAAAACAffLAAAAAAEC26MAAAAAAoODowA==\"},\"y\":[1,6,11,16,21,26,31,36,41,46,51,56,61,66,71,76,81],\"type\":\"bar\"}],\"name\":\"2014\"},{\"data\":[{\"marker\":{\"color\":\"#4C72B0\"},\"name\":\"Men 2016\",\"opacity\":0.8,\"orientation\":\"h\",\"x\":{\"dtype\":\"f8\",\"bdata\":\"AAAAAFSjNkEAAAAA3KQ0QQAAAACO6TFBAAAAAAWvMUEAAAAA39Q5QQAAAAB1gkNBAAAAgPLvREEAAACAnsFAQQAAAACqoThBAAAAALcqM0EAAAAAGsQrQQAAAAAk4yFBAAAAAPwTFEEAAAAAKI4CQQAAAABA8flAAAAAAEB88EAAAAAAIPzuQA==\"},\"y\":[1,6,11,16,21,26,31,36,41,46,51,56,61,66,71,76,81],\"type\":\"bar\"},{\"marker\":{\"color\":\"#DD8452\"},\"name\":\"Women 2016\",\"opacity\":0.8,\"orientation\":\"h\",\"x\":{\"dtype\":\"f8\",\"bdata\":\"AAAAAF\\u002fwNMEAAAAAgQ4zwQAAAADvfTDBAAAAAJzqLsEAAAAAGnsxwQAAAADSAzTBAAAAAF8WMsEAAAAANq0rwQAAAACsGCTBAAAAAESXHsEAAAAAWF4WwQAAAACYlg\\u002fBAAAAAKgHBMEAAAAAsOb6wAAAAAAgOfPAAAAAAIDI6cAAAAAAYHzqwA==\"},\"y\":[1,6,11,16,21,26,31,36,41,46,51,56,61,66,71,76,81],\"type\":\"bar\"}],\"name\":\"2016\"},{\"data\":[{\"marker\":{\"color\":\"#4C72B0\"},\"name\":\"Men 2018\",\"opacity\":0.8,\"orientation\":\"h\",\"x\":{\"dtype\":\"f8\",\"bdata\":\"AAAAADEyNkEAAAAAN5g0QQAAAAAQFDJBAAAAAN5aMEEAAAAAwLY0QQAAAIA7j0BBAAAAACnSQ0EAAACANSNBQQAAAAAXxjhBAAAAADPqMkEAAAAA1KssQQAAAAA8sCJBAAAAANjKFUEAAAAA8I4DQQAAAABwlvpAAAAAALAd8UAAAAAAQMfvQA==\"},\"y\":[1,6,11,16,21,26,31,36,41,46,51,56,61,66,71,76,81],\"type\":\"bar\"},{\"marker\":{\"color\":\"#DD8452\"},\"name\":\"Women 2018\",\"opacity\":0.8,\"orientation\":\"h\",\"x\":{\"dtype\":\"f8\",\"bdata\":\"AAAAAOf0NMEAAAAAkFszwQAAAAAEDzHBAAAAACoXLsEAAAAAhK8vwQAAAACK2DLBAAAAAGtmMsEAAAAAZEotwQAAAABYVCXBAAAAAAYhIMEAAAAAINoXwQAAAACkSxHBAAAAANikBsEAAAAAgHr8wAAAAABQVvTAAAAAAABi68AAAAAAQJfswA==\"},\"y\":[1,6,11,16,21,26,31,36,41,46,51,56,61,66,71,76,81],\"type\":\"bar\"}],\"name\":\"2018\"},{\"data\":[{\"marker\":{\"color\":\"#4C72B0\"},\"name\":\"Men 2020\",\"opacity\":0.8,\"orientation\":\"h\",\"x\":{\"dtype\":\"f8\",\"bdata\":\"AAAAAILeNUEAAAAAiX01QQAAAAAZTjNBAAAAAFHgMEEAAAAAsqQ1QQAAAIDk70BBAAAAACsuREEAAAAAdOZBQQAAAAB\\u002fLzpBAAAAAJDiMkEAAAAAqFQtQQAAAABOciNBAAAAAOwxF0EAAAAAQPIFQQAAAACwcf1AAAAAAOBY8kAAAAAAgDfuQA==\"},\"y\":[1,6,11,16,21,26,31,36,41,46,51,56,61,66,71,76,81],\"type\":\"bar\"},{\"marker\":{\"color\":\"#DD8452\"},\"name\":\"Women 2020\",\"opacity\":0.8,\"orientation\":\"h\",\"x\":{\"dtype\":\"f8\",\"bdata\":\"AAAAAHz5NMEAAAAA54c0wQAAAACPjjLBAAAAAPzyL8EAAAAAygEwwQAAAAD6pTPBAAAAAHiFM8EAAAAADrIvwQAAAAAkxyfBAAAAAEpqIcEAAAAAKP0awQAAAAAUAxTBAAAAAHBhC8EAAAAA4HcAwQAAAACQUPfAAAAAAEAI78AAAAAAoIXvwA==\"},\"y\":[1,6,11,16,21,26,31,36,41,46,51,56,61,66,71,76,81],\"type\":\"bar\"}],\"name\":\"2020\"}]);\n",
       "                        }).then(function(){\n",
       "                            Plotly.animate('49ab83b9-799e-472f-bca7-903f4d1b7790', null);\n",
       "                        }).then(function(){\n",
       "                            \n",
       "var gd = document.getElementById('49ab83b9-799e-472f-bca7-903f4d1b7790');\n",
       "var x = new MutationObserver(function (mutations, observer) {{\n",
       "        var display = window.getComputedStyle(gd).display;\n",
       "        if (!display || display === 'none') {{\n",
       "            console.log([gd, 'removed!']);\n",
       "            Plotly.purge(gd);\n",
       "            observer.disconnect();\n",
       "        }}\n",
       "}});\n",
       "\n",
       "// Listen for the removal of the full notebook cells\n",
       "var notebookContainer = gd.closest('#notebook-container');\n",
       "if (notebookContainer) {{\n",
       "    x.observe(notebookContainer, {childList: true});\n",
       "}}\n",
       "\n",
       "// Listen for the clearing of the current output cell\n",
       "var outputEl = gd.closest('.output');\n",
       "if (outputEl) {{\n",
       "    x.observe(outputEl, {childList: true});\n",
       "}}\n",
       "\n",
       "                        })                };            </script>        </div>"
      ]
     },
     "metadata": {},
     "output_type": "display_data"
    }
   ],
   "source": [
    "def animated_population_pyramid(df, years):\n",
    "    years = [str(year) for year in years if str(year) in df.index]\n",
    "    if not years:\n",
    "        return \"Please ensure all selected years are within your dataframe.\"\n",
    "    max_male = df.filter(like=\"Male\").max().max()\n",
    "    max_female = df.filter(like=\"Female\").max().max()\n",
    "    max_val = max(max_male, max_female)\n",
    "    fixed_x_range = [-max_val, max_val]\n",
    "\n",
    "    def get_bars(year):\n",
    "        \"\"\"Returns bars for a given year (Men & Women).\"\"\"\n",
    "        return [\n",
    "            go.Bar(x=df.loc[year].filter(like=\"Male\").values, \n",
    "                   y=[int(s[:2])+1 for s in age_ranges],\n",
    "                   orientation='h', name=f'Men {year}',\n",
    "                   marker=dict(color='#4C72B0'), opacity=0.8),\n",
    "            \n",
    "            go.Bar(x=-df.loc[year].filter(like=\"Female\").values, \n",
    "                   y=[int(s[:2])+1 for s in age_ranges],\n",
    "                   orientation='h', name=f'Women {year}',\n",
    "                   marker=dict(color='#DD8452'), opacity=0.8)\n",
    "        ]\n",
    "\n",
    "    # Create figure with first year's data\n",
    "    fig = go.Figure(\n",
    "        data=get_bars(years[0]),\n",
    "        layout=go.Layout(\n",
    "            title=f\"<b>Population Pyramid ({years[0]})</b>\",\n",
    "            xaxis=dict(title=\"Population Scale\", range=fixed_x_range, showgrid=True, zeroline=False),\n",
    "            yaxis=dict(title=\"Age in Years\", range=[0, 90], showgrid=True),\n",
    "            paper_bgcolor=\"#F7F7F7\",  # Light background\n",
    "            plot_bgcolor=\"#FFFFFF\",   # White plot background\n",
    "            font=dict(family=\"Arial, sans-serif\", size=14, color=\"#333333\"),\n",
    "            updatemenus=[{\n",
    "                \"buttons\": [\n",
    "                    {\"args\": [None, {\"frame\": {\"duration\": 1500, \"redraw\": True}, \"fromcurrent\": True}],\n",
    "                     \"label\": \"▶ Play\", \"method\": \"animate\"},\n",
    "                    {\"args\": [[None], {\"frame\": {\"duration\": 0, \"redraw\": True}, \"mode\": \"immediate\",\n",
    "                                       \"transition\": {\"duration\": 0}}],\n",
    "                     \"label\": \"⏸ Pause\", \"method\": \"animate\"}\n",
    "                ],\n",
    "                \"direction\": \"left\", \"pad\": {\"r\": 10, \"t\": 60},\n",
    "                \"showactive\": False, \"type\": \"buttons\", \"x\": 0.1, \"xanchor\": \"right\", \"y\": 0, \"yanchor\": \"top\"\n",
    "            }]\n",
    "        )\n",
    "    )\n",
    "\n",
    "    # Add animation frames\n",
    "    fig.frames = [go.Frame(data=get_bars(year), name=year) for year in years]\n",
    "\n",
    "    # Display the animated plot\n",
    "    pyo.iplot(fig)\n",
    "\n",
    "# Example function call\n",
    "animated_population_pyramid(sau_df, range(2000, 2021, 2))\n"
   ]
  },
  {
   "cell_type": "markdown",
   "metadata": {
    "cell_id": "1fa342bb33fa470f90bcc2122b680349",
    "deepnote_cell_type": "text-cell-h1",
    "formattedRanges": []
   },
   "source": [
    "# Deliverable 7: Other Visualization Tools"
   ]
  },
  {
   "cell_type": "markdown",
   "metadata": {
    "cell_id": "7a291404328e451e8d7f399da1740e4a",
    "deepnote_cell_type": "text-cell-p",
    "formattedRanges": []
   },
   "source": [
    "**Context for Graph**: \n",
    "  \n",
    "Saudi Arabia's government rules through an absolute monarchy; governance is centered around the King and  ruling Al Saud family. The King serves as both the head of state and government, wielding executive, legislative, and judicial authority. The governance indicators in the graph highlight key aspects of Saudi Arabia’s institutional/political landscape. \n",
    "\n",
    "Government Effectiveness, Rule of Law, and Regulatory Quality show steady improvements, reflecting enhanced policy implementation, economic reforms, and legal modernization under Vision 2030. Control of Corruption has also increased, likely due to high-profile anti-corruption campaigns. Meanwhile, Political Stability and Absence of Violence/Terrorism has fluctuated, influenced by regional tensions and domestic security measures. \n",
    "\n",
    "However, Voice and Accountability remains significantly low, underscoring the country’s limited political freedoms, media restrictions, and centralized decision-making. These trends demonstrate Saudi Arabia’s progress in economic and administrative governance while maintaining tight political control."
   ]
  },
  {
   "cell_type": "code",
   "execution_count": 42,
   "metadata": {},
   "outputs": [
    {
     "data": {
      "image/png": "[encoded data removed]",
      "text/plain": [
       "<Figure size 1200x800 with 1 Axes>"
      ]
     },
     "metadata": {},
     "output_type": "display_data"
    }
   ],
   "source": [
    "##Plot Looking at Governance Factors of Saudi Arabia\n",
    "\n",
    "SOURCE = 3 # \"Worldwide Governance Indicators\"\n",
    "governance_variables = {\n",
    "    \"CC.EST\": \"Control of Corruption: Estimate\",\n",
    "    \"GE.EST\": \"Government Effectiveness: Estimate\",\n",
    "    \"PV.EST\": \"Political Stability and Absence of Violence/Terrorism: Estimate\",\n",
    "    \"RL.EST\": \"Rule of Law: Estimate\",\n",
    "    \"RQ.EST\": \"Regulatory Quality: Estimate\",\n",
    "    \"VA.EST\": \"Voice and Accountability: Estimate\"}\n",
    "gov = wbdata.get_dataframe(governance_variables, country=\"SAU\",parse_dates=True)\n",
    "gov.dropna()\n",
    "gov_filtered = gov[gov.index.year >= 2002]\n",
    "\n",
    "#plot\n",
    "ax = gov_filtered.plot(\n",
    "    figsize=(12, 8),\n",
    "    title=\"Gov Factors Over Time (2000 Onwards)\",\n",
    "    xlabel=\"Year\",\n",
    "    ylabel=\"Gov Factors\",\n",
    "    grid=True,)\n",
    "plt.legend(title=\"Indicators\", loc=\"upper left\", bbox_to_anchor=(1.02, 1), fontsize=10)\n",
    "plt.grid(visible=True, linestyle='--', alpha=0.7)\n",
    "plt.tight_layout()\n",
    "plt.show()"
   ]
  },
  {
   "cell_type": "markdown",
   "metadata": {},
   "source": [
    "**Context/Explanation of Heatmap**:\n",
    "\n",
    "Saudi Arabia’s governance, as shown in the heatmap, demonstrates a strong correlation between Control of Corruption (0.86) and Government Effectiveness (0.86), highlighting the impact of anti-corruption efforts on administrative efficiency. However, Political Stability negatively correlates with both (-0.30, -0.36), reflecting challenges from regional conflicts and economic transitions. Rule of Law (0.69) and Regulatory Quality (0.54) are moderately linked to corruption control, indicating progress but also the need for clearer legal frameworks. Notably, Voice and Accountability shows weak correlations (≤ 0.19) with other governance factors, reinforcing the monarchy’s centralized control and limited political freedoms. This reflects Saudi Arabia’s authoritarian efficiency model, where governance and economic reforms advance while political liberalization remains minimal."
   ]
  },
  {
   "cell_type": "code",
   "execution_count": 43,
   "metadata": {},
   "outputs": [
    {
     "data": {
      "image/png": "[encoded data removed]",
      "text/plain": [
       "<Figure size 1000x800 with 2 Axes>"
      ]
     },
     "metadata": {},
     "output_type": "display_data"
    }
   ],
   "source": [
    "#Heat Map of Governance Factors of Saudi Arabia\n",
    "\n",
    "# Set figure size for better readability\n",
    "plt.figure(figsize=(10, 8))\n",
    "\n",
    "# Create a heatmap with improved aesthetics\n",
    "sns.heatmap(\n",
    "    gov.corr(), \n",
    "    annot=True, \n",
    "    fmt=\".2f\", \n",
    "    cmap=\"YlGnBu\",  # More intuitive color scheme\n",
    "    linewidths=0.5,  # Add gridlines for clarity\n",
    "    square=True,  # Ensure heatmap cells are square\n",
    "    cbar_kws={'shrink': 0.75},  # Adjust color bar size\n",
    "    annot_kws={\"size\": 10}  # Set font size for annotations\n",
    ")\n",
    "\n",
    "# Improve title readability\n",
    "plt.title(\"Governance Factors Heatmap - Saudi Arabia\", fontsize=18, fontweight='bold', pad=20)\n",
    "\n",
    "# Rotate x and y labels for clarity\n",
    "plt.xticks(rotation=45, ha=\"right\", fontsize=12)\n",
    "plt.yticks(rotation=0, fontsize=12)\n",
    "\n",
    "# Show plot\n",
    "plt.show()"
   ]
  },
  {
   "cell_type": "markdown",
   "metadata": {
    "cell_id": "1fa342bb33fa470f90bcc2122b680349",
    "deepnote_cell_type": "text-cell-h1",
    "formattedRanges": []
   },
   "source": [
    "# Deliverable 8: Agricultural Supply"
   ]
  },
  {
   "cell_type": "markdown",
   "metadata": {
    "cell_id": "7a291404328e451e8d7f399da1740e4a",
    "deepnote_cell_type": "text-cell-p",
    "formattedRanges": []
   },
   "source": [
    "**Saudi Arabia's Population & Agricultural Production**\n",
    "\n",
    "Saudi Arabia's economic and social development is intertwined with its evolving population dynamics and agricultural production. This presentation explores the historical interplay of these factors, analyzing government policies, technological advancements, and the implications for the nation's future.\n"
   ]
  },
  {
   "cell_type": "markdown",
   "metadata": {
    "cell_id": "7a291404328e451e8d7f399da1740e4a",
    "deepnote_cell_type": "text-cell-p",
    "formattedRanges": []
   },
   "source": [
    "**Saudization Policy**\n",
    "\n",
    "\n",
    "The Saudization policy, also known as the Nitaqat program, aimed to prioritize local employment over foreign workers. This initiative, initiated in 2011, significantly reshaped the Saudi labor force, impacting industries heavily reliant on migrant labor, including agriculture.\n"
   ]
  },
  {
   "cell_type": "markdown",
   "metadata": {
    "cell_id": "7a291404328e451e8d7f399da1740e4a",
    "deepnote_cell_type": "text-cell-p",
    "formattedRanges": []
   },
   "source": [
    "**Vision 2030 & Economic Diversification**\n",
    "\n",
    "Vision 2030, launched in 2016, focuses on economic diversification, shifting away from oil dependence toward sectors like tourism, technology, and non-oil industries. This economic transformation influences migration patterns, population demographics, and the government's agricultural investments.\n"
   ]
  },
  {
   "cell_type": "markdown",
   "metadata": {
    "cell_id": "7a291404328e451e8d7f399da1740e4a",
    "deepnote_cell_type": "text-cell-p",
    "formattedRanges": []
   },
   "source": [
    "**Impact of Expatriate Labor Policies**\n",
    "\n",
    "Saudi Arabia's approach to expatriate labor has undergone significant transformation, particularly affecting the agricultural sector.\n",
    "\n",
    "\n",
    "1. **Traditional Labor Structure**: Heavy reliance on expatriate workforce in low-wage sectors, creating a diverse but dependent agricultural labor market.\n",
    "\n",
    "2. **Policy Evolution**: Implementation of stricter labor laws and expatriate fees, significantly influencing farm labor availability and costs.\n",
    "\n",
    "3. **Current Transformation**: Strategic shift towards skilled worker recruitment and local employment, balancing labor diversity with economic efficiency in agriculture.\n"
   ]
  },
  {
   "cell_type": "markdown",
   "metadata": {
    "cell_id": "7a291404328e451e8d7f399da1740e4a",
    "deepnote_cell_type": "text-cell-p",
    "formattedRanges": []
   },
   "source": [
    "**Historical Shifts in Agricultural Policy**\n",
    "\n",
    "1. **Wheat Subsidy & Water Crisis**: The government heavily subsidized wheat farming from the 1970s to 2008, making Saudi Arabia a top producer. However, this led to severe groundwater depletion.\n",
    "\n",
    "2. **Food Security Strategies**: In response to the water crisis, the government reduced wheat production and increased reliance on imports. Saudi Arabia also invested in farmland abroad to secure its food supply.\n",
    "\n",
    "\n",
    "3. **Smart & Sustainable Agriculture**: Recent investments in hydroponics, desalination-based farming, and vertical farms aim to address climate challenges and\n",
    "promote sustainable agriculture."
   ]
  },
  {
   "cell_type": "markdown",
   "metadata": {
    "cell_id": "7a291404328e451e8d7f399da1740e4a",
    "deepnote_cell_type": "text-cell-p",
    "formattedRanges": []
   },
   "source": [
    "**Impact of Historical Events**\n",
    "\n",
    "1. **Pre-1938: Early Settlements & Traditional Agriculture**\n",
    "\n",
    "Traditional oasis farming and small-scale irrigation systems sustained limited agricultural output. Nomadic Bedouin populations primarily relied on\n",
    "livestock and trade.\n",
    "\n",
    "\n",
    "2. **1938: Oil Discovery & Urbanization**\n",
    "\n",
    "The discovery of oil transformed Saudi Arabia, shifting focus from an agrarian economy to an oil- driven urban economy. Massive urbanization led to rural-to-urban migration and a decline in traditional farming.\n",
    "\n",
    "\n",
    "\n",
    "4. **1960s-1970s: Arab-Israeli Conflicts & Food Security**\n",
    "\n",
    "\n",
    "Middle Eastern conflicts disrupted regional trade, leading to increased food security concerns. Saudi Arabia prioritized self-sufficiency policies during the\n",
    "Cold War era.\n",
    "\n",
    "\n",
    "6. **1990-1991: Gulf War & Migration Changes**\n",
    "\n",
    "\n",
    "The Gulf War led to the expulsion of Yemeni and Jordanian workers, affecting labor supply. A shift in labor policy resulted in a higher reliance on South Asian workers.\n",
    "\n",
    "\n",
    "8. **Present Day: Climate Change & Desertification**\n",
    "\n",
    "Historical overuse of water resources has made food production unsustainable. The government is focusing on sustainable agricultural techniques and food\n",
    "imports.\n"
   ]
  },
  {
   "cell_type": "markdown",
   "metadata": {
    "cell_id": "7a291404328e451e8d7f399da1740e4a",
    "deepnote_cell_type": "text-cell-p",
    "formattedRanges": []
   },
   "source": [
    "**Agricultural Supply & Population Growth**\n",
    "\n",
    "1. **Population Growth:** Saudi Arabia's population has grown rapidly, from around 4 million in 1960 to over 35 million today.\n",
    "\n",
    "\n",
    "\n",
    "2. **Agricultural Production:** Despite government investments in irrigation projects and wheat production subsidies, the country remains heavily dependent on food imports due to its arid climate.\n",
    "\n",
    "\n",
    "\n",
    "3. **Water Scarcity:** Limited water resources restrict sustainable food production, making agricultural expansion challenging.\n",
    "\n",
    "\n",
    "\n",
    "4. **Urbanization & Imports:** Increasing urbanization and reliance on food imports create a system where supply must be maintained through\n",
    "external trade."
   ]
  },
  {
   "cell_type": "markdown",
   "metadata": {
    "cell_id": "7a291404328e451e8d7f399da1740e4a",
    "deepnote_cell_type": "text-cell-p",
    "formattedRanges": []
   },
   "source": [
    "**The Malthusian Perspective**\n",
    "\n",
    "1. **Malthusian Concerns:** Thomas Malthus argued that unchecked population growth would outstrip resource availability, leading to resource scarcity and societal instability.\n",
    "\n",
    "\n",
    "\n",
    "\n",
    "2. **Food Security Risks:** Malthus might argue that Saudi Arabia's rapid population growth could lead to food insecurity if imports were disrupted due to its heavy reliance on imported food.\n",
    "\n",
    "\n",
    "\n",
    "\n",
    "3. **Vulnerability:** The country is susceptible to external shocks such as global supply chain disruptions, climate change, and geopolitical issues, making its food security precarious.\n"
   ]
  },
  {
   "cell_type": "markdown",
   "metadata": {
    "cell_id": "1fa342bb33fa470f90bcc2122b680349",
    "deepnote_cell_type": "text-cell-h1",
    "formattedRanges": []
   },
   "source": [
    "# Deliverable 2: Unit Tests"
   ]
  },
  {
   "cell_type": "code",
   "execution_count": 44,
   "metadata": {},
   "outputs": [],
   "source": [
    "#Deliverable 1 Unit Test"
   ]
  },
  {
   "cell_type": "code",
   "execution_count": 45,
   "metadata": {},
   "outputs": [
    {
     "name": "stdout",
     "output_type": "stream",
     "text": [
      "True\n",
      "True\n",
      "True\n",
      "True\n",
      "True\n"
     ]
    }
   ],
   "source": [
    "## Test will pass if it returns true \n",
    "\n",
    "## Unit Test 1\n",
    "result = population(2002, \"p\", [0, 100], \"China\")\n",
    "population_amount = int(result.split()[2].replace(\",\", \"\"))  # Extract population\n",
    "print(\"True\" if population_amount < 3024320000 else \"Population wrong\")  # Less than 3 billion in China in 2002\n",
    "\n",
    "## Unit Test 2\n",
    "result = population(2020, \"females\", [10, 19], \"United States\")\n",
    "population_amount = int(result.split()[2].replace(\",\", \"\"))  # Extract population\n",
    "print(\"True\" if 5000000 < population_amount < 30000000 else \"Population wrong\")  # Reasonable range for 10-19 females in 2020\n",
    "\n",
    "## Unit Test 3\n",
    "result = population(2023, \"everyone\", [20, 29], \"WLD\")\n",
    "population_amount = int(result.split()[2].replace(\",\", \"\"))  # Extract population\n",
    "print(\"True\" if 500000000 < population_amount < 2000000000 else \"Population wrong\")  # Should be in billions but not too high\n",
    "\n",
    "## Unit Test 4\n",
    "result = population(2023, \"everyone\", [65, 85], \"USA\")\n",
    "population_amount = int(result.split()[2].replace(\",\", \"\"))  # Extract population\n",
    "print(\"True\" if 30000000 < population_amount < 80000000 else \"Population wrong\")  # Reasonable range for elderly population\n",
    "\n",
    "## Unit Test 5\n",
    "result = population(1975, \"People\", [5, 7], \"Rwanda\")\n",
    "population_amount = int(result.split()[2].replace(\",\", \"\"))  # Extract population\n",
    "print(\"True\" if population_amount < 5000000 else \"Population wrong\")  # Rwanda had a much smaller population in 1975"
   ]
  },
  {
   "cell_type": "code",
   "execution_count": 46,
   "metadata": {},
   "outputs": [],
   "source": [
    "#Deliverable 3 Unit Test"
   ]
  },
  {
   "cell_type": "code",
   "execution_count": 47,
   "metadata": {},
   "outputs": [
    {
     "name": "stdout",
     "output_type": "stream",
     "text": [
      "Test 1 passed: Dataframe is not empty\n",
      "Test 2 passed: Expected years are present\n",
      "Test 3 passed: Expected age groups are present\n"
     ]
    }
   ],
   "source": [
    "def test_population_breakdown():\n",
    "    try:\n",
    "        df = population_breakdown([\"SAU\", \"WLD\"], [2021, 2023], gender=\"All\", min_age=16, max_age=50)\n",
    "        assert not df.empty, \"Test 1 failed: Dataframe is empty\"\n",
    "        print(\"Test 1 passed: Dataframe is not empty\")\n",
    "    except Exception as e:\n",
    "        print(f\"Test 1 failed with error: {e}\")\n",
    "    \n",
    "    try:\n",
    "        expected_years = [2021, 2023]\n",
    "        assert all(year in df.columns.levels[1] for year in expected_years), \"Test 2 failed: Missing expected years\"\n",
    "        print(\"Test 2 passed: Expected years are present\")\n",
    "    except Exception as e:\n",
    "        print(f\"Test 2 failed with error: {e}\")\n",
    "    \n",
    "    try:\n",
    "        expected_age_groups = [\n",
    "            \"Ages from: 15 to 19, Sex:ALL\", \"Ages from: 20 to 24, Sex:ALL\", \"Ages from: 25 to 29, Sex:ALL\",\n",
    "            \"Ages from: 30 to 34, Sex:ALL\", \"Ages from: 35 to 39, Sex:ALL\", \"Ages from: 40 to 44, Sex:ALL\"\n",
    "        ]\n",
    "        assert all(age in df.index for age in expected_age_groups), \"Test 3 failed: Missing expected age groups\"\n",
    "        print(\"Test 3 passed: Expected age groups are present\")\n",
    "    except Exception as e:\n",
    "        print(f\"Test 3 failed with error: {e}\")\n",
    "\n",
    "test_population_breakdown()"
   ]
  },
  {
   "cell_type": "code",
   "execution_count": 48,
   "metadata": {},
   "outputs": [],
   "source": [
    "#Deliverable 4 Unit Test"
   ]
  },
  {
   "cell_type": "code",
   "execution_count": 49,
   "metadata": {},
   "outputs": [
    {
     "name": "stdout",
     "output_type": "stream",
     "text": [
      "True\n",
      "True\n",
      "True\n",
      "True\n"
     ]
    }
   ],
   "source": [
    "## Test will pass if it returns true \n",
    "\n",
    "# Test for a valid year in the dataset\n",
    "result = population_pyramid(sau_df, '2010')\n",
    "print(\"True\" if isinstance(result, go.Figure) else \"Function error\")  # Should return a Plotly Figure object\n",
    "\n",
    "# Test that the function correctly handles data without any missing age groups\n",
    "all_ages_present = all(f\"Males {age}\" in sau_df.columns and f\"Females {age}\" in sau_df.columns for age in age_ranges)\n",
    "print(\"True\" if all_ages_present else \"Missing age groups in dataset\")\n",
    "\n",
    "# Test that the function returns a bar chart with the expected number of traces (Male & Female)\n",
    "valid_fig = population_pyramid(sau_df, '2010')\n",
    "print(\"True\" if isinstance(valid_fig, go.Figure) and len(valid_fig.data) == 2 else \"Plot structure error\")  # Should have 2 traces\n",
    "\n",
    "# Test that the function does not break if the input DataFrame has extra columns\n",
    "extra_col_df = sau_df.copy()\n",
    "extra_col_df[\"Extra Column\"] = 1  # Adding an irrelevant column\n",
    "result_extra = population_pyramid(extra_col_df, '2010')\n",
    "print(\"True\" if isinstance(result_extra, go.Figure) else \"Function error with extra columns\")\n"
   ]
  }
 ],
 "metadata": {
  "deepnote_notebook_id": "7f019913d5b84ddbae7512f60f2872c0",
  "kernelspec": {
   "display_name": "Python 3 (ipykernel)",
   "language": "python",
   "name": "python3"
  },
  "language_info": {
   "codemirror_mode": {
    "name": "ipython",
    "version": 3
   },
   "file_extension": ".py",
   "mimetype": "text/x-python",
   "name": "python",
   "nbconvert_exporter": "python",
   "pygments_lexer": "ipython3",
   "version": "3.11.11"
  }
 },
 "nbformat": 4,
 "nbformat_minor": 4
}
